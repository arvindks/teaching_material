{
 "cells": [
  {
   "cell_type": "code",
   "execution_count": 118,
   "metadata": {},
   "outputs": [],
   "source": [
    "import numpy as np\n",
    "import matplotlib.pyplot as plt\n",
    "from scipy.stats import rv_discrete\n"
   ]
  },
  {
   "cell_type": "code",
   "execution_count": 119,
   "metadata": {},
   "outputs": [],
   "source": [
    "def sketching_matrix(d, m, method = 'gaussian'):\n",
    "    \"\"\"\n",
    "        Construct oblivious sketches\n",
    "    \"\"\"\n",
    "    if method == 'gaussian':\n",
    "        S = np.random.randn(d, m)\n",
    "    elif method == 'rademacher':\n",
    "        S = 2*np.random.rand(d,m)-1\n",
    "    elif method == 'uniform':\n",
    "        S = np.random.uniform(-1,1, size=(d,m))\n",
    "    return (S/np.sqrt(d)) "
   ]
  },
  {
   "cell_type": "markdown",
   "metadata": {},
   "source": [
    "### Sketch-and-solve"
   ]
  },
  {
   "cell_type": "code",
   "execution_count": 120,
   "metadata": {},
   "outputs": [],
   "source": [
    "def sketch_and_solve(S, A, b):\n",
    "    ### Sketched matrix and rhs\n",
    "    SA = S @ A\n",
    "    Sb = S @ b\n",
    "\n",
    "    res = np.linalg.lstsq(SA, Sb, rcond = None)\n",
    "    return res[0], res[1]"
   ]
  },
  {
   "cell_type": "markdown",
   "metadata": {},
   "source": [
    "We consider a well-conditioned matrix with a small and large residual. See perturbation theory for least squares."
   ]
  },
  {
   "cell_type": "code",
   "execution_count": 121,
   "metadata": {},
   "outputs": [
    {
     "name": "stdout",
     "output_type": "stream",
     "text": [
      "Condition number of A 1.302044352890523\n",
      "Small residual case.\n",
      "Relative error in computed solutions 1.2660582624995693e-07\n",
      "Residual norms are 9.992877364427276e-10  and  7.785998477852096e-10\n",
      "\n",
      "\n",
      "Large residual case.\n",
      "Relative error in computed solutions 0.00014871300693121455\n",
      "Residual norms are 0.000990295539374152  and  0.00023268981402124812\n"
     ]
    }
   ],
   "source": [
    " m = 10**3; n = 20 \n",
    " A = np.random.randn(m, n)\n",
    " xt = np.ones((n,))\n",
    " print(\"Condition number of A\", np.linalg.cond(A))\n",
    " \n",
    " # Small residual\n",
    " b = A @ xt + 1.e-6*np.random.randn(m)\n",
    " res = np.linalg.lstsq(A, b, rcond = None)\n",
    " xls = res[0]\n",
    " rls = res[1]\n",
    "\n",
    "S = sketching_matrix(4*n, m, 'gaussian')\n",
    "xs, rs = sketch_and_solve(S, A, b)\n",
    "print(\"Small residual case.\")\n",
    "print(\"Relative error in computed solutions\", np.linalg.norm(xs-xls)/np.linalg.norm(xls))\n",
    "print(\"Residual norms are\", np.linalg.norm(rls) , \" and \",  np.linalg.norm(rs))\n",
    "\n",
    "print(\"\\n\")\n",
    "\n",
    "# Large residual\n",
    " b = A @ xt + 1.e-3*np.random.randn(m)\n",
    " res = np.linalg.lstsq(A, b, rcond = None)\n",
    " xls = res[0]\n",
    " rls = res[1]\n",
    "\n",
    "S = sketching_matrix(4*n, m, 'uniform')\n",
    "xs, rs= sketch_and_solve(S, A, b)\n",
    "print(\"Large residual case.\")\n",
    "print(\"Relative error in computed solutions\", np.linalg.norm(xs-xls)/np.linalg.norm(xls))\n",
    "print(\"Residual norms are\", np.linalg.norm(rls) , \" and \",  np.linalg.norm(rs))\n",
    "\n"
   ]
  },
  {
   "cell_type": "markdown",
   "metadata": {},
   "source": [
    "Now, let us consider a more ill-conditioned case"
   ]
  },
  {
   "cell_type": "code",
   "execution_count": 122,
   "metadata": {},
   "outputs": [
    {
     "name": "stdout",
     "output_type": "stream",
     "text": [
      "Condition number of A 876.9983470420676\n",
      "Small residual case.\n",
      "Relative error in computed solutions 2.969390374297675e-05\n",
      "Residual norms are 9.58764671904784e-10  and  1.0215133174743217e-09\n",
      "\n",
      "\n",
      "Large residual case.\n",
      "Relative error in computed solutions 0.018238019654605645\n",
      "Residual norms are 0.0009734849202032179  and  0.0006844643774046781\n"
     ]
    }
   ],
   "source": [
    "\n",
    "m = 10**3; n = 20 \n",
    "A = np.random.randn(m, n)@ np.diag(0.7**np.arange(n))\n",
    "xt = np.ones((n,))\n",
    "print(\"Condition number of A\", np.linalg.cond(A))\n",
    " \n",
    "# Small residual\n",
    "b = A @ xt + 1.e-6*np.random.randn(m)\n",
    "res = np.linalg.lstsq(A, b, rcond = None)\n",
    "xls = res[0]\n",
    "rls = res[1]\n",
    "\n",
    "S = sketching_matrix(4*n, m, 'gaussian')\n",
    "xs, rs = sketch_and_solve(S, A, b)\n",
    "print(\"Small residual case.\")\n",
    "print(\"Relative error in computed solutions\", np.linalg.norm(xs-xls)/np.linalg.norm(xls))\n",
    "print(\"Residual norms are\", np.linalg.norm(rls) , \" and \",  np.linalg.norm(rs))\n",
    "\n",
    "print(\"\\n\")\n",
    "\n",
    "# Large residual\n",
    "b = A @ xt + 1.e-3*np.random.randn(m)\n",
    "res = np.linalg.lstsq(A, b, rcond = None)\n",
    "xls = res[0]\n",
    "rls = res[1]\n",
    "\n",
    "S = sketching_matrix(4*n, m, 'gaussian')\n",
    "xs, rs= sketch_and_solve(S, A, b)\n",
    "print(\"Large residual case.\")\n",
    "print(\"Relative error in computed solutions\", np.linalg.norm(xs-xls)/np.linalg.norm(xls))\n",
    "print(\"Residual norms are\", np.linalg.norm(rls) , \" and \",  np.linalg.norm(rs))\n"
   ]
  },
  {
   "cell_type": "markdown",
   "metadata": {},
   "source": [
    "### Sketch-and-precondition"
   ]
  },
  {
   "cell_type": "code",
   "execution_count": 123,
   "metadata": {},
   "outputs": [],
   "source": [
    "from scipy.sparse.linalg import LinearOperator, lsqr\n",
    "def sketch_and_precondition(S, A, b, cond = True):\n",
    "        SA = S @ A\n",
    "        q, r = np.linalg.qr(SA, mode='reduced')\n",
    "\n",
    "        Ap = LinearOperator(shape = A.shape, \\\n",
    "                            matvec = lambda x: A @ np.linalg.solve(r, x), \\\n",
    "                            rmatvec = lambda x: np.linalg.solve(r.T, A.T @ x), dtype = 'd')\n",
    "        \n",
    "        if cond:\n",
    "                print(\"Prec cond number\", np.linalg.cond(np.linalg.solve(r.T, A.T).T))\n",
    "\n",
    "        res = lsqr(Ap,b)\n",
    "        print('The number of preconditioned LSQR iterations is ',res[2])\n",
    "        return np.linalg.solve(r, res[0])"
   ]
  },
  {
   "cell_type": "markdown",
   "metadata": {},
   "source": [
    "Well-conditioned case"
   ]
  },
  {
   "cell_type": "code",
   "execution_count": 124,
   "metadata": {},
   "outputs": [
    {
     "name": "stdout",
     "output_type": "stream",
     "text": [
      "Condition number of A 1.276795898752397\n",
      "Small residual case.\n",
      "Prec cond number 2.9008783171336012\n",
      "The number of preconditioned LSQR iterations is  21\n",
      "Relative error is  1.4876574243286504e-15\n",
      "The number of unpreconditioned LSQR iterations is  15\n",
      "\n",
      "\n",
      "Large residual case.\n",
      "Prec cond number 2.9008783171336012\n",
      "The number of preconditioned LSQR iterations is  20\n",
      "Relative error in computed solutions 1.104856639266863e-12\n",
      "The number of unpreconditioned LSQR iterations is  12\n"
     ]
    }
   ],
   "source": [
    "m = 10**3; n = 20 \n",
    "A = np.random.randn(m, n)\n",
    "xt = np.ones((n,))\n",
    "print(\"Condition number of A\", np.linalg.cond(A))\n",
    " \n",
    "# Small residual\n",
    "b = A @ xt + 1.e-6*np.random.randn(m)\n",
    "res = np.linalg.lstsq(A, b, rcond = None)\n",
    "xls = res[0]\n",
    "rls = res[1]\n",
    "\n",
    "print('Small residual case.')\n",
    "S = sketching_matrix(4*n, m, 'gaussian')\n",
    "xs= sketch_and_precondition(S, A, b)\n",
    "print(\"Relative error is \", np.linalg.norm(xs-xls)/np.linalg.norm(xls))\n",
    "\n",
    "res = lsqr(A,b)\n",
    "print('The number of unpreconditioned LSQR iterations is ',res[2])\n",
    "\n",
    "print(\"\\n\")\n",
    "\n",
    "# Large residual\n",
    "b = A @ xt + 1.e-3*np.random.randn(m)\n",
    "res = np.linalg.lstsq(A, b, rcond = None)\n",
    "xls = res[0]\n",
    "rls = res[1]\n",
    "\n",
    "print(\"Large residual case.\")\n",
    "xs= sketch_and_precondition(S, A, b)\n",
    "print(\"Relative error in computed solutions\", np.linalg.norm(xs-xls)/np.linalg.norm(xls))\n",
    "res = lsqr(A,b)\n",
    "print('The number of unpreconditioned LSQR iterations is ',res[2])\n"
   ]
  },
  {
   "cell_type": "markdown",
   "metadata": {},
   "source": [
    "Ill-conditioned case"
   ]
  },
  {
   "cell_type": "code",
   "execution_count": 125,
   "metadata": {},
   "outputs": [
    {
     "name": "stdout",
     "output_type": "stream",
     "text": [
      "Condition number of A 521521.5204568721\n",
      "Small residual case.\n",
      "Prec cond number 2.713826061334507\n",
      "The number of preconditioned LSQR iterations is  21\n",
      "Relative error is  8.360127386202404e-11\n",
      "The number of unpreconditioned LSQR iterations is  40\n",
      "\n",
      "\n",
      "Large residual case.\n",
      "Prec cond number 2.713826061334507\n",
      "The number of preconditioned LSQR iterations is  19\n",
      "Relative error in computed solutions 1.26544328594752e-07\n",
      "The number of unpreconditioned LSQR iterations is  40\n"
     ]
    }
   ],
   "source": [
    "m = 10**3; n = 20 \n",
    "A = np.random.randn(m, n)@ np.diag(0.5**np.arange(n))\n",
    "xt = np.ones((n,))\n",
    "print(\"Condition number of A\", np.linalg.cond(A))\n",
    " \n",
    "# Small residual\n",
    "b = A @ xt + 1.e-6*np.random.randn(m)\n",
    "res = np.linalg.lstsq(A, b, rcond = None)\n",
    "xls = res[0]\n",
    "rls = res[1]\n",
    "\n",
    "print('Small residual case.')\n",
    "S = sketching_matrix(4*n, m, 'gaussian')\n",
    "xs= sketch_and_precondition(S, A, b)\n",
    "print(\"Relative error is \", np.linalg.norm(xs-xls)/np.linalg.norm(xls))\n",
    "\n",
    "res = lsqr(A,b)\n",
    "print('The number of unpreconditioned LSQR iterations is ',res[2])\n",
    "\n",
    "\n",
    "print(\"\\n\")\n",
    "\n",
    "# Large residual\n",
    "b = A @ xt + 1.e-3*np.random.randn(m)\n",
    "res = np.linalg.lstsq(A, b, rcond = None)\n",
    "xls = res[0]\n",
    "rls = res[1]\n",
    "\n",
    "print(\"Large residual case.\")\n",
    "xs= sketch_and_precondition(S, A, b)\n",
    "print(\"Relative error in computed solutions\", np.linalg.norm(xs-xls)/np.linalg.norm(xls))\n",
    "res = lsqr(A,b)\n",
    "print('The number of unpreconditioned LSQR iterations is ',res[2])"
   ]
  },
  {
   "cell_type": "markdown",
   "metadata": {},
   "source": [
    "### Large-sparse case"
   ]
  },
  {
   "cell_type": "code",
   "execution_count": 130,
   "metadata": {},
   "outputs": [
    {
     "name": "stdout",
     "output_type": "stream",
     "text": [
      "(1033, 320) (1033, 1)\n",
      "Condition number of A 166.133339755426\n",
      "The number of unpreconditioned LSQR iterations is  179\n",
      "The number of preconditioned LSQR iterations is  62\n"
     ]
    },
    {
     "data": {
      "image/png": "[encoded data removed]",
      "text/plain": [
       "<Figure size 432x288 with 1 Axes>"
      ]
     },
     "metadata": {
      "needs_background": "light"
     },
     "output_type": "display_data"
    }
   ],
   "source": [
    "from scipy.io import loadmat\n",
    "mat = loadmat('mat/well1033.mat')\n",
    "A = mat['Problem'][0][0]['A']\n",
    "b = mat['Problem'][0][0]['b']\n",
    "print(A.shape, b.shape)\n",
    "plt.spy(A)\n",
    "print('Condition number of A', np.linalg.cond(A.todense()))\n",
    "\n",
    "res = lsqr(A,b)\n",
    "print('The number of unpreconditioned LSQR iterations is ',res[2])\n",
    "\n",
    "S = sketching_matrix(2*A.shape[1], A.shape[0], 'gaussian')\n",
    "xs= sketch_and_precondition(S, A, b, cond = False)"
   ]
  },
  {
   "cell_type": "code",
   "execution_count": 133,
   "metadata": {},
   "outputs": [
    {
     "name": "stdout",
     "output_type": "stream",
     "text": [
      "(1850, 712) (1850, 1)\n",
      "Condition number of A 1404.9046829260417\n",
      "The number of unpreconditioned LSQR iterations is  1424\n",
      "The number of preconditioned LSQR iterations is  183\n"
     ]
    },
    {
     "data": {
      "image/png": "[encoded data removed]",
      "text/plain": [
       "<Figure size 432x288 with 1 Axes>"
      ]
     },
     "metadata": {
      "needs_background": "light"
     },
     "output_type": "display_data"
    }
   ],
   "source": [
    "from scipy.io import loadmat\n",
    "mat = loadmat('mat/illc1850.mat')\n",
    "A = mat['Problem'][0][0]['A']\n",
    "b = mat['Problem'][0][0]['b']\n",
    "print(A.shape, b.shape)\n",
    "plt.spy(A)\n",
    "print('Condition number of A', np.linalg.cond(A.todense()))\n",
    "res = lsqr(A,b)\n",
    "print('The number of unpreconditioned LSQR iterations is ',res[2])\n",
    "\n",
    "S = sketching_matrix(int(1.2*A.shape[1]), A.shape[0], 'gaussian')\n",
    "xs= sketch_and_precondition(S, A, b, cond = False)"
   ]
  },
  {
   "cell_type": "code",
   "execution_count": null,
   "metadata": {},
   "outputs": [],
   "source": []
  },
  {
   "cell_type": "code",
   "execution_count": null,
   "metadata": {},
   "outputs": [],
   "source": [
    "\n"
   ]
  }
 ],
 "metadata": {
  "kernelspec": {
   "display_name": "base",
   "language": "python",
   "name": "python3"
  },
  "language_info": {
   "codemirror_mode": {
    "name": "ipython",
    "version": 3
   },
   "file_extension": ".py",
   "mimetype": "text/x-python",
   "name": "python",
   "nbconvert_exporter": "python",
   "pygments_lexer": "ipython3",
   "version": "3.11.4"
  },
  "orig_nbformat": 4
 },
 "nbformat": 4,
 "nbformat_minor": 2
}
