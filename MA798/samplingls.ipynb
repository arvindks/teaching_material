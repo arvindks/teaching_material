{
 "cells": [
  {
   "cell_type": "code",
   "execution_count": 35,
   "metadata": {},
   "outputs": [],
   "source": [
    "import numpy as np\n",
    "import matplotlib.pyplot as plt\n",
    "from scipy.stats import rv_discrete\n",
    "from random import choices"
   ]
  },
  {
   "cell_type": "code",
   "execution_count": 45,
   "metadata": {},
   "outputs": [],
   "source": [
    "def unif_sample(n, k, method = 'replacement'):\n",
    "    if method == 'replacement':\n",
    "        ind = np.array(choices(range(n), k=k))\n",
    "    elif method == 'noreplacement':\n",
    "        ind = np.random.permutation(range(n))[:k]\n",
    "    elif method == 'bernoulli':\n",
    "        rv = rv_discrete(values=((0,1), (1-k/n, k/n)))\n",
    "        ind = np.argwhere(rv.rvs(size=(n,))).flatten()\n",
    "\n",
    "    return ind\n",
    "\n"
   ]
  },
  {
   "cell_type": "code",
   "execution_count": 46,
   "metadata": {},
   "outputs": [],
   "source": [
    "from scipy.sparse.linalg import LinearOperator, lsqr\n",
    "def sketch_and_precondition(A, b, ind, cond = True):\n",
    "        m = A.shape[0]\n",
    "        d = ind.size\n",
    "        SA = np.sqrt(m/d)*A[ind,:]\n",
    "        q, r = np.linalg.qr(SA, mode='reduced')\n",
    "\n",
    "        Ap = LinearOperator(shape = A.shape, \\\n",
    "                            matvec = lambda x: A @ np.linalg.solve(r, x), \\\n",
    "                            rmatvec = lambda x: np.linalg.solve(r.T, A.T @ x), dtype = 'd')\n",
    "        \n",
    "        if cond:\n",
    "                print(\"Prec cond number\", np.linalg.cond(np.linalg.solve(r.T, A.T).T))\n",
    "\n",
    "        res = lsqr(Ap,b)\n",
    "        print('The number of preconditioned LSQR iterations is ',res[2])\n",
    "        return np.linalg.solve(r, res[0])"
   ]
  },
  {
   "cell_type": "markdown",
   "metadata": {},
   "source": [
    "### Ill-conditioned case, with replacement"
   ]
  },
  {
   "cell_type": "code",
   "execution_count": 47,
   "metadata": {},
   "outputs": [
    {
     "name": "stdout",
     "output_type": "stream",
     "text": [
      "Condition number of A 59366.46151000063\n",
      "Small residual case.\n",
      "Prec cond number 3.262316573634254\n",
      "The number of preconditioned LSQR iterations is  17\n",
      "Relative error is  0.011603532462770034\n",
      "The number of unpreconditioned LSQR iterations is  100\n",
      "\n",
      "\n",
      "Large residual case.\n",
      "Prec cond number 5.039286550304222\n",
      "The number of preconditioned LSQR iterations is  31\n",
      "Relative error in computed solutions 1.0204216332837246e-05\n",
      "The number of unpreconditioned LSQR iterations is  100\n"
     ]
    }
   ],
   "source": [
    "m = 10**3; n = 50 \n",
    "A = np.random.randn(m, n) @ np.diag(0.8**np.arange(n))\n",
    "xt = np.ones((n,))\n",
    "print(\"Condition number of A\", np.linalg.cond(A))\n",
    " \n",
    "# Small residual\n",
    "b = A @ xt + 1.e-6*np.random.randn(m)\n",
    "res = np.linalg.lstsq(A, b, rcond = None)\n",
    "xls = res[0]\n",
    "rls = res[1]\n",
    "\n",
    "print('Small residual case.')\n",
    "ind = unif_sample(m, 3*n, 'replacement')\n",
    "xs= sketch_and_precondition(A, b, ind)\n",
    "print(\"Relative error is \", np.linalg.norm(xs-xls)/np.linalg.norm(xls))\n",
    "\n",
    "res = lsqr(A,b)\n",
    "print('The number of unpreconditioned LSQR iterations is ',res[2])\n",
    "\n",
    "print(\"\\n\")\n",
    "\n",
    "# Large residual\n",
    "b = A @ xt + 1.e-3*np.random.randn(m)\n",
    "res = np.linalg.lstsq(A, b, rcond = None)\n",
    "xls = res[0]\n",
    "rls = res[1]\n",
    "\n",
    "print(\"Large residual case.\")\n",
    "ind = unif_sample(m, 2*n, 'replacement')\n",
    "xs= sketch_and_precondition(A, b, ind)\n",
    "print(\"Relative error in computed solutions\", np.linalg.norm(xs-xls)/np.linalg.norm(xls))\n",
    "res = lsqr(A,b)\n",
    "print('The number of unpreconditioned LSQR iterations is ',res[2])"
   ]
  },
  {
   "cell_type": "markdown",
   "metadata": {},
   "source": [
    "### Comparing different sampling methods"
   ]
  },
  {
   "cell_type": "code",
   "execution_count": 51,
   "metadata": {},
   "outputs": [
    {
     "name": "stdout",
     "output_type": "stream",
     "text": [
      "Condition number of A 58366.73008999272\n",
      "Prec cond number 6.129312295202938\n",
      "The number of preconditioned LSQR iterations is  33\n",
      "Relative error (replacement) is 1.2611738092342175e-05\n",
      "Prec cond number 4.668834938550401\n",
      "The number of preconditioned LSQR iterations is  30\n",
      "Relative error (noreplacement) is 1.0299500978667102e-05\n",
      "Prec cond number 5.397927612469492\n",
      "The number of preconditioned LSQR iterations is  34\n",
      "Relative error (bernoulli) is 9.197520454244763e-06\n",
      "The number of unpreconditioned LSQR iterations is  100\n"
     ]
    }
   ],
   "source": [
    "m = 10**3; n = 50 \n",
    "A = np.random.randn(m, n) @ np.diag(0.8**np.arange(n))\n",
    "xt = np.ones((n,))\n",
    "print(\"Condition number of A\", np.linalg.cond(A))\n",
    "\n",
    "\n",
    "# Large residual\n",
    "b = A @ xt + 1.e-3*np.random.randn(m)\n",
    "res = np.linalg.lstsq(A, b, rcond = None)\n",
    "xls = res[0]\n",
    "rls = res[1]\n",
    "\n",
    "ind = unif_sample(m, 2*n, 'replacement')\n",
    "xs= sketch_and_precondition(A, b, ind)\n",
    "print(\"Relative error (replacement) is\", np.linalg.norm(xs-xls)/np.linalg.norm(xls))\n",
    "ind = unif_sample(m, 2*n, 'noreplacement')\n",
    "xs= sketch_and_precondition(A, b, ind)\n",
    "print(\"Relative error (noreplacement) is\", np.linalg.norm(xs-xls)/np.linalg.norm(xls))\n",
    "ind = unif_sample(m, 2*n, 'bernoulli')\n",
    "xs= sketch_and_precondition(A, b, ind)\n",
    "print(\"Relative error (bernoulli) is\", np.linalg.norm(xs-xls)/np.linalg.norm(xls))\n",
    "res = lsqr(A,b)\n",
    "print('The number of unpreconditioned LSQR iterations is ',res[2])"
   ]
  },
  {
   "cell_type": "markdown",
   "metadata": {},
   "source": [
    "### Effect of oversampling"
   ]
  },
  {
   "cell_type": "code",
   "execution_count": 91,
   "metadata": {},
   "outputs": [
    {
     "name": "stdout",
     "output_type": "stream",
     "text": [
      "Condition number of A 59085.54908391729\n",
      "Number of samples: 50\n",
      "Prec cond number 1.609344547070061e+18\n",
      "The number of preconditioned LSQR iterations is  2\n",
      "Relative error: 414.2251670231169\n",
      "\n",
      "\n",
      "Number of samples: 60\n",
      "Prec cond number 20.7175216724068\n",
      "The number of preconditioned LSQR iterations is  52\n",
      "Relative error: 3.64807679387587e-05\n",
      "\n",
      "\n",
      "Number of samples: 75\n",
      "Prec cond number 8.00862787181412\n",
      "The number of preconditioned LSQR iterations is  41\n",
      "Relative error: 2.361735816815901e-05\n",
      "\n",
      "\n",
      "Number of samples: 100\n",
      "Prec cond number 6.4119115831354865\n",
      "The number of preconditioned LSQR iterations is  33\n",
      "Relative error: 1.4393940196372111e-05\n",
      "\n",
      "\n"
     ]
    }
   ],
   "source": [
    "m = 10**3; n = 50 \n",
    "A = np.random.randn(m, n) @ np.diag(0.8**np.arange(n))\n",
    "xt = np.ones((n,))\n",
    "print(\"Condition number of A\", np.linalg.cond(A))\n",
    "\n",
    "\n",
    "b = A @ xt + 1.e-3*np.random.randn(m)\n",
    "res = np.linalg.lstsq(A, b, rcond = None)\n",
    "xls = res[0]\n",
    "rls = res[1]\n",
    "for d in [n, int(1.2*n), int(1.5*n), 2*n]:\n",
    "    ind = unif_sample(m, d, 'replacement')\n",
    "    print(\"Number of samples:\", d)\n",
    "    xs= sketch_and_precondition(A, b, ind)\n",
    "    print(\"Relative error:\", np.linalg.norm(xs-xls)/np.linalg.norm(xls))\n",
    "    print(\"\\n\")"
   ]
  },
  {
   "cell_type": "markdown",
   "metadata": {},
   "source": [
    "### Pathological case: High coherence"
   ]
  },
  {
   "cell_type": "code",
   "execution_count": 92,
   "metadata": {},
   "outputs": [
    {
     "name": "stdout",
     "output_type": "stream",
     "text": [
      "Condition number of A 1.0\n",
      "Number of samples: 50\n",
      "Condition number of SA: inf\n",
      "\n",
      "\n",
      "Number of samples: 100\n",
      "Condition number of SA: inf\n",
      "\n",
      "\n",
      "Number of samples: 150\n",
      "Condition number of SA: inf\n",
      "\n",
      "\n"
     ]
    }
   ],
   "source": [
    "m = 10**3; n = 50 \n",
    "A = np.zeros((m,n), dtype ='d'); A[:n, :] = np.eye(n)\n",
    "xt = np.ones((n,))\n",
    "print(\"Condition number of A\", np.linalg.cond(A))\n",
    "\n",
    "\n",
    "b = A @ xt + 1.e-3*np.random.randn(m)\n",
    "res = np.linalg.lstsq(A, b, rcond = None)\n",
    "xls = res[0]\n",
    "rls = res[1]\n",
    "for d in [n,  2*n, 3*n]:\n",
    "    ind = unif_sample(m, d, 'replacement')\n",
    "    print(\"Number of samples:\", d)\n",
    "    SA = np.sqrt(m/d)*A[ind,:]\n",
    "    print('Condition number of SA:', np.linalg.cond(SA))\n",
    "    print(\"\\n\")"
   ]
  },
  {
   "cell_type": "markdown",
   "metadata": {},
   "source": [
    "### Pathological case: with Gaussians"
   ]
  },
  {
   "cell_type": "code",
   "execution_count": 65,
   "metadata": {},
   "outputs": [
    {
     "name": "stdout",
     "output_type": "stream",
     "text": [
      "Condition number of A 1.0\n",
      "Number of samples: 50\n",
      "Condition number of SA: 73.63757584103615\n",
      "\n",
      "\n",
      "Number of samples: 60\n",
      "Condition number of SA: 14.998776878811622\n",
      "\n",
      "\n",
      "Number of samples: 75\n",
      "Condition number of SA: 9.775729107327754\n",
      "\n",
      "\n",
      "Number of samples: 100\n",
      "Condition number of SA: 4.768392718181062\n",
      "\n",
      "\n",
      "Number of samples: 150\n",
      "Condition number of SA: 3.168044714807465\n",
      "\n",
      "\n"
     ]
    }
   ],
   "source": [
    "m = 10**3; n = 50 \n",
    "A = np.zeros((m,n), dtype ='d'); A[:n, :] = np.eye(n)\n",
    "xt = np.ones((n,))\n",
    "print(\"Condition number of A\", np.linalg.cond(A))\n",
    "\n",
    "\n",
    "b = A @ xt + 1.e-3*np.random.randn(m)\n",
    "res = np.linalg.lstsq(A, b, rcond = None)\n",
    "xls = res[0]\n",
    "rls = res[1]\n",
    "for d in [n, int(1.2*n), int(1.5*n), 2*n, 3*n]:\n",
    "    S = np.random.randn(d,m)/np.sqrt(d)\n",
    "    print(\"Number of samples:\", d)\n",
    "    SA =S @A\n",
    "    print('Condition number of SA:', np.linalg.cond(SA))\n",
    "    print(\"\\n\")"
   ]
  },
  {
   "cell_type": "markdown",
   "metadata": {},
   "source": [
    "### Blendenpik: simplified implementation"
   ]
  },
  {
   "cell_type": "code",
   "execution_count": 86,
   "metadata": {},
   "outputs": [],
   "source": [
    "from scipy.fftpack import dct\n",
    "\n",
    "def blendenpik(A, b, d, cond=True):\n",
    "    m = A.shape[0]\n",
    "    ind = unif_sample(m, d)\n",
    "\n",
    "    rv = rv_discrete(values=((-1,1), (0.5, 0.5)))\n",
    "    D = np.diag(rv.rvs(size=(m,)))\n",
    "    SA = np.sqrt(m/d)*dct(D @ A, axis = 0, norm='ortho')[ind,:]\n",
    "\n",
    "    q, r = np.linalg.qr(SA, mode='reduced')\n",
    "\n",
    "    Ap = LinearOperator(shape = A.shape, \\\n",
    "                        matvec = lambda x: A @ np.linalg.solve(r, x), \\\n",
    "                        rmatvec = lambda x: np.linalg.solve(r.T, A.T @ x), dtype = 'd')\n",
    "        \n",
    "    if cond:\n",
    "        print(\"Prec cond number\", np.linalg.cond(np.linalg.solve(r.T, A.T).T))\n",
    "\n",
    "    res = lsqr(Ap,b)\n",
    "    print('The number of Blendenpik iterations is ',res[2])\n",
    "    return np.linalg.solve(r, res[0])"
   ]
  },
  {
   "cell_type": "code",
   "execution_count": 87,
   "metadata": {},
   "outputs": [
    {
     "name": "stdout",
     "output_type": "stream",
     "text": [
      "Condition number of A 57011.56074456341\n",
      "Small residual case.\n",
      "Prec cond number 3.330420263207191\n",
      "The number of Blendenpik iterations is  17\n",
      "Relative error is  0.01874599243490038\n",
      "The number of unpreconditioned LSQR iterations is  100\n",
      "\n",
      "\n",
      "Large residual case.\n",
      "Prec cond number 3.803518783862722\n",
      "The number of Blendenpik iterations is  27\n",
      "Relative error in computed solutions 4.919630590481288e-06\n",
      "The number of unpreconditioned LSQR iterations is  100\n"
     ]
    }
   ],
   "source": [
    "m = 10**3; n = 50 \n",
    "A = np.random.randn(m, n) @ np.diag(0.8**np.arange(n))\n",
    "xt = np.ones((n,))\n",
    "print(\"Condition number of A\", np.linalg.cond(A))\n",
    " \n",
    "# Small residual\n",
    "b = A @ xt + 1.e-6*np.random.randn(m)\n",
    "res = np.linalg.lstsq(A, b, rcond = None)\n",
    "xls = res[0]\n",
    "rls = res[1]\n",
    "\n",
    "print('Small residual case.')\n",
    "ind = unif_sample(m, 3*n, 'replacement')\n",
    "xs= blendenpik(A, b, 3*n)\n",
    "print(\"Relative error is \", np.linalg.norm(xs-xls)/np.linalg.norm(xls))\n",
    "\n",
    "res = lsqr(A,b)\n",
    "print('The number of unpreconditioned LSQR iterations is ',res[2])\n",
    "\n",
    "print(\"\\n\")\n",
    "\n",
    "# Large residual\n",
    "b = A @ xt + 1.e-3*np.random.randn(m)\n",
    "res = np.linalg.lstsq(A, b, rcond = None)\n",
    "xls = res[0]\n",
    "rls = res[1]\n",
    "\n",
    "print(\"Large residual case.\")\n",
    "xs= blendenpik(A, b, 3*n)\n",
    "print(\"Relative error in computed solutions\", np.linalg.norm(xs-xls)/np.linalg.norm(xls))\n",
    "res = lsqr(A,b)\n",
    "print('The number of unpreconditioned LSQR iterations is ',res[2])"
   ]
  },
  {
   "cell_type": "code",
   "execution_count": 90,
   "metadata": {},
   "outputs": [],
   "source": [
    "### Pathological case: Blendenpik"
   ]
  },
  {
   "cell_type": "code",
   "execution_count": 88,
   "metadata": {},
   "outputs": [
    {
     "name": "stdout",
     "output_type": "stream",
     "text": [
      "Condition number of A 1.0\n",
      "Sample size is 50\n",
      "Prec cond number 4.4801932441008133e+18\n",
      "The number of Blendenpik iterations is  3\n",
      "Relative error: 0.95606978643339\n",
      "\n",
      "\n",
      "Sample size is 60\n",
      "Prec cond number 10850.752123156004\n",
      "The number of Blendenpik iterations is  37\n",
      "Relative error: 0.013027953745579276\n",
      "\n",
      "\n",
      "Sample size is 75\n",
      "Prec cond number 702.5093043443579\n",
      "The number of Blendenpik iterations is  49\n",
      "Relative error: 3.3979598022513443e-06\n",
      "\n",
      "\n",
      "Sample size is 100\n",
      "Prec cond number 1124.6387746982623\n",
      "The number of Blendenpik iterations is  47\n",
      "Relative error: 5.60708668241052e-06\n",
      "\n",
      "\n",
      "Sample size is 150\n",
      "Prec cond number 12.185698845444902\n",
      "The number of Blendenpik iterations is  24\n",
      "Relative error: 3.9231512370240596e-08\n",
      "\n",
      "\n"
     ]
    }
   ],
   "source": [
    "m = 10**3; n = 50 \n",
    "A = np.zeros((m,n), dtype ='d'); A[:n, :] = np.eye(n)\n",
    "xt = np.ones((n,))\n",
    "print(\"Condition number of A\", np.linalg.cond(A))\n",
    "\n",
    "\n",
    "b = A @ xt + 1.e-3*np.random.randn(m)\n",
    "res = np.linalg.lstsq(A, b, rcond = None)\n",
    "xls = res[0]\n",
    "rls = res[1]\n",
    "for d in [n, int(1.2*n), int(1.5*n), 2*n, 3*n]:\n",
    "    print('Sample size is', d)\n",
    "    xs = blendenpik(A, b, d)\n",
    "    print(\"Relative error:\", np.linalg.norm(xs-xls)/np.linalg.norm(xls))\n",
    "    print(\"\\n\")"
   ]
  },
  {
   "cell_type": "code",
   "execution_count": 40,
   "metadata": {},
   "outputs": [
    {
     "name": "stdout",
     "output_type": "stream",
     "text": [
      "[420 330 280 999 136]\n"
     ]
    }
   ],
   "source": [
    "def leverage_scores(A):\n",
    "    q, r = np.linalg.qr(A, mode='reduced')\n",
    "    ls = np.apply_along_axis(lambda x: np.linalg.norm(x)**2., 1, q)\n",
    "    rv = rv_discrete(values=(range(ls.size), ls/n))\n",
    "    return rv\n",
    "\n",
    "rv = leverage_scores(A)\n",
    "print(rv.rvs(size=5))"
   ]
  },
  {
   "cell_type": "markdown",
   "metadata": {},
   "source": []
  },
  {
   "cell_type": "code",
   "execution_count": null,
   "metadata": {},
   "outputs": [],
   "source": []
  }
 ],
 "metadata": {
  "kernelspec": {
   "display_name": "base",
   "language": "python",
   "name": "python3"
  },
  "language_info": {
   "codemirror_mode": {
    "name": "ipython",
    "version": 3
   },
   "file_extension": ".py",
   "mimetype": "text/x-python",
   "name": "python",
   "nbconvert_exporter": "python",
   "pygments_lexer": "ipython3",
   "version": "3.11.4"
  }
 },
 "nbformat": 4,
 "nbformat_minor": 2
}
