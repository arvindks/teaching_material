{
 "cells": [
  {
   "cell_type": "markdown",
   "metadata": {
    "slideshow": {
     "slide_type": "slide"
    }
   },
   "source": [
    "# Catastrophic cancellation\n",
    "\n",
    "In this notebook, we examine the cancellation errors due to subtraction. Paying attention to errors in floating point representation is important as these numerical disasters can attest:\n",
    "+ [Douglas Arnold - University of Minnesota](http://www-users.math.umn.edu/~arnold//disasters/)\n",
    "+ [Todd Arbogast - University of Texas at Austin](https://web.ma.utexas.edu/users/arbogast/misc/disasters.html)\n",
    "\n",
    "\n",
    "\n",
    "\n",
    "I highly encourage you to read these historical examples!    \n",
    "    \n"
   ]
  },
  {
   "cell_type": "code",
   "execution_count": 1,
   "metadata": {
    "slideshow": {
     "slide_type": "skip"
    }
   },
   "outputs": [],
   "source": [
    "\n",
    "import numpy as np\n",
    "\n",
    "import matplotlib.pyplot as plt\n",
    "%matplotlib inline"
   ]
  },
  {
   "cell_type": "markdown",
   "metadata": {
    "slideshow": {
     "slide_type": "slide"
    }
   },
   "source": [
    "## Example 1: Examing the conditioning of subtraction."
   ]
  },
  {
   "cell_type": "code",
   "execution_count": 2,
   "metadata": {},
   "outputs": [
    {
     "name": "stdout",
     "output_type": "stream",
     "text": [
      "The number x is 0.10000000000001, y is 0.1, and the true difference is 1e-14\n"
     ]
    }
   ],
   "source": [
    "x = 0.1 + 10**(-14.)\n",
    "y = 0.1 \n",
    "\n",
    "truediff = 10**(-14.)\n",
    "print(\"The number x is %0.15g, y is %g, and the true difference is %g\"%(x,y,truediff))"
   ]
  },
  {
   "cell_type": "markdown",
   "metadata": {
    "slideshow": {
     "slide_type": "slide"
    }
   },
   "source": [
    "### Compute the absolute and relative errors of the subtraction "
   ]
  },
  {
   "cell_type": "code",
   "execution_count": 3,
   "metadata": {},
   "outputs": [
    {
     "name": "stdout",
     "output_type": "stream",
     "text": [
      "The absolute error in subtraction is 5.88501e-18 and relative error in the subtraction is 0.000588501\n"
     ]
    }
   ],
   "source": [
    "computeddiff = x-y\n",
    "\n",
    "abs_err = np.abs(truediff - computeddiff)\n",
    "rel_err = abs_err/np.abs(truediff)\n",
    "\n",
    "print(\"The absolute error in subtraction is %.6g and relative error in the subtraction is %0.6g\" %( abs_err, rel_err))"
   ]
  },
  {
   "cell_type": "markdown",
   "metadata": {},
   "source": [
    "We observe that the absolute error is small, but the relative error is high. Why?"
   ]
  },
  {
   "cell_type": "markdown",
   "metadata": {
    "slideshow": {
     "slide_type": "slide"
    }
   },
   "source": [
    "### Error bounds\n",
    "\n",
    "Let $\\tilde{x}$ and $\\tilde{y}$ be approximations to $x$ and $y$ respectively. We know the bounds \n",
    "\n",
    "+ Absolute error\n",
    "$$ |(\\tilde{x} - \\tilde{y}) - (x-y)| \\leq 2 \\max\\left\\{ |\\tilde{x}-x|,|\\tilde{y}-y| \\right\\}, $$ \n",
    "\n",
    "+ Relative error \n",
    "$$ \\frac{|(\\tilde{x} - \\tilde{y}) - (x-y)|}{|x-y|} \\leq \\frac{|x| + |y|}{|x-y|} \\max\\left\\{ \\frac{|\\tilde{x}-x|}{|x|},\\frac{|\\tilde{y}-y|}{|y|} \\right\\}. $$\n",
    "\n"
   ]
  },
  {
   "cell_type": "markdown",
   "metadata": {
    "slideshow": {
     "slide_type": "slide"
    }
   },
   "source": [
    "\n",
    "In this example:\n",
    "\n",
    "+ The (relative) condition number is\n",
    "\n",
    "$$ \\kappa = \\frac{|x| + |y|}{|x-y|} .$$\n",
    " \n",
    "+ Since $\\tilde{x}$ and $\\tilde{y}$ are floating point representations (in IEEE double precision) of $x$ and $y$ respectively: \n",
    "$$ \\frac{|\\tilde{x}-x|}{|x|} \\leq u \\qquad \\frac{|\\tilde{y}-y|}{|y|} \\leq u,$$\n",
    "\n",
    "where $u \\approx 1.11 \\times 10^{-16}$ is the unit roundoff. "
   ]
  },
  {
   "cell_type": "code",
   "execution_count": 4,
   "metadata": {
    "slideshow": {
     "slide_type": "slide"
    }
   },
   "outputs": [
    {
     "name": "stdout",
     "output_type": "stream",
     "text": [
      "The condition number is (approximately) 2e+13\n",
      "Machine epsilon is 2.2204e-16 and unit roundoff is 1.1102e-16\n",
      "The upper bound for the relative error is (approximately) 0.00222045\n",
      "By comparison the true relative error is 0.000588501\n"
     ]
    }
   ],
   "source": [
    "# Compute the condition number\n",
    "cond = 2.0000000000001*10**(13) # (|x|+|y|)/|x-y|\n",
    "\n",
    "# Extract information about machine epsilon and unit roundoff-error\n",
    "eps = np.finfo(float).eps\n",
    "u = eps/2.\n",
    "\n",
    "print('The condition number is (approximately) %g' %(cond))\n",
    "print('Machine epsilon is %.5g and unit roundoff is %.5g'%(eps,u))\n",
    "print('The upper bound for the relative error is (approximately) %.6g'%(cond*u))\n",
    "\n",
    "print('By comparison the true relative error is %.6g' %(rel_err))"
   ]
  },
  {
   "cell_type": "markdown",
   "metadata": {
    "slideshow": {
     "slide_type": "slide"
    }
   },
   "source": [
    "### Observations:\n",
    "\n",
    "+ We see that the upper bound gives us an indication of how large the relative error can be; indeed, the computed error is within this bound. \n",
    "\n",
    "+ In the worst case scenario, the upper bound suggests that we can only expect the solution to be accurate to 3 decimal places.  "
   ]
  },
  {
   "cell_type": "markdown",
   "metadata": {
    "slideshow": {
     "slide_type": "slide"
    }
   },
   "source": [
    "## Example 2: Polynomial evaluation\n",
    "\n",
    "We consider the polynomial $p(x) = (x-2)^9$, which is equivalently \n",
    "\n",
    "$$  \\begin{align} p(x) = &  \\>x^9 - 18x^8 + 144x^7 - 672x^6 + 2016x^5 \\\\ & - 4032x^4 + 5376x^3 - 4608x^2 + 2304x - 512.\n",
    "\\end{align}$$ \n",
    "\n",
    "\n",
    "We see what happens when compute it numerically using two mathematically equivalent ways. "
   ]
  },
  {
   "cell_type": "code",
   "execution_count": 5,
   "metadata": {
    "slideshow": {
     "slide_type": "slide"
    }
   },
   "outputs": [
    {
     "data": {
      "text/plain": [
       "<matplotlib.legend.Legend at 0x11f2333b0>"
      ]
     },
     "execution_count": 5,
     "metadata": {},
     "output_type": "execute_result"
    },
    {
     "data": {
      "image/png": "[encoded data removed]",
      "text/plain": [
       "<Figure size 640x480 with 1 Axes>"
      ]
     },
     "metadata": {},
     "output_type": "display_data"
    }
   ],
   "source": [
    "x = np.linspace(1.92,2.08,100)\n",
    "\n",
    "p1x = (x-2.)**9.\n",
    "p2x = x**9. - 18.*x**8. + 144.*x**7. - 672.*x**6. + 2016.*x**5. - 4032.*x**4 + 5376.*x**3 - 4608.*x**2 + 2304.*x - 512.\n",
    "\n",
    "\n",
    "plt.plot(x,p1x, 'k-', x, p2x, 'r--', linewidth = 2.0)\n",
    "plt.xlabel('x', fontsize = 16)\n",
    "plt.ylabel('p(x)', fontsize = 18)\n",
    "plt.legend(('$(x-2)^9$','Expanded polynomial'),fontsize = 16, loc = 'upper left')"
   ]
  },
  {
   "cell_type": "markdown",
   "metadata": {
    "slideshow": {
     "slide_type": "slide"
    }
   },
   "source": [
    "## Example 3: Evaluating 1 - cosx \n",
    "\n",
    "Consider the function \n",
    "\n",
    "$$ f(x) = 1 - \\cos x \\qquad x \\approx 0. $$\n",
    "\n",
    "An alternative representation to $f(x)$ is \n",
    "\n",
    "$$ f(x) = (1 - \\cos x)\\frac{1+\\cos x}{1 + \\cos x} = \\frac{1 - \\cos^2 x}{1+ \\cos(x)} = \\frac{\\sin^2x}{1+\\cos x}.$$\n",
    "\n"
   ]
  },
  {
   "cell_type": "markdown",
   "metadata": {
    "slideshow": {
     "slide_type": "slide"
    }
   },
   "source": [
    "Mathematically both formalas are equivalent when $x \\approx 0$. What happens when we evaluate them numerically?"
   ]
  },
  {
   "cell_type": "code",
   "execution_count": 6,
   "metadata": {
    "slideshow": {
     "slide_type": "-"
    }
   },
   "outputs": [
    {
     "name": "stdout",
     "output_type": "stream",
     "text": [
      "The results of the two formulas are 0 and 5e-21\n"
     ]
    }
   ],
   "source": [
    "x = 10**(-10.)\n",
    "\n",
    "f1x = 1 - np.cos(x)\n",
    "f2x = np.sin(x)**2./(1+np.cos(x))\n",
    "print('The results of the two formulas are %.12g and %.12g' %(f1x, f2x))"
   ]
  },
  {
   "cell_type": "markdown",
   "metadata": {
    "slideshow": {
     "slide_type": "slide"
    }
   },
   "source": [
    "Another related formulation is $$ f(x) = 1 - \\cos(x) = 2\\sin^2(x/2) .$$\n",
    "\n",
    "\n",
    "Implementing this formula, we get "
   ]
  },
  {
   "cell_type": "code",
   "execution_count": 7,
   "metadata": {
    "slideshow": {
     "slide_type": "-"
    }
   },
   "outputs": [
    {
     "name": "stdout",
     "output_type": "stream",
     "text": [
      "The results of the two formulas are 0 and 5e-21\n",
      "Third formula gives 5e-21\n"
     ]
    }
   ],
   "source": [
    "f3x = 2*np.sin(x/2)**2.\n",
    "print('The results of the two formulas are %.12g and %.12g' %(f1x, f2x))\n",
    "print('Third formula gives %g' % (f3x))"
   ]
  },
  {
   "cell_type": "markdown",
   "metadata": {
    "slideshow": {
     "slide_type": "subslide"
    }
   },
   "source": [
    "### Bottom line:\n",
    "+ the first formula is subject to cancellation errors since $\\cos(x) \\approx 1$ when $x$ is small. \n",
    "    \n",
    "+ The two other formulations avoid this by equivalent mathematical expressions. \n",
    "\n",
    "+ It's time to dust off those old math textbooks!"
   ]
  },
  {
   "cell_type": "markdown",
   "metadata": {
    "slideshow": {
     "slide_type": "slide"
    }
   },
   "source": [
    "## Example 4: Quadratic Equations\n",
    "\n",
    "Let $p,q$ be positive numbers and consider the quadratic equation \n",
    "$$x^2 -2px - q = 0,$$\n",
    "with the roots (verify this!)\n",
    "$$ x_{\\pm} = -p \\pm \\sqrt{p^2 + q}.$$\n",
    "\n",
    "\n",
    "Let us fix the following parameters:"
   ]
  },
  {
   "cell_type": "code",
   "execution_count": 8,
   "metadata": {},
   "outputs": [],
   "source": [
    "p = 10**10.\n",
    "q = 1"
   ]
  },
  {
   "cell_type": "markdown",
   "metadata": {
    "slideshow": {
     "slide_type": "slide"
    }
   },
   "source": [
    "We compute the roots naively using the formula, and using numpy's default implementation"
   ]
  },
  {
   "cell_type": "code",
   "execution_count": 9,
   "metadata": {},
   "outputs": [
    {
     "name": "stdout",
     "output_type": "stream",
     "text": [
      "The two roots are 0 and 2e+10 \n",
      "Using Numpy implementation, the roots are 2e+10 and -5e-11 \n"
     ]
    }
   ],
   "source": [
    "d = np.sqrt(p**2 + q)\n",
    "xp = d - p \n",
    "xm = d + p\n",
    "print('The two roots are %g and %g '% (xp, xm))\n",
    "\n",
    "xp, xm = np.roots([1,-2*p,-q])\n",
    "print('Using Numpy implementation, the roots are %g and %g ' %(xp, xm))"
   ]
  },
  {
   "cell_type": "markdown",
   "metadata": {
    "slideshow": {
     "slide_type": "slide"
    }
   },
   "source": [
    "We see that one of the roots is completely wrong because $\\sqrt{p^2 + q} \\approx p$, and there is the potential for cancellation errors. If we evaluate the positive root using the alternative formula \n",
    "\n",
    "\n",
    "$$ x_+ = (-p + \\sqrt{p^2 + q})\\frac{-p - \\sqrt{p^2 + q}}{-p - \\sqrt{p^2 + q}} = \\frac{-q}{-p - \\sqrt{p^2 + q}} = \\frac{-q}{x_-}.$$\n",
    "\n",
    "\n",
    "Let's see if we do better with this formula:"
   ]
  },
  {
   "cell_type": "markdown",
   "metadata": {},
   "source": []
  },
  {
   "cell_type": "code",
   "execution_count": 10,
   "metadata": {
    "slideshow": {
     "slide_type": "-"
    }
   },
   "outputs": [
    {
     "name": "stdout",
     "output_type": "stream",
     "text": [
      "Improved computation of $x_+$ gives -5e-11\n"
     ]
    }
   ],
   "source": [
    "print(\"Improved computation of $x_+$ gives %g\"% (-q/xp))"
   ]
  }
 ],
 "metadata": {
  "celltoolbar": "Slideshow",
  "kernelspec": {
   "display_name": "base",
   "language": "python",
   "name": "python3"
  },
  "language_info": {
   "codemirror_mode": {
    "name": "ipython",
    "version": 3
   },
   "file_extension": ".py",
   "mimetype": "text/x-python",
   "name": "python",
   "nbconvert_exporter": "python",
   "pygments_lexer": "ipython3",
   "version": "3.12.2"
  }
 },
 "nbformat": 4,
 "nbformat_minor": 2
}
