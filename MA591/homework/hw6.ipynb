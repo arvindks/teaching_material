{
 "cells": [
  {
   "cell_type": "markdown",
   "metadata": {},
   "source": [
    "# Homework 6\n",
    "\n",
    "## Instructions\n",
    "+ Please write you solutions in cells below each problem. Use multiple cells if necessary.\n",
    "+ This homework is for 10 points. Please do problem 1 and choose any two out of four problems (Problems 2-5).\n",
    "+ The solutions may be in the form of code, markdown, or a combination of both. Make an effort to present the solutions in a clean fashion.\n",
    "+ Please submit this notebook in your git repository, under the folder `problemset`. The notebook should be titled `DSC495_014_FA22_A6_unityid.ipynb.ipynb` (all lower case).\n",
    "\n",
    "\n",
    "\n",
    "An important feature of programming is to write functions to test the behavior of the functions (methods) that you will implement. In these exercises, for each function that you implement you will have to write a test function. The function will be named ```test_<function name>()``` and will not take any arguments. This will be a part of *unit testing* which we will also explore in future lectures.\n",
    "\n",
    "\n"
   ]
  },
  {
   "cell_type": "markdown",
   "metadata": {},
   "source": [
    "### Problem 1: Farenheit-Celsius conversion (2 points)\n",
    "    \n",
    "The formula for converting Fahrenheit degrees to Celsius reads\n",
    "$$ C = \\frac{5}{9}(F-32) .$$\n",
    "    \n",
    "1. Write a function ```celsius(f)``` that implements this formula and the inverse function ```farenheit(c)``` for going from Celsius to Farenheit degrees. \n",
    "2. Write a test function ```test_cf``` to check the performance of these functions. Devise your own ways to test the performance of the two functions. For example, ```celcius(farenheit(c))``` should give ```c``` and ```farenheit(celsius(f))``` should give ```f```.  "
   ]
  },
  {
   "cell_type": "code",
   "execution_count": null,
   "metadata": {},
   "outputs": [],
   "source": []
  },
  {
   "cell_type": "markdown",
   "metadata": {},
   "source": [
    "### Problem 2: Find pairs of characters (4 points)\n",
    "\n",
    "+ Write a function ```count_pairs(dna, pair)``` that returns the number of occurrences of a pair of characters (pair) in a DNA string (dna). For example, calling the function with dna as ’ACTGCTATCCATT’ and pair as ’AT’ will return 2.\n",
    "\n",
    "+ Write a function ```test_count_pairs()``` that verifies the correctness for at least three different DNA sequences of length 100 (you can generate such sequences using: http://www.faculty.ucr.edu/~mmaduro/random.htm. Set size to 100 and GC to 0.5). You may use the pair 'AT' or any pair (2 charaters) you wish to test the correctness.\n",
    "\n",
    "+ Write a function ```count_substr(dna,sub)```count how many times a certain string appears in another string. For example, the function returns 3 when called with the DNA string ’ACGTTACGGAACG’ and the substring ’ACG’. Write a test function similar to the instructions above to test its functionality.\n",
    "\n",
    "You may not use any special functions other than those discussed in lecture."
   ]
  },
  {
   "cell_type": "code",
   "execution_count": null,
   "metadata": {},
   "outputs": [],
   "source": []
  },
  {
   "cell_type": "markdown",
   "metadata": {},
   "source": [
    "### Problem 3: Write a sort function for a list of 4-tuples (4 points)\n",
    "    \n",
    "Below is a list (from https://github.com/hplgit/scipro-primer/blob/master/src/funcif/stars.txt) of the nearest stars and some of their properties. The list elements are 4-tuples containing the name of the star, the distance from the sun in light years, the apparent brightness, and the luminosity. The apparent brightness is how bright the stars look in our sky compared to the brightness of Sirius A. The luminosity, or the true brightness, is how bright the stars would look if all were at the same distance compared to the Sun."
   ]
  },
  {
   "cell_type": "code",
   "execution_count": 5,
   "metadata": {},
   "outputs": [],
   "source": [
    "data = [\n",
    "('Alpha Centauri A',    4.3,  0.26,      1.56),\n",
    "('Alpha Centauri B',    4.3,  0.077,     0.45),\n",
    "('Alpha Centauri C',    4.2,  0.00001,   0.00006),\n",
    "(\"Barnard’s Star\",      6.0,  0.00004,   0.0005),\n",
    "('Wolf 359',            7.7,  0.000001,  0.00002),\n",
    "('BD +36 degrees 2147', 8.2,  0.0003,    0.006),\n",
    "('Luyten 726-8 A', 8.4,  0.000003,  0.00006),\n",
    "('Luyten 726-8 B', 8.4,  0.000002,  0.00004),\n",
    "('Sirius A', 8.6,  1.00,      23.6),\n",
    "('Sirius B', 8.6,  0.001,     0.003),\n",
    "('Ross 154', 9.4,  0.00002,   0.0005),\n",
    "]\n"
   ]
  },
  {
   "cell_type": "markdown",
   "metadata": {},
   "source": [
    " + Write a function ```mysort(data, mode)``` that sorts the table by each of the modes: distrance (mode = 0), brightness (mode = 1), luminosity (mode = 2). ```data``` takes in the list above. You may use the python function ```sorted``` to perform the sorting.\n",
    " + Write a function ```sortall``` that calls ```mysort``` three times to print the tables sorted by name, distance, brightness, luminosity. Note you should be printing three tables. \n",
    " + Write a function ```test_sort``` that verifies whether a list of integers is sorted. It should return True if it is sorted and False otherwise. For example, ```test_sort([1,2,3])``` should return True and ```test_sort([1,3,2])``` should return False. Verify the correctness of your program on three different lists of size (at least) 10. "
   ]
  },
  {
   "cell_type": "code",
   "execution_count": null,
   "metadata": {},
   "outputs": [],
   "source": []
  },
  {
   "cell_type": "markdown",
   "metadata": {},
   "source": [
    "### Problem 4: Numerical Differentiation (4 points)\n",
    "    \n",
    "The formula\n",
    "\\begin{equation}\\label{eqn:cent}  f'(x)  \\approx \\frac{f(x+h) - f(x-h)}{2h} \\end{equation}\n",
    " can be used to find an approximate derivative of a mathematical function $f(x)$ if h is small.\n",
    "\n",
    "1. Write a function ```diff(f, x, h=1e-5)``` that returns the approximation of the derivative of a mathematical function represented by a Python function $f(x)$.\n",
    "2. Write a test function ```test_diff_quad()```  that verifies the implementation of the function ```diff```.  Use the fact that the approximation is exact for quadratic functions (at least for not so small h values that rounding errors  become significant – you have to experiment with finding a suitable tolerance and h). Try at least **3 different quadratics**. \n",
    "3. Write a function ```test_diff_fun()``` that computes the derivative of the function \n",
    "$$ f(x) = e^{-x} - e^{-2x}. $$\n",
    "Compute the absolute error with the true derivative for 6 different values of $x$, and $h = 10^{-15},10^{-14},\\dots,10^{-2},10^{-1}$. Display the result in the form of a table using the template below.\n",
    "\n",
    "| x = |  0.0  | 0.2 | 0.4| 0.6 | 0.8 | 1.0 | \n",
    "| ------------- |-------------| -----| ---- | --- | --- | --- |\n",
    "|h =  1e-1 | | | | | | | \n",
    "|h =  1e-2 | | | | | | | \n",
    "| ... | | | | | | | \n",
    "|h =  1e-14 | | | | | | | \n",
    "|h =  1e-15 | | | | | | | \n"
   ]
  },
  {
   "cell_type": "code",
   "execution_count": null,
   "metadata": {},
   "outputs": [],
   "source": []
  },
  {
   "cell_type": "markdown",
   "metadata": {},
   "source": [
    "### Problem 5: Numerical integration using Trapezoidal rule (4 points)\n",
    "    \n",
    "An approximation to the integral of a function $f(x)$ over an interval $(a,b)$ can be found by first approximating $f(x)$ by the straight line that goes through the end points $(a,f(a))$ and $(b,f(b))$, and then finding the area under the straight line, which is the area of a trapezoid. The resulting formula becomes\n",
    "\n",
    "$$ \\int_a^b f(x) dx \\approx \\frac{b-a}{2}(f(b)+f(a)). $$\n",
    "\n",
    "1. Write a function ```trapezint1(f, a, b)``` that returns this approximation to the integral. The argument f is a Python implementation $f(x)$ of the mathematical function $f(x)$.\n",
    "2. Use the approximation above to compute the following integrals: $\\int_0^\\pi \\cos(x) dx$,  and $\\int_0^{\\pi/2}\\sin(x)dx$. In each case, write out the absolute error between the exact integral and its approximation.\n",
    "3. A further improvement of the approximate integration method from c) is to divide the area under the $f(x)$ curve into $n$ equal-sized trapezoids. Based on this idea, derive the following formula for approximating the integral:\n",
    " $$ \\int_a^b f(x) dx \\approx \\frac{b-a}{2n} \\sum_{i=1}^{n-1}(f(x_i) + f(x_{i+1})), $$\n",
    "where $x_i = a +i(b-a)/n$ for $i=0,\\dots,n$ are the coordinates of the trapezoids. Implement this approximation in a Python function `trapezint(f, a, b, n)`. \n",
    "4. Verify the implementation of the function `trapezint`. You could use the examples from part 2 with $n=10, 50$, and $100$. Report the resulting accuracy."
   ]
  },
  {
   "cell_type": "code",
   "execution_count": null,
   "metadata": {},
   "outputs": [],
   "source": []
  }
 ],
 "metadata": {
  "kernelspec": {
   "display_name": "Python 3",
   "language": "python",
   "name": "python3"
  },
  "language_info": {
   "codemirror_mode": {
    "name": "ipython",
    "version": 3
   },
   "file_extension": ".py",
   "mimetype": "text/x-python",
   "name": "python",
   "nbconvert_exporter": "python",
   "pygments_lexer": "ipython3",
   "version": "3.8.8"
  }
 },
 "nbformat": 4,
 "nbformat_minor": 2
}
