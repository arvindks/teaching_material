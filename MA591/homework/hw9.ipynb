{
 "cells": [
  {
   "cell_type": "markdown",
   "metadata": {},
   "source": [
    "# Homework 9\n",
    "\n",
    "## Instructions\n",
    "+ Please write you solutions in cells below each problem. Use multiple cells if necessary. \n",
    "+ The solutions may be in the form of code, markdown, or a combination of both. Make an effort to present the solutions in a clean fashion.\n",
    "+ Please submit this notebook in your git repository, under the folder `problemset`. The notebook should be titled `DSC495_014_FA22_A9_unityid.ipynb``lastname_firstname_hw9.ipynb`. \n"
   ]
  },
  {
   "cell_type": "markdown",
   "metadata": {},
   "source": [
    "### Problem 1: Write a function given its test function. (3 points)\n",
    "\n",
    "We want to write a function `equal(a, b)` for determining if two strings `a` and `b` are equal. If equal, the function returns True and the string a. If not equal, the function returns False and a string displaying the differences. This latter string contains the characters common in a and b, but for every difference, the character from a and b are written with a pipe symbol ’|’ in between. In case a and b are of unequal length, pad the string displaying differences with a * where one of the strings lacks content. For example, `equal('abc', 'aBc')` would return False, 'ab|Bc', while `equal('abc', 'aBcd')` would return False, ’ab|Bc*|d’. Here is the test function:"
   ]
  },
  {
   "cell_type": "code",
   "execution_count": 2,
   "metadata": {},
   "outputs": [],
   "source": [
    "def test_equal():\n",
    "    assert equal('abc', 'abc') == (True, 'abc')\n",
    "    assert equal('abc', 'aBc') == (False, 'ab|Bc')\n",
    "    assert equal('abc', 'aBcd') == (False, 'ab|Bc*|d')\n",
    "    assert equal('Hello, World!', 'hello world') == \\\n",
    "           (False, 'H|hello,|  |wW|oo|rr|ll|dd|*!|*')\n",
    "    return\n",
    "    \n"
   ]
  },
  {
   "cell_type": "markdown",
   "metadata": {},
   "source": [
    "Write the equal function (which is handy to detect very small differences between texts). Your function should pass the tests given in the test_equal function. Taken from Langtangen, Exercise 4.15c. "
   ]
  },
  {
   "cell_type": "code",
   "execution_count": null,
   "metadata": {},
   "outputs": [],
   "source": []
  },
  {
   "cell_type": "markdown",
   "metadata": {},
   "source": [
    "### Problem 2: Vectorizing (2 points)\n",
    "\n",
    "\n",
    "In class we saw the $n \\times n$ minij matrix with entries\n",
    "$$ M_{ij} = \\min\\{i,j\\} \\qquad i,j = 1,\\dots, n.$$\n",
    "\n",
    "Create two different functions to implement the minij matrix: `minij` which implements with the nested for loop and `minij_vec` without for loops but with vectorization. Show using timings for n = [10, 100, 1000, 3000] that your second implementation is more efficient."
   ]
  },
  {
   "cell_type": "code",
   "execution_count": null,
   "metadata": {},
   "outputs": [],
   "source": []
  },
  {
   "cell_type": "markdown",
   "metadata": {},
   "source": [
    "### Problem 3: 2D Plotting (5 points) \n",
    "Consider the Rosenbrock function \n",
    "$$ f(x_1,x_2) = (x_1-1)^2  + 100(x_2-x_1^2)^2.$$\n",
    "\n",
    "1. Plot the function as three different subplots using `pcolormesh`, `contour` or `contourf`, `surf` (you need to use `mplot3d`).\n",
    "2. Find the global minimum using `scipy.optimize.minimize`.\n",
    "3. Plot the optimization path (i.e., the sequence of iterates) on a contour plot. Note that to get the optimization history use the `callback` option. Here is an example of a callback function; the list `hist` has the iteration history.  \n",
    "\n",
    "```\n",
    "hist = []\n",
    "def callback(xk):\n",
    "    hist.append(xk)\n",
    "    return \n",
    "```\n",
    "\n",
    "Hint: for help with plotting in 2D check out the lecture on matplotlib. The documentation of `scipy.optimize.minimize` is also helpful and this exercise will require you to read it carefully. There are several methods to choose from. Feel free to use just the default options."
   ]
  },
  {
   "cell_type": "code",
   "execution_count": null,
   "metadata": {},
   "outputs": [],
   "source": []
  }
 ],
 "metadata": {
  "kernelspec": {
   "display_name": "Python 3",
   "language": "python",
   "name": "python3"
  },
  "language_info": {
   "codemirror_mode": {
    "name": "ipython",
    "version": 3
   },
   "file_extension": ".py",
   "mimetype": "text/x-python",
   "name": "python",
   "nbconvert_exporter": "python",
   "pygments_lexer": "ipython3",
   "version": "3.8.8"
  }
 },
 "nbformat": 4,
 "nbformat_minor": 2
}
