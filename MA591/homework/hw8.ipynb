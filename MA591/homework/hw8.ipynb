{
 "cells": [
  {
   "cell_type": "markdown",
   "metadata": {},
   "source": [
    "# Homework 8\n",
    "\n",
    "## Instructions\n",
    "+ Please write you solutions in cells below each problem. Use multiple cells if necessary. \n",
    "+ The solutions may be in the form of code, markdown, or a combination of both. Make an effort to present the solutions in a clean fashion.\n",
    "+ Please submit this notebook in your git repository, under the folder `problemset`. The notebook should be titled DSC495_014_FA22_A8_unityid.ipynb.\n",
    "\n",
    "\n",
    "For all the plots below: please label each axes, add a legend (where appropriate), and title the plot. All the fontsizes should be at least $14$.\n"
   ]
  },
  {
   "cell_type": "markdown",
   "metadata": {},
   "source": [
    "### Problem 0: Project option \n",
    "\n",
    "See [this](https://github.ncsu.edu/asaibab/dsc495_014_fall2022/blob/main/materials/proj_proposal.md). If you submitted on time, you get bonus points. If you have not submitted your choice, please let me know ASAP.\n",
    "\n"
   ]
  },
  {
   "cell_type": "code",
   "execution_count": null,
   "metadata": {},
   "outputs": [],
   "source": []
  },
  {
   "cell_type": "markdown",
   "metadata": {},
   "source": [
    "### Problem 1: Quadratic functions (5 points)\n",
    "\n",
    "\n",
    " (Exercise 7.5 of Langtangen's book) Consider a quadratic function $f(x; a,b,c) = ax^2 + bx + c$. Your tasks are:\n",
    "1.  Make a class `Quadratic` for representing $f$, where $a, b,$ and $c$ are data attributes, and the methods are\n",
    "\n",
    "    + `__init__` for storing the attributes $a,b$, and $c$,\n",
    "    + `value` for computing a value of $f$ at a point $x$,\n",
    "    + `plot` for plotting the $f$ values in the interval $[L,R]$ at $n$ evenly spaced points,\n",
    "    + `roots` for computing the two roots (possibly complex).\n",
    "2. Write good docstrings to document the class `Quadratic`. Type `help(Quadratic)` to print the docstrings. \n",
    "3. Write a test function `testQuadratic()` for verifying the implementation of `value` and `roots`. Please generate at least three distinct test cases and compare your results with `numpy.roots`.  \n"
   ]
  },
  {
   "cell_type": "code",
   "execution_count": null,
   "metadata": {},
   "outputs": [],
   "source": []
  },
  {
   "cell_type": "markdown",
   "metadata": {},
   "source": [
    "### Problem 2: Derived classes (5 points) \n",
    "\n",
    "Write a base class called `Circle` with the following methods\n",
    "+ `__init__` for storing attributes (radius, center)\n",
    "+ `plot` for plotting the circle\n",
    "+ `area`, for computing the area of the circle\n",
    "+ `perimeter` for computing the perimeter of the circle\n",
    "\n",
    "\n",
    "Then, using `Circle` as a base class, write a derived class called `Ellipse` with the same functionalities. An ellipse is defined by a center, $a$ semi-major axis, and $b$ semi-minor axis.\n",
    "\n",
    "The area of an ellipse is $\\pi a b$, whereas the perimeter of an ellipse is given by the approximate formula (from [wikipedia](https://en.wikipedia.org/wiki/Ellipse))\n",
    "$$ \\text{Perimeter} \\approx \\pi(a + b) \\left( 1 + \\frac{3h}{10 + \\sqrt{4-3h}} \\right) \\qquad h = \\frac{(a-b)^2 }{(a+b)^2}.$$\n",
    "\n",
    "Is it better to derive `Ellipse` from `Circle` or vice versa? Briefly discuss.\n"
   ]
  },
  {
   "cell_type": "code",
   "execution_count": null,
   "metadata": {},
   "outputs": [],
   "source": []
  }
 ],
 "metadata": {
  "kernelspec": {
   "display_name": "Python 3 (ipykernel)",
   "language": "python",
   "name": "python3"
  },
  "language_info": {
   "codemirror_mode": {
    "name": "ipython",
    "version": 3
   },
   "file_extension": ".py",
   "mimetype": "text/x-python",
   "name": "python",
   "nbconvert_exporter": "python",
   "pygments_lexer": "ipython3",
   "version": "3.9.7"
  }
 },
 "nbformat": 4,
 "nbformat_minor": 2
}
