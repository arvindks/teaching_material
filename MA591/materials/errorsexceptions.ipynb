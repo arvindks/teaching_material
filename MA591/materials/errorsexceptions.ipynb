{
 "cells": [
  {
   "cell_type": "markdown",
   "metadata": {},
   "source": [
    "# Errors and exceptions \n",
    "\n",
    "Reading:\n",
    "+ Jake VanderPlas \"A whirlwind tour of Python.\" Pages 45-52\n",
    "+ Langtangen \"A primer on scientific programing with Python\" Chapter 4."
   ]
  },
  {
   "cell_type": "markdown",
   "metadata": {},
   "source": [
    "### Types of errors\n",
    "\n",
    "1. *Syntax errors*: These are usually caught by the compiler\n",
    "2. *Runtime errors*: examples include user input, divide by zero, etc.\n",
    "3. *Semantic errors*: Errors in logic, which are harder to catch.\n",
    "    \n",
    "Many functions in Python have the ability to handle runtime errors or undesireable behavior.\n",
    "\n",
    "### Examples of exceptions\n",
    "\n",
    "Here are some examples of exceptions raised.\n",
    "+ `ModuleNotFoundError`\n",
    "\n",
    "```\n",
    ">>> import spameggs\n",
    "Traceback (most recent call last):\n",
    "  File \"<stdin>\", line 1, in <module>\n",
    "ModuleNotFoundError: No module named 'spameggs'\n",
    "```\n",
    "\n",
    "+ `NameError`\n",
    "\n",
    "```\n",
    ">>> print(q)\n",
    "Traceback (most recent call last):\n",
    "  File \"<stdin>\", line 1, in <module>\n",
    "NameError: name 'q' is not defined\n",
    "```\n",
    "    \n",
    "+ `TypeError`\n",
    "\n",
    "```\n",
    ">>> 'a' + 1\n",
    "Traceback (most recent call last):\n",
    "  File \"<stdin>\", line 1, in <module>\n",
    "TypeError: can only concatenate str (not \"int\") to str\n",
    "```\n",
    "\n",
    "+ `ZeroDivisionError`\n",
    "\n",
    "```\n",
    ">>> 1/0\n",
    "Traceback (most recent call last):\n",
    "  File \"<stdin>\", line 1, in <module>\n",
    "ZeroDivisionError: division by zero\n",
    "```\n",
    "\n",
    "+ `AssertionError`\n",
    "\n",
    "```\n",
    ">>> a = -1\n",
    ">>> assert a > 0\n",
    "Traceback (most recent call last):\n",
    "  File \"<stdin>\", line 1, in <module>\n",
    "AssertionError\n",
    "```\n",
    "\n",
    "\n",
    "+ `IndexError`\n",
    "\n",
    "```\n",
    ">>> l = [1,2,3]\n",
    ">>> l[3]\n",
    "Traceback (most recent call last):\n",
    "  File \"<stdin>\", line 1, in <module>\n",
    "IndexError: list index out of range\n",
    "\n",
    "```\n",
    "\n",
    "\n",
    "Try these commands on your interface. A longer list of exceptions are given on [python.org's website](https://docs.python.org/3/library/exceptions.html).\n",
    "\n",
    "                                                                                \n",
    "                                                                            "
   ]
  },
  {
   "cell_type": "code",
   "execution_count": null,
   "metadata": {},
   "outputs": [],
   "source": [
    "print(q)"
   ]
  },
  {
   "cell_type": "markdown",
   "metadata": {},
   "source": [
    "### try and except\n",
    "\n",
    "When Python raises an exception, we can catch and kill the exception. We have already seen several examples in which we have used the `try ... except ...` sequence. \n",
    "\n",
    "\n",
    "The general syntax of the this sequence is \n",
    "```\n",
    "try: \n",
    "    <statements>\n",
    "except:\n",
    "    <statements>\n",
    "```"
   ]
  },
  {
   "cell_type": "code",
   "execution_count": null,
   "metadata": {},
   "outputs": [],
   "source": [
    "try:\n",
    "    a = [j**2 for j in range(10)]\n",
    "    print(a)\n",
    "    print(a[10])\n",
    "    print(a[5])\n",
    "except Exception: \n",
    "    print('You have accessed an index that is illegal.')\n",
    "    "
   ]
  },
  {
   "cell_type": "markdown",
   "metadata": {},
   "source": [
    "Note that \n",
    "+ Some statements are executed correctly, but when an error occurs and an exception is raised, we can except this error.\n",
    "+ We can except multiple errors. Example:\n",
    "    \n",
    "```\n",
    "try: \n",
    "    <statements>\n",
    "except IndexError:\n",
    "    <statements>\n",
    "except ValueError:\n",
    "    <statements>\n",
    "```\n",
    "+ There is a variation called `try ... except ... else ... finally`.\n",
    "+ You can define your own exceptions."
   ]
  },
  {
   "cell_type": "markdown",
   "metadata": {},
   "source": [
    "## Raising exceptions\n",
    "\n",
    "Raising exceptions can help debug your code by preemptively determining sources of errors. For example, consider a sqrt function that should check that x is real, and x is nonnegative. We are going to do this in two different ways."
   ]
  },
  {
   "cell_type": "code",
   "execution_count": null,
   "metadata": {},
   "outputs": [],
   "source": [
    "def mysqrt(x):\n",
    "    #Check if x is a float or an int\n",
    "    assert isinstance(x,float) or isinstance(x,int)\n",
    "    \n",
    "    \n",
    "    #Check if x is nonnegative\n",
    "    if float(x) < 0.:\n",
    "        raise ValueError('x has to be nonnegative')\n",
    "    \n",
    "    import math\n",
    "    return math.sqrt(x)"
   ]
  },
  {
   "cell_type": "code",
   "execution_count": null,
   "metadata": {},
   "outputs": [],
   "source": [
    "try: \n",
    "    mysqrt('a')\n",
    "except AssertionError:\n",
    "    print(AssertionError, \"Not a float or an int.\")\n",
    "    \n",
    "try: \n",
    "    mysqrt(-1)\n",
    "except ValueError:\n",
    "    print(ValueError, \"Negative value.\")"
   ]
  },
  {
   "cell_type": "markdown",
   "metadata": {},
   "source": [
    "### Python debugger\n",
    "\n",
    "Python provides a module called `pdb` which can be used as an interactive source code debugger for Python programs. Using the debugger one can\n",
    "+ set breakpoints in the code\n",
    "+ step through lines in the code \n",
    "+ inspect the error\n",
    "\n",
    "Some commands to remember are `n(ext)`, `p(rint)`, and `q(uit)`. Here are two simple examples."
   ]
  },
  {
   "cell_type": "code",
   "execution_count": null,
   "metadata": {},
   "outputs": [],
   "source": [
    "def func():\n",
    "    x = [1,2,3,4,5]\n",
    "    print('The length of x is ', len(x))\n",
    "    return\n",
    "\n",
    "def func2():\n",
    "    x = [1,2,3,4,5]\n",
    "    print('The length of x is ', len(x))\n",
    "    \n",
    "    print('The length of y is', len(y))\n",
    "    y = [1,2,3]\n",
    "    return\n",
    "\n",
    "func()\n",
    "func2()"
   ]
  },
  {
   "cell_type": "code",
   "execution_count": null,
   "metadata": {},
   "outputs": [],
   "source": [
    "import pdb\n",
    "\n",
    "\n",
    "def func_pdb():\n",
    "    x = [1,2,3,4,5]\n",
    "    pdb.set_trace()\n",
    "    print('The length of x is ', len(x))\n",
    "\n",
    "    return\n",
    "\n",
    "func_pdb()"
   ]
  },
  {
   "cell_type": "code",
   "execution_count": null,
   "metadata": {},
   "outputs": [],
   "source": [
    "def func2_pdb():\n",
    "    \n",
    "    x = [1,2,3,4,5]\n",
    "    pdb.set_trace()\n",
    "    print('The length of x is ', len(x))\n",
    "    \n",
    "    print('The length of y is', len(y))\n",
    "    y = [1,2,3]\n",
    "    \n",
    "    return\n",
    "\n",
    "func2_pdb()"
   ]
  },
  {
   "cell_type": "markdown",
   "metadata": {},
   "source": [
    "## Exercises\n",
    "\n",
    "Problem 1: Write a function given its test function. \n",
    "    \n",
    "Write a function `halve(x)` that returns the half of its argument `x`. The test function is\n",
    "\n",
    "```\n",
    "def test_halve():\n",
    "    assert halve(5.0) == 2.5 # Real number division \n",
    "    assert halve(5) == 2 # Integer division\n",
    "    return\n",
    "```\n",
    "\n",
    "The test function tells us that we have to handle both `int`s and `float`s. Write the associated function `halve`. Call `test_halve` to verify that `halve` works."
   ]
  },
  {
   "cell_type": "markdown",
   "metadata": {},
   "source": [
    "Problem 2: Checking user input\n",
    "    \n",
    "We can ask the user for input from the user using the function `input`. Try the following commands\n",
    "\n",
    "```\n",
    "C = input('The temperature in Celsius = ?. Please enter a number no less than -273.')\n",
    "C = float(C)\n",
    "F = 9.0/5*C + 32.\n",
    "print('The temperature in Farenheit is ', F)\n",
    "\n",
    "```\n",
    "\n",
    "Using `assert`, after line 1,check that the user input is greater than or equal to 273."
   ]
  }
 ],
 "metadata": {
  "kernelspec": {
   "display_name": "Python 3",
   "language": "python",
   "name": "python3"
  },
  "language_info": {
   "codemirror_mode": {
    "name": "ipython",
    "version": 3
   },
   "file_extension": ".py",
   "mimetype": "text/x-python",
   "name": "python",
   "nbconvert_exporter": "python",
   "pygments_lexer": "ipython3",
   "version": "3.8.8"
  }
 },
 "nbformat": 4,
 "nbformat_minor": 2
}
