{
 "cells": [
  {
   "cell_type": "markdown",
   "metadata": {},
   "source": [
    "# Worksheet + Homework 7"
   ]
  },
  {
   "cell_type": "markdown",
   "metadata": {},
   "source": [
    "+ Feel free to work in groups of 2-3. However, you have to submit your own work.\n",
    "+ Plotting conventions: Make sure your plots should have labelled axes, a title, and a legend. The minimum fontsize should be 14. The markers and lines should be clearly visible. Try to make the plots as professional looking as possible.\n",
    "+ You will numpy installed for these codes to work. We will see numpy in more detail later this semester.\n",
    "+ You will submit this as homework 7 next Monday. Please submit this notebook in your git repository, under the folder problemset. The notebook should be titled DSC495_014_FA22_A7_unityid.ipynb"
   ]
  },
  {
   "cell_type": "code",
   "execution_count": null,
   "metadata": {},
   "outputs": [],
   "source": [
    "import numpy as np\n",
    "import matplotlib.pyplot as plt \n",
    "%matplotlib inline\n",
    "\n",
    "plt.rcParams['figure.figsize'] = [7, 5]\n",
    "plt.rcParams['xtick.labelsize'] = 14\n",
    "plt.rcParams['ytick.labelsize'] = 14"
   ]
  },
  {
   "cell_type": "markdown",
   "metadata": {},
   "source": [
    "## Problem 0: Basics (0 points, but otherwise invaluable)\n",
    "\n",
    "Use the in-class session to clarify any issues with the instructor, be it related to the course, homework, or project."
   ]
  },
  {
   "cell_type": "code",
   "execution_count": null,
   "metadata": {},
   "outputs": [],
   "source": []
  },
  {
   "cell_type": "markdown",
   "metadata": {},
   "source": [
    "## Problem 1: Plot curves corresponding to multiple parameters (2 points)\n",
    "\n",
    "In lecture, we saw the function to compute the height of a projectile \n",
    "$$ y(t) = v_0t - 0.5*g*t^2 \\qquad 0 \\leq t\\leq 2v_0/g. $$\n",
    "\n",
    "where $v_0$ is the initial velocity, $t$ is the time, $y$ is the height, and $g=9.81$ is the acceleration due to gravity in m^2/s. \n",
    "\n",
    "Modify the code below to plot the trajectories corresponding to the different initial velocities $v_0 = 5, 7, 9 ,11, 13, 15$ m/s. \n",
    "\n",
    "+ Do not repeat the code for each value of $v_0 $ but use a for loop. \n",
    "+ For the legend use the `label` keyword in the plot commands. The legend entries should be of the form 'v_0=5'. \n",
    "+ Remember the plotting conventions at the start of the notebook."
   ]
  },
  {
   "cell_type": "code",
   "execution_count": null,
   "metadata": {},
   "outputs": [],
   "source": [
    "v0 = 10\n",
    "g = 9.81\n",
    "t = np.linspace(0,2*v0/g,100)\n",
    "y = v0*t - 0.5*g*t**2.\n"
   ]
  },
  {
   "cell_type": "markdown",
   "metadata": {},
   "source": [
    "## Problem 2: More 1D plotting (3 points)\n",
    "\n",
    "The file [src/plot/xy.dat](https://github.com/hplgit/scipro-primer/blob/master/src/plot/xy.dat) contains two columns of numbers, corresponding to x and y coordinates on a curve.\n",
    "\n",
    "\n",
    "Save the file in a local folder as `xy.dat`. You can read the data as \n",
    "```\n",
    "import numpy as np\n",
    "# Read table of floats\n",
    "data = np.loadtxt(’xy.dat’, dtype=np.float) # Extract one-dim arrays from two-dim data \n",
    "x = data[:,0] # column with index 0\n",
    "y = data[:,1] # column with index 1\n",
    "```\n",
    "\n",
    "Tasks:\n",
    "1. Plot the data points as a black curve (with linewidth 3). \n",
    "2. Plot the global minimizer and maximizer as red points on the curve. Compute these points by searching through the y-coordinates (you do not need an optimization routine). \n",
    "3. Add a legend entry for the curve, the minimizer, and the maximizer."
   ]
  },
  {
   "cell_type": "code",
   "execution_count": null,
   "metadata": {},
   "outputs": [],
   "source": []
  },
  {
   "cell_type": "code",
   "execution_count": null,
   "metadata": {},
   "outputs": [],
   "source": []
  },
  {
   "cell_type": "markdown",
   "metadata": {},
   "source": [
    "## Problem 3. Fit a polynomial to experimental data (5 points)\n",
    "\n",
    "Modified from Langtangen's book.\n",
    "\n",
    "Suppose we have measured the oscillation period $T$ of a simple pendulum with a mass $m$ at the end of a massless rod of length $L$. We have varied $L$ and recorded the corresponding $T$ value. The measurements are found in a [file](https://github.com/hplgit/scipro-primer/blob/master/src/plot/pendulum.dat). The first column in the file contains $L$ values and the second column has the corresponding $T$ values. \n",
    "\n",
    "### Task 1: \n",
    "Download the file and save it as `pendulum.dat` (do not copy the values onto an array). Open the file using `numpy.loadtxt` and plot the data. (The `skiprows` feature may be useful). Plot the lengths $L$ versus $T$ using black solid markers of size $4$. "
   ]
  },
  {
   "cell_type": "code",
   "execution_count": null,
   "metadata": {},
   "outputs": [],
   "source": []
  },
  {
   "cell_type": "markdown",
   "metadata": {},
   "source": [
    "### Task 2: Fitting a line\n",
    "\n",
    "Assume that we can write the length as a linear function\n",
    "$$ L \\approx x_1 + T x_2, $$\n",
    "where $x_2$ is the slope and $x_1$ is the intercept. We use the NumPy\n",
    "utilities `numpy.polyfit` and `numpy.poly1d` to fit a line to the $L$ and $T$ data. Below is some code to compute the line fit:"
   ]
  },
  {
   "cell_type": "code",
   "execution_count": null,
   "metadata": {},
   "outputs": [],
   "source": [
    "# Best line fit \n",
    "Tf = np.linspace(0.6,2.0)\n",
    "L1 = np.polyfit(T,L,deg = 1)\n",
    "L1p = np.poly1d(L1)\n",
    "L1f = L1p(Tf)"
   ]
  },
  {
   "cell_type": "markdown",
   "metadata": {},
   "source": [
    "Your task is to plot the data (black solid markers as above) and the best line fit `L1f` (red dashed line with thickness 2)."
   ]
  },
  {
   "cell_type": "code",
   "execution_count": null,
   "metadata": {},
   "outputs": [],
   "source": []
  },
  {
   "cell_type": "markdown",
   "metadata": {},
   "source": [
    "### Task 3: Fitting polynomials\n",
    "\n",
    "\n",
    "\n",
    "We shall assume that L as a function of T is a polynomial. \n",
    "\n",
    "+ Use the NumPy utilities `numpy.polyfit` and `numpy.poly1d` to fit polynomials of degree 2 and 3 to the $L$ and $T$ data. Hint: you just need to modify the code above. \n",
    "+ Plot the polynomial curves together with the experimental data. Use the same plotting conventions as in Tasks 1 and 2. Use different line and marker styles for the quadratic and the cubic. \n",
    "+ Which polynomial fits the measured data best?\n",
    "\n",
    "Make sure your plots are labelled and with a legend."
   ]
  },
  {
   "cell_type": "code",
   "execution_count": null,
   "metadata": {},
   "outputs": [],
   "source": []
  },
  {
   "cell_type": "markdown",
   "metadata": {},
   "source": [
    "### Bonus for those with linear algebra experience: \n",
    "\n",
    "Suppose we wanted to fit the line \n",
    "$$ L \\approx x_1 + T x_2, $$\n",
    "where $x_2$ is the slope and $x_1$ is the intercept. To find these coefficients, we solve the least squares problem \n",
    "\n",
    "$$ \\min_x \\| Ax - b\\|^2_2  $$\n",
    "where $n$ is the number of data points and \n",
    "$$ x = \\begin{bmatrix} x_1 \\\\ x_2  \\end{bmatrix} \\qquad A = \\begin{bmatrix} 1 & T_1 \\\\ 1 & T_2 \\\\ \\vdots & \\vdots \\\\ 1 & T_n   \\end{bmatrix}  \\qquad b = \\begin{bmatrix} L_1 \\\\ L_2 \\\\  \\vdots \\\\ L_n  \\end{bmatrix}.$$\n",
    "\n",
    "Setup the matrices and solve the least squares problem using the function `numpy.linalg.lstsq` for the coefficients. Use `rcond=None` to turn off warnings (if any). \n",
    "For futher practice, implement your own least squares solver using QR factorization/ Singular Value Decomposition."
   ]
  },
  {
   "cell_type": "code",
   "execution_count": null,
   "metadata": {},
   "outputs": [],
   "source": []
  },
  {
   "cell_type": "markdown",
   "metadata": {},
   "source": [
    "### Problem 4: Coded triangle numbers. No need to submit! \n",
    "\n",
    "This problem is from [Project Euler](https://projecteuler.net/problem=42).\n",
    "\n",
    "The nth term of the sequence of triangle numbers is given by, $t_n = \\frac{1}{2}n(n+1)$; so the first ten triangle numbers are:\n",
    "\n",
    "$$1, 3, 6, 10, 15, 21, 28, 36, 45, 55, ...$$\n",
    "\n",
    "By converting each letter in a word to a number corresponding to its alphabetical position and adding these values we form a word value. For example, the word value for SKY is $19 + 11 + 25 = 55 = t_{10}$. If the word value is a triangle number then we shall call the word a triangle word.\n",
    "\n",
    "Using [words.txt](https://projecteuler.net/project/resources/p042_words.txt) (right click and 'Save Link/Target As...'), a 16K text file containing nearly two-thousand common English words, how many are triangle words?"
   ]
  },
  {
   "cell_type": "code",
   "execution_count": null,
   "metadata": {},
   "outputs": [],
   "source": []
  }
 ],
 "metadata": {
  "kernelspec": {
   "display_name": "Python 3",
   "language": "python",
   "name": "python3"
  },
  "language_info": {
   "codemirror_mode": {
    "name": "ipython",
    "version": 3
   },
   "file_extension": ".py",
   "mimetype": "text/x-python",
   "name": "python",
   "nbconvert_exporter": "python",
   "pygments_lexer": "ipython3",
   "version": "3.8.8"
  }
 },
 "nbformat": 4,
 "nbformat_minor": 2
}
