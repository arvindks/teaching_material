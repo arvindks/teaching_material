{
 "cells": [
  {
   "cell_type": "markdown",
   "metadata": {
    "slideshow": {
     "slide_type": "slide"
    }
   },
   "source": [
    "### Ways to use Python\n",
    "\n",
    "\n",
    "1. Command line (Use `$ python`) \n",
    "2. Self-contained scripts (Use `$ python <run file>`)\n",
    "3. Jupyter notebooks (we'll use it throughout this course)\n",
    "4. Integrated development environment (IDE)"
   ]
  },
  {
   "cell_type": "markdown",
   "metadata": {
    "slideshow": {
     "slide_type": "slide"
    }
   },
   "source": [
    "### About this notebook\n",
    "\n",
    "Ways to use it:\n",
    "1. Read it on the class github page\n",
    "2. Install [Jupyter notebook](https://jupyter.org/)  (e.g., Anaconda)\n",
    "3. Use [colab](https://colab.research.google.com). No installation needed.\n",
    "\n",
    "Bonus: to use the slideshow option, install [Rise](https://github.com/damianavila/RISE)"
   ]
  },
  {
   "cell_type": "markdown",
   "metadata": {
    "slideshow": {
     "slide_type": "slide"
    }
   },
   "source": [
    "## A brief tour of the syntax"
   ]
  },
  {
   "cell_type": "markdown",
   "metadata": {
    "slideshow": {
     "slide_type": "slide"
    }
   },
   "source": [
    "### Use Python as a calculator"
   ]
  },
  {
   "cell_type": "code",
   "execution_count": 1,
   "metadata": {},
   "outputs": [
    {
     "data": {
      "text/plain": [
       "2"
      ]
     },
     "execution_count": 1,
     "metadata": {},
     "output_type": "execute_result"
    }
   ],
   "source": [
    "1+1"
   ]
  },
  {
   "cell_type": "code",
   "execution_count": 2,
   "metadata": {},
   "outputs": [
    {
     "data": {
      "text/plain": [
       "15"
      ]
     },
     "execution_count": 2,
     "metadata": {},
     "output_type": "execute_result"
    }
   ],
   "source": [
    "x = 5\n",
    "x*3"
   ]
  },
  {
   "cell_type": "markdown",
   "metadata": {
    "slideshow": {
     "slide_type": "slide"
    }
   },
   "source": [
    "### Whitespace "
   ]
  },
  {
   "cell_type": "code",
   "execution_count": 3,
   "metadata": {},
   "outputs": [
    {
     "name": "stdout",
     "output_type": "stream",
     "text": [
      "5\n",
      "5\n"
     ]
    }
   ],
   "source": [
    "# Function\n",
    "def f(a,b): \n",
    "    return a + b;   \n",
    "\n",
    "# versus \n",
    "def g(a,b):     \n",
    "    return a       +        b;   \n",
    "\n",
    "print(f(2,3))\n",
    "print(g(2,3))"
   ]
  },
  {
   "cell_type": "markdown",
   "metadata": {
    "slideshow": {
     "slide_type": "slide"
    }
   },
   "source": [
    "### Two ways to comment\n",
    "\n",
    "1. Using `#` for inline quotations\n",
    "2. Triple quotes `\"\"\" \"\"\"` for block quotations"
   ]
  },
  {
   "cell_type": "code",
   "execution_count": 4,
   "metadata": {},
   "outputs": [
    {
     "data": {
      "text/plain": [
       "'\\nThis is a multiline\\ncomment. Useful for documenting functions.\\n'"
      ]
     },
     "execution_count": 4,
     "metadata": {},
     "output_type": "execute_result"
    }
   ],
   "source": [
    "# Comment 1\n",
    "y = 1 # Also a comment\n",
    "\n",
    "\"\"\"\n",
    "This is a multiline\n",
    "comment. Useful for documenting functions.\n",
    "\"\"\""
   ]
  },
  {
   "cell_type": "markdown",
   "metadata": {
    "slideshow": {
     "slide_type": "slide"
    }
   },
   "source": [
    "### Semicolons are optional"
   ]
  },
  {
   "cell_type": "code",
   "execution_count": 5,
   "metadata": {},
   "outputs": [],
   "source": [
    "x = 1 \n",
    "y = 1;\n",
    "\n",
    "# Useful for concatenating statements\n",
    "x = 1; y = 1"
   ]
  },
  {
   "cell_type": "markdown",
   "metadata": {
    "slideshow": {
     "slide_type": "slide"
    }
   },
   "source": [
    "### Print statement\n",
    "\n",
    "In Python 2, print statements used to look like \n",
    "```\n",
    "print 'The value of x is ', 5.0\n",
    "```\n",
    "\n",
    "In Python 3, print statements are functions"
   ]
  },
  {
   "cell_type": "code",
   "execution_count": 6,
   "metadata": {},
   "outputs": [
    {
     "name": "stdout",
     "output_type": "stream",
     "text": [
      "The value of x is  5.0\n"
     ]
    }
   ],
   "source": [
    "print('The value of x is ', 5.0)"
   ]
  },
  {
   "cell_type": "markdown",
   "metadata": {
    "slideshow": {
     "slide_type": "slide"
    }
   },
   "source": [
    "### Warning 1: Indentation\n",
    "Message: Indentation is important for readability."
   ]
  },
  {
   "cell_type": "code",
   "execution_count": 7,
   "metadata": {},
   "outputs": [
    {
     "name": "stdout",
     "output_type": "stream",
     "text": [
      "It is true!\n"
     ]
    }
   ],
   "source": [
    "\n",
    "# If-else\n",
    "if 4 > 3:\n",
    "        print(\"It is true!\")     #The spacing can be arbitrary as long as it is consistent\n",
    "else:\n",
    "    print(\"It is not true.\")\n",
    "    print(\"false\")"
   ]
  },
  {
   "cell_type": "markdown",
   "metadata": {
    "slideshow": {
     "slide_type": "slide"
    }
   },
   "source": [
    "\n",
    "What you cannot do is \n",
    "```\n",
    "if 4 > 3:\n",
    "        print(\"It is true!\")     \n",
    "else:\n",
    "    print(\"It is not true.\")\n",
    "        print(\"false\")  #Inconsistent font spacing\n",
    "```"
   ]
  },
  {
   "cell_type": "markdown",
   "metadata": {
    "slideshow": {
     "slide_type": "slide"
    }
   },
   "source": [
    "### Warning 2: Counting\n",
    "\n",
    "Message: Counting starts at zero.\n"
   ]
  },
  {
   "cell_type": "code",
   "execution_count": 8,
   "metadata": {},
   "outputs": [
    {
     "name": "stdout",
     "output_type": "stream",
     "text": [
      "1\n",
      "3\n"
     ]
    }
   ],
   "source": [
    "a = [1, 2, 3]  # This is actually a list\n",
    "\n",
    "print(a[0])    # First element\n",
    "print(a[-1])   # last element; like a(end) in MATLAB"
   ]
  },
  {
   "cell_type": "markdown",
   "metadata": {
    "slideshow": {
     "slide_type": "slide"
    }
   },
   "source": [
    "# Variables and Operations\n"
   ]
  },
  {
   "cell_type": "markdown",
   "metadata": {
    "slideshow": {
     "slide_type": "slide"
    }
   },
   "source": [
    "\n",
    "\n",
    "### Built-in Variable types\n",
    "\n",
    "Type   | Example   | Description  \n",
    ":------- |:--------| :-----\n",
    "int | x = 1 | Integer \n",
    "float | x = 1.| double precision \n",
    "complex | x = 1 + 2j | Complex numbers \n",
    "bool | x = True; y = False | Boolean\n",
    "str | x = 'abc' | String "
   ]
  },
  {
   "cell_type": "markdown",
   "metadata": {
    "slideshow": {
     "slide_type": "slide"
    }
   },
   "source": [
    " #### Use `type()'  for data type "
   ]
  },
  {
   "cell_type": "code",
   "execution_count": 4,
   "metadata": {},
   "outputs": [
    {
     "name": "stdout",
     "output_type": "stream",
     "text": [
      "<class 'int'> <class 'float'> <class 'complex'> <class 'bool'> <class 'int'> <class 'str'>\n"
     ]
    }
   ],
   "source": [
    "x = 1\n",
    "y = 1. \n",
    "z = 1 + 2j\n",
    "b = True\n",
    "s = 'abc'\n",
    "print(type(x),type(y), type(z), type(b), type(x), type(s))"
   ]
  },
  {
   "cell_type": "code",
   "execution_count": 6,
   "metadata": {},
   "outputs": [
    {
     "data": {
      "text/plain": [
       "float"
      ]
     },
     "execution_count": 6,
     "metadata": {},
     "output_type": "execute_result"
    }
   ],
   "source": [
    "type(x)\n",
    "type(y)"
   ]
  },
  {
   "cell_type": "markdown",
   "metadata": {
    "slideshow": {
     "slide_type": "slide"
    }
   },
   "source": [
    "## Arithmetic operations\n",
    "\n",
    "Operator   | Name   | Details \n",
    ":------- |:--------| :-----\n",
    "a + b | Addition | \n",
    "a - b | Subtraction | \n",
    "a *b | Product | \n",
    "a/b | Division | Casts the result as double\n",
    "a//b | Floor division | $\\lfloor a/b \\rfloor$\n",
    "a % b | Modulus | Gives remainder\n",
    "a ** b | Exponentiation| \n",
    "-a | Negation | \n"
   ]
  },
  {
   "cell_type": "markdown",
   "metadata": {
    "slideshow": {
     "slide_type": "slide"
    }
   },
   "source": [
    "### Examples"
   ]
  },
  {
   "cell_type": "code",
   "execution_count": 29,
   "metadata": {
    "slideshow": {
     "slide_type": "-"
    }
   },
   "outputs": [
    {
     "name": "stdout",
     "output_type": "stream",
     "text": [
      "8 15 0.6 0\n",
      "8.0 15.0 0.6\n"
     ]
    }
   ],
   "source": [
    "a = 3\n",
    "b = 5\n",
    "c = 5.\n",
    "\n",
    "print(a + b, a*b, a/b, a//b)\n",
    "print(a+c, a*c, a/c)"
   ]
  },
  {
   "cell_type": "markdown",
   "metadata": {},
   "source": [
    "Another difference between Python2 and Python3: In Python2 `a/b` would have been `0', because the result has to be an integer.  "
   ]
  },
  {
   "cell_type": "markdown",
   "metadata": {
    "slideshow": {
     "slide_type": "slide"
    }
   },
   "source": [
    "### More ways to print"
   ]
  },
  {
   "cell_type": "code",
   "execution_count": 11,
   "metadata": {},
   "outputs": [
    {
     "name": "stdout",
     "output_type": "stream",
     "text": [
      "The value of x is  23.56  and the value of y is  5e-06\n"
     ]
    }
   ],
   "source": [
    "x = 23.56\n",
    "y = 5e-6\n",
    "print('The value of x is ', x, ' and the value of y is ', y)"
   ]
  },
  {
   "cell_type": "code",
   "execution_count": 12,
   "metadata": {},
   "outputs": [
    {
     "name": "stdout",
     "output_type": "stream",
     "text": [
      "The value of x is 23.56 and the value of y is 5e-06\n"
     ]
    }
   ],
   "source": [
    "print('The value of x is {0} and the value of y is {1}'.format(x,y) )"
   ]
  },
  {
   "cell_type": "code",
   "execution_count": 13,
   "metadata": {},
   "outputs": [
    {
     "name": "stdout",
     "output_type": "stream",
     "text": [
      "The value of x is 23.56 and value of y is 5e-06\n"
     ]
    }
   ],
   "source": [
    "print('The value of x is %g and value of y is %g' %(x, y))"
   ]
  },
  {
   "cell_type": "code",
   "execution_count": 14,
   "metadata": {},
   "outputs": [
    {
     "name": "stdout",
     "output_type": "stream",
     "text": [
      "The value of x is 23.560 and value of y is 0.000005000000000\n"
     ]
    }
   ],
   "source": [
    "print('The value of x is %2.3f and value of y is %.15f' %(x, y))"
   ]
  },
  {
   "cell_type": "markdown",
   "metadata": {
    "slideshow": {
     "slide_type": "slide"
    }
   },
   "source": [
    "### Assignment operations"
   ]
  },
  {
   "cell_type": "code",
   "execution_count": 15,
   "metadata": {},
   "outputs": [
    {
     "name": "stdout",
     "output_type": "stream",
     "text": [
      "7\n"
     ]
    }
   ],
   "source": [
    "a = 5\n",
    "a += 2  # Same as a = a + 2\n",
    "print(a)"
   ]
  },
  {
   "cell_type": "markdown",
   "metadata": {},
   "source": [
    "More such operations\n",
    "\n",
    "\n",
    "Operation | Same as\n",
    ":------- |:--------\n",
    " `a -= b` | a = a - b\n",
    " `a *= b` | a = a * b\n",
    " `a /= b` | a = a/b \n",
    " `a //b ` | a = a//b\n",
    " `a %= b` | a = a %b\n",
    " `a **= b` | a = a**b"
   ]
  },
  {
   "cell_type": "markdown",
   "metadata": {
    "slideshow": {
     "slide_type": "slide"
    }
   },
   "source": [
    "### Comparison operations"
   ]
  },
  {
   "cell_type": "markdown",
   "metadata": {},
   "source": [
    "Operation | Description \n",
    ":------- |:--------\n",
    "a == b | checks a equal to b\n",
    "a != b | not equal \n",
    "a < b | less than\n",
    "a > b | greater than \n",
    "a <= b | less than equal to \n",
    "a >= | greater than equal to"
   ]
  },
  {
   "cell_type": "markdown",
   "metadata": {
    "slideshow": {
     "slide_type": "slide"
    }
   },
   "source": [
    "### Examples of comparison operations"
   ]
  },
  {
   "cell_type": "code",
   "execution_count": 16,
   "metadata": {},
   "outputs": [
    {
     "name": "stdout",
     "output_type": "stream",
     "text": [
      "False\n",
      "True\n",
      "True\n",
      "False\n"
     ]
    }
   ],
   "source": [
    "x = 5; y = 3\n",
    "\n",
    "print(x == y)\n",
    "print(x != y)\n",
    "print(x > y) \n",
    "print(x <= y)"
   ]
  },
  {
   "cell_type": "markdown",
   "metadata": {},
   "source": [
    "Be careful of floating point comparisons"
   ]
  },
  {
   "cell_type": "code",
   "execution_count": 9,
   "metadata": {},
   "outputs": [
    {
     "name": "stdout",
     "output_type": "stream",
     "text": [
      "True\n"
     ]
    }
   ],
   "source": [
    "print( (0.1 + 0.3) == 0.4)"
   ]
  },
  {
   "cell_type": "code",
   "execution_count": 18,
   "metadata": {},
   "outputs": [
    {
     "name": "stdout",
     "output_type": "stream",
     "text": [
      "5.551115123125783e-17\n"
     ]
    }
   ],
   "source": [
    "print(abs(0.1+0.2 -0.3))"
   ]
  },
  {
   "cell_type": "markdown",
   "metadata": {
    "slideshow": {
     "slide_type": "slide"
    }
   },
   "source": [
    "### Complex numbers"
   ]
  },
  {
   "cell_type": "code",
   "execution_count": 19,
   "metadata": {},
   "outputs": [
    {
     "name": "stdout",
     "output_type": "stream",
     "text": [
      "The real part is 2 and imaginary part is 3\n"
     ]
    }
   ],
   "source": [
    "x = 2 + 3j\n",
    "\n",
    "print('The real part is %g and imaginary part is %g' %\\\n",
    "      (x.real, x.imag ))"
   ]
  },
  {
   "cell_type": "code",
   "execution_count": 20,
   "metadata": {},
   "outputs": [
    {
     "name": "stdout",
     "output_type": "stream",
     "text": [
      "The conjugate is  (2-3j)\n",
      "The magnitude is  3.605551275463989\n"
     ]
    }
   ],
   "source": [
    "print('The conjugate is ', x.conjugate())\n",
    "print('The magnitude is ', abs(x))"
   ]
  },
  {
   "cell_type": "markdown",
   "metadata": {
    "slideshow": {
     "slide_type": "slide"
    }
   },
   "source": [
    "### String manipulation"
   ]
  },
  {
   "cell_type": "code",
   "execution_count": 21,
   "metadata": {},
   "outputs": [
    {
     "name": "stdout",
     "output_type": "stream",
     "text": [
      "Length of string 1 is  26\n",
      "Capitalized string:\n",
      " Completely different\n"
     ]
    }
   ],
   "source": [
    "str1 = 'And now for something ... '\n",
    "str2 = \"completely different\"\n",
    "\n",
    "print(\"Length of string 1 is \", len(str1))\n",
    "\n",
    "#Capitalize a string\n",
    "print(\"Capitalized string:\\n\", str2.capitalize())"
   ]
  },
  {
   "cell_type": "markdown",
   "metadata": {
    "slideshow": {
     "slide_type": "slide"
    }
   },
   "source": [
    "### Other string manipulations"
   ]
  },
  {
   "cell_type": "code",
   "execution_count": 22,
   "metadata": {},
   "outputs": [
    {
     "name": "stdout",
     "output_type": "stream",
     "text": [
      "And now for something ... completely different\n",
      "And now for something ... And now for something ... And now for something ... \n",
      "d\n"
     ]
    }
   ],
   "source": [
    "#Concatenate strings\n",
    "print(str1 + str2)\n",
    "\n",
    "#Repeat strings\n",
    "print(3*str1)\n",
    "\n",
    "\n",
    "# Print the third character in the string\n",
    "print(str1[2])"
   ]
  },
  {
   "cell_type": "markdown",
   "metadata": {
    "slideshow": {
     "slide_type": "slide"
    }
   },
   "source": [
    "### Converting from one format to another"
   ]
  },
  {
   "cell_type": "code",
   "execution_count": 23,
   "metadata": {},
   "outputs": [
    {
     "name": "stdout",
     "output_type": "stream",
     "text": [
      "1.0\n",
      "23\n",
      "23.6\n",
      "(23.6+0j)\n",
      "23.6\n"
     ]
    }
   ],
   "source": [
    "print(float(1))\n",
    "print(int(23.6))\n",
    "print(str(23.6))\n",
    "print(complex(23.6))\n",
    "print(float(str(23.6)))"
   ]
  },
  {
   "cell_type": "markdown",
   "metadata": {
    "slideshow": {
     "slide_type": "slide"
    }
   },
   "source": [
    "### Boolean operations"
   ]
  },
  {
   "cell_type": "code",
   "execution_count": 24,
   "metadata": {},
   "outputs": [
    {
     "data": {
      "text/plain": [
       "False"
      ]
     },
     "execution_count": 24,
     "metadata": {},
     "output_type": "execute_result"
    }
   ],
   "source": [
    "x = 5\n",
    "(x > 2) and (x > 7)"
   ]
  },
  {
   "cell_type": "code",
   "execution_count": 25,
   "metadata": {},
   "outputs": [
    {
     "data": {
      "text/plain": [
       "True"
      ]
     },
     "execution_count": 25,
     "metadata": {},
     "output_type": "execute_result"
    }
   ],
   "source": [
    "(x > 2) or (x > 7)"
   ]
  },
  {
   "cell_type": "code",
   "execution_count": 26,
   "metadata": {},
   "outputs": [
    {
     "data": {
      "text/plain": [
       "False"
      ]
     },
     "execution_count": 26,
     "metadata": {},
     "output_type": "execute_result"
    }
   ],
   "source": [
    "not(x > 2)"
   ]
  },
  {
   "cell_type": "markdown",
   "metadata": {
    "slideshow": {
     "slide_type": "slide"
    }
   },
   "source": [
    "### Bitwise operations"
   ]
  },
  {
   "cell_type": "markdown",
   "metadata": {},
   "source": [
    "Operation | Alternative |  Description\n",
    ":---- | :---- | :---- \n",
    "a & b | a and b |Bitwise and\n",
    "a | b | a or b | Bitwise or \n",
    "~a    | not(a)  | Bitwise not"
   ]
  },
  {
   "cell_type": "code",
   "execution_count": 10,
   "metadata": {},
   "outputs": [
    {
     "data": {
      "text/plain": [
       "False"
      ]
     },
     "execution_count": 10,
     "metadata": {},
     "output_type": "execute_result"
    }
   ],
   "source": [
    "(x > 2) | (x > 7)"
   ]
  },
  {
   "cell_type": "markdown",
   "metadata": {
    "slideshow": {
     "slide_type": "slide"
    }
   },
   "source": [
    "### Basics of functions\n",
    "\n",
    "We will study functions in greater detail, but here is what a simple function looks like and how it can be used."
   ]
  },
  {
   "cell_type": "code",
   "execution_count": 19,
   "metadata": {},
   "outputs": [
    {
     "name": "stdout",
     "output_type": "stream",
     "text": [
      "The sum is  3.0\n"
     ]
    }
   ],
   "source": [
    "def add(a,b):\n",
    "    \"\"\"\n",
    "    A function to add two numbers\n",
    "    \n",
    "    Inputs:\n",
    "    \n",
    "    a: real number\n",
    "    b: real number\n",
    "    \n",
    "    Outputs:\n",
    "    c: real number which is sum of a and b.\n",
    "    \n",
    "    \"\"\"\n",
    "    \n",
    "    c = a + b\n",
    "    return c\n",
    "\n",
    "\n",
    "d = add(1., 2.)\n",
    "print('The sum is ', d)"
   ]
  },
  {
   "cell_type": "markdown",
   "metadata": {},
   "source": [
    "abs??"
   ]
  }
 ],
 "metadata": {
  "kernelspec": {
   "display_name": "Python 3",
   "language": "python",
   "name": "python3"
  },
  "language_info": {
   "codemirror_mode": {
    "name": "ipython",
    "version": 3
   },
   "file_extension": ".py",
   "mimetype": "text/x-python",
   "name": "python",
   "nbconvert_exporter": "python",
   "pygments_lexer": "ipython3",
   "version": "3.8.8"
  },
  "latex_envs": {
   "LaTeX_envs_menu_present": true,
   "autoclose": false,
   "autocomplete": true,
   "bibliofile": "biblio.bib",
   "cite_by": "apalike",
   "current_citInitial": 1,
   "eqLabelWithNumbers": true,
   "eqNumInitial": 1,
   "hotkeys": {
    "equation": "Ctrl-E",
    "itemize": "Ctrl-I"
   },
   "labels_anchors": false,
   "latex_user_defs": false,
   "report_style_numbering": false,
   "user_envs_cfg": false
  }
 },
 "nbformat": 4,
 "nbformat_minor": 2
}
