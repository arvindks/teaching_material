{
 "cells": [
  {
   "cell_type": "markdown",
   "id": "81e0acb7",
   "metadata": {},
   "source": [
    "### Profiling your code\n",
    "\n",
    "Python provides a variety of tools to determine the CPU timings and memory usage of your program.\n",
    "\n",
    "You can install them using:\n",
    "    \n",
    "```\n",
    "pip install memory_profiler\n",
    "pip install line_profiler\n",
    "```\n",
    "\n",
    "They are very easy to use as you will see below and incredibly useful in practice."
   ]
  },
  {
   "cell_type": "markdown",
   "id": "aa70ff1c",
   "metadata": {},
   "source": [
    "### Memory profiling.\n",
    "\n",
    "I have written a Python script `axpy.py` to add two arrays. Let's determine the memory usage of this script. "
   ]
  },
  {
   "cell_type": "code",
   "execution_count": 17,
   "id": "8c92a597",
   "metadata": {},
   "outputs": [
    {
     "name": "stdout",
     "output_type": "stream",
     "text": [
      "Filename: axpy.py\r\n",
      "\r\n",
      "Line #    Mem usage    Increment  Occurrences   Line Contents\r\n",
      "=============================================================\r\n",
      "    12   62.422 MiB   62.422 MiB           1   @profile\r\n",
      "    13                                         def axpy(a, x, y):\r\n",
      "    14                                             \r\n",
      "    15   63.812 MiB    1.391 MiB           1       r = a*x + y\r\n",
      "    16   63.812 MiB    0.000 MiB           1       return r\r\n",
      "\r\n",
      "\r\n",
      "Filename: axpy.py\r\n",
      "\r\n",
      "Line #    Mem usage    Increment  Occurrences   Line Contents\r\n",
      "=============================================================\r\n",
      "    18   63.812 MiB   63.812 MiB           1   @profile\r\n",
      "    19                                         def axpy_wasteful(a, x, y):\r\n",
      "    20                                             \r\n",
      "    21                                             \r\n",
      "    22   63.812 MiB    0.000 MiB           1       r = np.array([0.0])\r\n",
      "    23   76.391 MiB -3685.906 MiB      100001       for i in range(x.size):\r\n",
      "    24   76.391 MiB -3685.906 MiB      100000           ri = np.array([a*x[i] + y[i]])\r\n",
      "    25   76.391 MiB -3673.328 MiB      100000           r = np.concatenate((r, ri)) \r\n",
      "    26                                             \r\n",
      "    27   76.391 MiB    0.000 MiB           1       return r\r\n",
      "\r\n",
      "\r\n",
      "Filename: axpy.py\r\n",
      "\r\n",
      "Line #    Mem usage    Increment  Occurrences   Line Contents\r\n",
      "=============================================================\r\n",
      "    29   75.656 MiB   75.656 MiB           1   @profile\r\n",
      "    30                                         def axpy2(a, x, y):\r\n",
      "    31                                             \r\n",
      "    32   75.656 MiB    0.000 MiB           1       r = np.zeros_like(x)\r\n",
      "    33   75.656 MiB    0.000 MiB      100001       for i in range(x.size):\r\n",
      "    34   75.656 MiB    0.000 MiB      100000           r[i] = a*x[i] + y[i]\r\n",
      "    35                                             \r\n",
      "    36   75.656 MiB    0.000 MiB           1       return r\r\n",
      "\r\n",
      "\r\n"
     ]
    }
   ],
   "source": [
    "!python -m memory_profiler axpy.py"
   ]
  },
  {
   "cell_type": "markdown",
   "id": "16f73c0a",
   "metadata": {},
   "source": [
    "### CPU Time profiling"
   ]
  },
  {
   "cell_type": "code",
   "execution_count": 18,
   "id": "020ec74f",
   "metadata": {},
   "outputs": [
    {
     "name": "stdout",
     "output_type": "stream",
     "text": [
      "Wrote profile results to axpy.py.lprof\r\n",
      "Timer unit: 1e-06 s\r\n",
      "\r\n",
      "Total time: 0.00077 s\r\n",
      "File: axpy.py\r\n",
      "Function: axpy at line 12\r\n",
      "\r\n",
      "Line #      Hits         Time  Per Hit   % Time  Line Contents\r\n",
      "==============================================================\r\n",
      "    12                                           @profile\r\n",
      "    13                                           def axpy(a, x, y):\r\n",
      "    14                                               \r\n",
      "    15         1        769.0    769.0     99.9      r = a*x + y\r\n",
      "    16         1          1.0      1.0      0.1      return r\r\n",
      "\r\n",
      "Total time: 2.06931 s\r\n",
      "File: axpy.py\r\n",
      "Function: axpy_wasteful at line 18\r\n",
      "\r\n",
      "Line #      Hits         Time  Per Hit   % Time  Line Contents\r\n",
      "==============================================================\r\n",
      "    18                                           @profile\r\n",
      "    19                                           def axpy_wasteful(a, x, y):\r\n",
      "    20                                               \r\n",
      "    21                                               \r\n",
      "    22         1          6.0      6.0      0.0      r = np.array([0.0])\r\n",
      "    23    100000      43080.0      0.4      2.1      for i in range(x.size):\r\n",
      "    24    100000     209787.0      2.1     10.1          ri = np.array([a*x[i] + y[i]])\r\n",
      "    25    100000    1816439.0     18.2     87.8          r = np.concatenate((r, ri)) \r\n",
      "    26                                               \r\n",
      "    27         1          0.0      0.0      0.0      return r\r\n",
      "\r\n",
      "Total time: 0.106805 s\r\n",
      "File: axpy.py\r\n",
      "Function: axpy2 at line 29\r\n",
      "\r\n",
      "Line #      Hits         Time  Per Hit   % Time  Line Contents\r\n",
      "==============================================================\r\n",
      "    29                                           @profile\r\n",
      "    30                                           def axpy2(a, x, y):\r\n",
      "    31                                               \r\n",
      "    32         1         73.0     73.0      0.1      r = np.zeros_like(x)\r\n",
      "    33    100000      34580.0      0.3     32.4      for i in range(x.size):\r\n",
      "    34    100000      72151.0      0.7     67.6          r[i] = a*x[i] + y[i]\r\n",
      "    35                                               \r\n",
      "    36         1          1.0      1.0      0.0      return r\r\n",
      "\r\n"
     ]
    }
   ],
   "source": [
    "!kernprof -l -v axpy.py"
   ]
  },
  {
   "cell_type": "code",
   "execution_count": null,
   "id": "7e5e5a31",
   "metadata": {},
   "outputs": [],
   "source": []
  }
 ],
 "metadata": {
  "kernelspec": {
   "display_name": "Python 3",
   "language": "python",
   "name": "python3"
  },
  "language_info": {
   "codemirror_mode": {
    "name": "ipython",
    "version": 3
   },
   "file_extension": ".py",
   "mimetype": "text/x-python",
   "name": "python",
   "nbconvert_exporter": "python",
   "pygments_lexer": "ipython3",
   "version": "3.8.8"
  }
 },
 "nbformat": 4,
 "nbformat_minor": 5
}
