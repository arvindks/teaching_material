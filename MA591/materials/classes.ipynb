{
 "cells": [
  {
   "cell_type": "markdown",
   "metadata": {},
   "source": [
    "# Classes and Objects\n",
    "\n",
    "**Housekeeping**:\n",
    "    \n",
    "    + Reminder that office hours are Mondays 2:45-3:30 in person, Fridays 9-10 via zoom\n",
    "    + Project option is due November 14\n",
    "\n",
    "\n",
    "**Reading**: Langtangen's \"A primer on scientific programing with Python\" Chapters 7 and 9."
   ]
  },
  {
   "cell_type": "markdown",
   "metadata": {},
   "source": [
    "A **class** is a (user-defined) data structure that has the following components:\n",
    "    + A constructor: for initialization\n",
    "    + Attributes: data  associated with the class\n",
    "    + Methods: functions associated with the class\n",
    "        \n",
    "One or more of these can be optional. Some programming languages also require the user to implement a destructor, or garbage collector. However, Python has automatic garbage collection.\n",
    "\n",
    "An instance of a class is known as an **object**. Some examples:\n",
    "    + `list` is a class. `l = [1,2,3]` is an object. \n",
    "    + `numpy.ndarray` is a class. `d = numpy.array([1,2,3])` is an object.\n",
    "\n",
    "Similarly dictionaries, sets, ints, floats, strings, figures, subplots are all classes.\n",
    "\n",
    "\n",
    "Why object oriented?\n",
    "+ Enables reutilizing code through modularity\n",
    "+ Powerful tool to handle complex tasks because of abstraction\n",
    "+ Understanding this is important to use Python libraries\n",
    "\n",
    "Why not object oriented?\n",
    "+ \"Steep\" learning curve\n",
    "+ Some loss in perforance due to overhead\n",
    "+ Anything that can be written using object-oriented programming can be written without it\n"
   ]
  },
  {
   "cell_type": "markdown",
   "metadata": {},
   "source": [
    "### Example: Complex numbers \n",
    "\n",
    "Although there are already data structures for using complex numbers, let us consider writing our own class. We want the following functionalities\n",
    "\n",
    "```\n",
    "z = Complex(1.,1.0)\n",
    "print('The real part of z is ', z.real)\n",
    "print('The imaginary part of z is ', z.imag)\n",
    "print('The absolute value of z is ', z.abs())\n",
    "print('A string representation of z is ', z)\n",
    "\n",
    "w = Complex(2.0,3.0)\n",
    "print(z + w)\n",
    "print(z-w)\n",
    "print(z*w)\n",
    "print(z/w)\n",
    "```"
   ]
  },
  {
   "cell_type": "markdown",
   "metadata": {},
   "source": [
    "In this previous example, we want our class to have \n",
    "+ two attributes (real, imag)\n",
    "+ several methods (abs,arg)\n",
    "+ operations (addition, multiplication, division)\n",
    " "
   ]
  },
  {
   "cell_type": "markdown",
   "metadata": {},
   "source": [
    "### Take 0: Without using a class\n",
    "\n",
    "We can store the real and imaginary parts using a dictionary. In the first attempt we will cover the first few items in the list and handle other operations later on."
   ]
  },
  {
   "cell_type": "code",
   "execution_count": 7,
   "metadata": {},
   "outputs": [],
   "source": [
    "z = {'real':1.0, 'imag': 1.0}\n",
    "\n",
    "import math\n",
    "\n",
    "def zstr(z):\n",
    "    print('%2.12g+%2.12g *j'%(z['real'],z['imag']))\n",
    "    return\n",
    "\n",
    "def cabs(z):\n",
    "    zr = z['real']\n",
    "    zi = z['imag']\n",
    "    \n",
    "    return math.sqrt(zr**2. + zi**2.)\n",
    "\n",
    "def cadd(z,w):\n",
    "    return {'real':z['real']+w['real'], \\\n",
    "                'imag': z['imag'] + w['imag']}"
   ]
  },
  {
   "cell_type": "markdown",
   "metadata": {},
   "source": [
    "Check that it works."
   ]
  },
  {
   "cell_type": "code",
   "execution_count": 8,
   "metadata": {},
   "outputs": [
    {
     "name": "stdout",
     "output_type": "stream",
     "text": [
      " 1+ 1 *j\n",
      "1.4142135623730951\n",
      " 0+11 *j\n"
     ]
    }
   ],
   "source": [
    "zstr(z)\n",
    "print(cabs(z))\n",
    "w = {'real':-1.0, 'imag': 10.0}\n",
    "y = cadd(z,w)\n",
    "zstr(y)"
   ]
  },
  {
   "cell_type": "markdown",
   "metadata": {},
   "source": [
    "We can write the complex operations using a dictionary but the resulting operations can look a little messy.\n",
    "\n",
    "\n",
    "\n",
    "### Take 1: simple implementation \n",
    "\n",
    "Let us implement the same operations using a class structure. Later on, we will handle the operations."
   ]
  },
  {
   "cell_type": "code",
   "execution_count": 10,
   "metadata": {},
   "outputs": [],
   "source": [
    "import math\n",
    "\n",
    "class Complex:\n",
    "    \"\"\"\n",
    "    The documentation for the class goes here.\n",
    "    Notice that a convention is to make the class names capitalized.\n",
    "    \n",
    "    \n",
    "    \"\"\"\n",
    "    \n",
    "    def __init__(self, real = 0., imag = 0.):\n",
    "        \"\"\"\n",
    "        Constructor for the class\n",
    "        \"\"\"\n",
    "        self.real = real\n",
    "        self.imag = imag\n",
    "    \n",
    "    def __str__(self):\n",
    "        return '%2.12g+%2.12g *j'%(self.real,self.imag)\n",
    "    \n",
    "    def abs(self):\n",
    "        \"\"\"\n",
    "        |z| = \\sqrt{x^2 + y^2}\n",
    "        \n",
    "        \"\"\"\n",
    "        \n",
    "        self._abs = math.sqrt(self.real**2. + self.imag**2.)\n",
    "        return self._abs\n"
   ]
  },
  {
   "cell_type": "code",
   "execution_count": 11,
   "metadata": {},
   "outputs": [
    {
     "name": "stdout",
     "output_type": "stream",
     "text": [
      "Help on class Complex in module __main__:\n",
      "\n",
      "class Complex(builtins.object)\n",
      " |  Complex(real=0.0, imag=0.0)\n",
      " |  \n",
      " |  The documentation for the class goes here.\n",
      " |  Notice that a convention is to make the class names capitalized.\n",
      " |  \n",
      " |  Methods defined here:\n",
      " |  \n",
      " |  __init__(self, real=0.0, imag=0.0)\n",
      " |      Constructor for the class\n",
      " |  \n",
      " |  __str__(self)\n",
      " |      Return str(self).\n",
      " |  \n",
      " |  abs(self)\n",
      " |      |z| = \\sqrt{x^2 + y^2}\n",
      " |  \n",
      " |  ----------------------------------------------------------------------\n",
      " |  Data descriptors defined here:\n",
      " |  \n",
      " |  __dict__\n",
      " |      dictionary for instance variables (if defined)\n",
      " |  \n",
      " |  __weakref__\n",
      " |      list of weak references to the object (if defined)\n",
      "\n"
     ]
    }
   ],
   "source": [
    "help(Complex)"
   ]
  },
  {
   "cell_type": "markdown",
   "metadata": {},
   "source": [
    "We test out the various implementations of the class."
   ]
  },
  {
   "cell_type": "code",
   "execution_count": 12,
   "metadata": {},
   "outputs": [
    {
     "name": "stdout",
     "output_type": "stream",
     "text": [
      "The real part of z is 2 and the imaginary part is -1.5\n",
      "The absolute value of z is  2.5\n",
      "The complex number is   2+-1.5 *j\n"
     ]
    }
   ],
   "source": [
    "z = Complex(2.,-1.5)\n",
    "print('The real part of z is %.4g and the imaginary part is %.4g' %( z.real,z.imag))\n",
    "print('The absolute value of z is ', z.abs())\n",
    "print('The complex number is ', z)"
   ]
  },
  {
   "cell_type": "code",
   "execution_count": 13,
   "metadata": {},
   "outputs": [
    {
     "name": "stdout",
     "output_type": "stream",
     "text": [
      " 0+ 1 *j\n"
     ]
    }
   ],
   "source": [
    "z = Complex(imag = 1.0)\n",
    "print(z)"
   ]
  },
  {
   "cell_type": "code",
   "execution_count": 14,
   "metadata": {},
   "outputs": [
    {
     "name": "stdout",
     "output_type": "stream",
     "text": [
      "<class '__main__.Complex'>\n"
     ]
    }
   ],
   "source": [
    "print(type(z)) # The type of z"
   ]
  },
  {
   "cell_type": "markdown",
   "metadata": {},
   "source": [
    "### Some remarks:\n",
    "    \n",
    "+ Classes allow for modular codes by grouping data (attributes) and functions (methods). \n",
    "+ Here ```Complex``` is the class, and ```z``` is an instance of this class.\n",
    "+ Often, codes involving classes can be written without classes. However, classes can be quite powerful.\n",
    "+ If an attribute or a method starts with a ```_```, the convention is  that it is \"protected\" or \"private\" and should not be used or accessed outside the class by unauthorized users (anyone other than the developer).\n",
    "\n"
   ]
  },
  {
   "cell_type": "markdown",
   "metadata": {},
   "source": [
    "## The ```self``` variable\n",
    "\n",
    "+ ```self``` has to be the first argument of each method (function), including the constructor. \n",
    "+ We can use ```self.<variable>``` to access the (local) attributes and ```self.<method>(<args>)``` to call the (local) methods.\n",
    "+ When we call a method, we can drop the ```self``` argument.\n",
    "+ We can initialize attributes at places other than constructors (e.g. ```self._abs```)\n",
    "\n",
    "In this example, the constructor ```__init__``` is initializing the variables ```real``` and ```imag```.\n",
    "```\n",
    "self.real = real\n",
    "self.imag = imag\n",
    "```\n",
    "These attributes are stored and can be accessed by any method within the class. For example, both the ```abs``` and ```__str__``` methods were able to access the attributes. "
   ]
  },
  {
   "cell_type": "markdown",
   "metadata": {},
   "source": [
    "### Take 2: This time with the operations\n",
    "\n",
    "We are going to overload the ```+``` symbol (and other symbols) to handle complex numbers. This is known as **operator overloading**."
   ]
  },
  {
   "cell_type": "code",
   "execution_count": 15,
   "metadata": {},
   "outputs": [],
   "source": [
    "class Complex:\n",
    "    def __init__(self, real = 0., imag = 0.):\n",
    "        \n",
    "        self.real = real\n",
    "        self.imag = imag\n",
    "    \n",
    "    def abs(self):\n",
    "        self._abs = math.sqrt(self.real**2. + self.imag**2.)\n",
    "        return self._abs\n",
    "        \n",
    "    def __str__(self):\n",
    "        return '%2.12g+%2.12gj'%(self.real,self.imag)\n",
    "\n",
    "    def __add__(self, other):\n",
    "        # mreal = self.real + other.real\n",
    "        # mimag = self.imag + other.imag\n",
    "        # m = Complex(mreal,mimag)\n",
    "        # return m\n",
    "        return Complex(self.real + other.real, self.imag + other.imag)\n",
    "    \n",
    "    def __sub__(self, other2):\n",
    "        return Complex(self.real - other2.real, self.imag - other2.imag)\n",
    "    \n",
    "    def __mul__(self, other):\n",
    "        return Complex(self.real*other.real - self.imag*other.imag,\\\n",
    "                      self.imag*other.real + self.real*other.imag)\n",
    "    def __eq__(self, other):\n",
    "        eps = 1.e-14\n",
    "        return abs(self.real-other.real) < eps and abs(self.imag - other.imag) < eps\n",
    "    \n",
    "    def __abs__(self):\n",
    "        return self.abs()\n"
   ]
  },
  {
   "cell_type": "markdown",
   "metadata": {},
   "source": [
    "Let's see various ways of using this class."
   ]
  },
  {
   "cell_type": "code",
   "execution_count": 18,
   "metadata": {},
   "outputs": [],
   "source": [
    "z = Complex(1.0,1.0)\n",
    "w = Complex(2.0,3.0)\n",
    "w2 = Complex(3,4)\n"
   ]
  },
  {
   "cell_type": "code",
   "execution_count": null,
   "metadata": {},
   "outputs": [],
   "source": []
  },
  {
   "cell_type": "markdown",
   "metadata": {},
   "source": [
    "We can also overload other operators. Here is a subset of the operations and the corresponding methods (see Langtangen's Primer book, Section 7.7).\n",
    "\n",
    "| Operation  | Method |\n",
    "| ------------- | ------------- |\n",
    "| + | ```__add__```|\n",
    "|- | ```__sub__```|\n",
    "|* | ```__mul__```|\n",
    "|/ | ```__div__```|\n",
    "|** |``` __pow__```|\n",
    "| < | ```__lt__```|\n",
    "| <= | ```__le__``` |\n",
    "| == | ```__eq__``` |\n",
    "| != | ```__ne__``` | \n",
    "\n",
    "\n",
    "Implementing all these functionalities for the Complex class requires some effort. This doesn't necessarily mean that you should have to do it. Python has two modules: ```cmath``` and ```numpy``` to handle complex numbers."
   ]
  },
  {
   "cell_type": "code",
   "execution_count": 20,
   "metadata": {},
   "outputs": [
    {
     "name": "stdout",
     "output_type": "stream",
     "text": [
      "Help on class complex in module builtins:\n",
      "\n",
      "class complex(object)\n",
      " |  complex(real=0, imag=0)\n",
      " |  \n",
      " |  Create a complex number from a real part and an optional imaginary part.\n",
      " |  \n",
      " |  This is equivalent to (real + imag*1j) where imag defaults to 0.\n",
      " |  \n",
      " |  Methods defined here:\n",
      " |  \n",
      " |  __abs__(self, /)\n",
      " |      abs(self)\n",
      " |  \n",
      " |  __add__(self, value, /)\n",
      " |      Return self+value.\n",
      " |  \n",
      " |  __bool__(self, /)\n",
      " |      self != 0\n",
      " |  \n",
      " |  __divmod__(self, value, /)\n",
      " |      Return divmod(self, value).\n",
      " |  \n",
      " |  __eq__(self, value, /)\n",
      " |      Return self==value.\n",
      " |  \n",
      " |  __float__(self, /)\n",
      " |      float(self)\n",
      " |  \n",
      " |  __floordiv__(self, value, /)\n",
      " |      Return self//value.\n",
      " |  \n",
      " |  __format__(...)\n",
      " |      complex.__format__() -> str\n",
      " |      \n",
      " |      Convert to a string according to format_spec.\n",
      " |  \n",
      " |  __ge__(self, value, /)\n",
      " |      Return self>=value.\n",
      " |  \n",
      " |  __getattribute__(self, name, /)\n",
      " |      Return getattr(self, name).\n",
      " |  \n",
      " |  __getnewargs__(...)\n",
      " |  \n",
      " |  __gt__(self, value, /)\n",
      " |      Return self>value.\n",
      " |  \n",
      " |  __hash__(self, /)\n",
      " |      Return hash(self).\n",
      " |  \n",
      " |  __int__(self, /)\n",
      " |      int(self)\n",
      " |  \n",
      " |  __le__(self, value, /)\n",
      " |      Return self<=value.\n",
      " |  \n",
      " |  __lt__(self, value, /)\n",
      " |      Return self<value.\n",
      " |  \n",
      " |  __mod__(self, value, /)\n",
      " |      Return self%value.\n",
      " |  \n",
      " |  __mul__(self, value, /)\n",
      " |      Return self*value.\n",
      " |  \n",
      " |  __ne__(self, value, /)\n",
      " |      Return self!=value.\n",
      " |  \n",
      " |  __neg__(self, /)\n",
      " |      -self\n",
      " |  \n",
      " |  __pos__(self, /)\n",
      " |      +self\n",
      " |  \n",
      " |  __pow__(self, value, mod=None, /)\n",
      " |      Return pow(self, value, mod).\n",
      " |  \n",
      " |  __radd__(self, value, /)\n",
      " |      Return value+self.\n",
      " |  \n",
      " |  __rdivmod__(self, value, /)\n",
      " |      Return divmod(value, self).\n",
      " |  \n",
      " |  __repr__(self, /)\n",
      " |      Return repr(self).\n",
      " |  \n",
      " |  __rfloordiv__(self, value, /)\n",
      " |      Return value//self.\n",
      " |  \n",
      " |  __rmod__(self, value, /)\n",
      " |      Return value%self.\n",
      " |  \n",
      " |  __rmul__(self, value, /)\n",
      " |      Return value*self.\n",
      " |  \n",
      " |  __rpow__(self, value, mod=None, /)\n",
      " |      Return pow(value, self, mod).\n",
      " |  \n",
      " |  __rsub__(self, value, /)\n",
      " |      Return value-self.\n",
      " |  \n",
      " |  __rtruediv__(self, value, /)\n",
      " |      Return value/self.\n",
      " |  \n",
      " |  __sub__(self, value, /)\n",
      " |      Return self-value.\n",
      " |  \n",
      " |  __truediv__(self, value, /)\n",
      " |      Return self/value.\n",
      " |  \n",
      " |  conjugate(...)\n",
      " |      complex.conjugate() -> complex\n",
      " |      \n",
      " |      Return the complex conjugate of its argument. (3-4j).conjugate() == 3+4j.\n",
      " |  \n",
      " |  ----------------------------------------------------------------------\n",
      " |  Static methods defined here:\n",
      " |  \n",
      " |  __new__(*args, **kwargs) from builtins.type\n",
      " |      Create and return a new object.  See help(type) for accurate signature.\n",
      " |  \n",
      " |  ----------------------------------------------------------------------\n",
      " |  Data descriptors defined here:\n",
      " |  \n",
      " |  imag\n",
      " |      the imaginary part of a complex number\n",
      " |  \n",
      " |  real\n",
      " |      the real part of a complex number\n",
      "\n"
     ]
    }
   ],
   "source": [
    "help(complex)"
   ]
  },
  {
   "cell_type": "markdown",
   "metadata": {},
   "source": [
    "### Some useful commands\n",
    "\n",
    "+ ```isinstance(<object>, <Class>)```: Is the object an instance of the Class?\n",
    "+  ```hasattr(<object>,'<attribute>')```: Does the object have the attribute? "
   ]
  },
  {
   "cell_type": "code",
   "execution_count": 21,
   "metadata": {},
   "outputs": [
    {
     "name": "stdout",
     "output_type": "stream",
     "text": [
      "True\n",
      "True\n"
     ]
    }
   ],
   "source": [
    "print(isinstance(z,Complex))\n",
    "print(hasattr(z,'real'))"
   ]
  },
  {
   "cell_type": "markdown",
   "metadata": {},
   "source": [
    "### Exercise\n",
    "\n",
    "Write a class called ```Parabola``` to implement the formula:\n",
    "    \n",
    "  $$  y(x) = a_0 + a_1 x + a_2 x^2 $$\n",
    "\n",
    "+ The class constructor should have three attributes ```a0, a1, a2```.\n",
    "+ It should have a method ```eval``` that evaluates the parabola at the point $x$.\n"
   ]
  },
  {
   "cell_type": "code",
   "execution_count": null,
   "metadata": {},
   "outputs": [],
   "source": []
  },
  {
   "cell_type": "markdown",
   "metadata": {},
   "source": [
    "If you implement it correctly, the following code should run without errors."
   ]
  },
  {
   "cell_type": "code",
   "execution_count": 22,
   "metadata": {},
   "outputs": [
    {
     "name": "stdout",
     "output_type": "stream",
     "text": [
      "7.0\n",
      "7.0\n"
     ]
    }
   ],
   "source": [
    "p = Parabola(1.,-1.,2.)\n",
    "print(p.eval(2))\n",
    "print(p(2.))      # You will have to implement the method __call__"
   ]
  },
  {
   "cell_type": "markdown",
   "metadata": {},
   "source": [
    "## Inheritance and Multiple Inheritance\n",
    "\n",
    "Classes can be built on top of other classes. These allow us to reutilize functionalities without reimplementing the classes from scratch. \n",
    "\n",
    "For example, a line is a special case of a parabola. Can we use the Parabola class we wrote to implement lines? "
   ]
  },
  {
   "cell_type": "markdown",
   "metadata": {},
   "source": [
    "We can use the Parabola Class as a \"template\" to build the Line class. "
   ]
  },
  {
   "cell_type": "code",
   "execution_count": 23,
   "metadata": {},
   "outputs": [],
   "source": [
    "class Line(Parabola):\n",
    "    def __init__(self, a0, a1):\n",
    "        #Invokes the constructor of the base class\n",
    "        Parabola.__init__(self, a0, a1, a2 = 0.)\n",
    "        # Add additional constructor material here\n",
    "    \n",
    "    # No need to reimplement the __call__ and eval methods \n",
    "    # since it is being derived \n",
    "    \n",
    "    \n",
    "    def __str__(self):\n",
    "        #Additional function that was not in Parabola\n",
    "        return '%.12g+%0.12gx' %(self.a0,self.a1)"
   ]
  },
  {
   "cell_type": "code",
   "execution_count": 24,
   "metadata": {},
   "outputs": [
    {
     "name": "stdout",
     "output_type": "stream",
     "text": [
      "-1.0\n",
      "-1.0\n",
      "1+-1x\n"
     ]
    }
   ],
   "source": [
    "l = Line(1.,-1.)\n",
    "print(l.eval(2))\n",
    "print(l(2.))       \n",
    "print(l)"
   ]
  },
  {
   "cell_type": "markdown",
   "metadata": {},
   "source": [
    "Comments\n",
    "\n",
    "\n",
    "+ The parent class (Parabola) is known as the *base class* or *superclass*, and the child classes (Line) are called *derived classes* or *subclasses*\n",
    "+ The ```__str__``` method is not available for ```Parabola``` and only exists for ```Line```\n",
    "+ We can inherit from multiple classes. This can create a class hierarchy. \n",
    "\n",
    "What does ```isinstance``` do when confronted with a derived class?"
   ]
  },
  {
   "cell_type": "code",
   "execution_count": 25,
   "metadata": {},
   "outputs": [
    {
     "name": "stdout",
     "output_type": "stream",
     "text": [
      "True\n",
      "True\n"
     ]
    }
   ],
   "source": [
    "print(isinstance(l,Line))\n",
    "print(isinstance(l,Parabola)) # Tests positive for the base class as well"
   ]
  },
  {
   "cell_type": "code",
   "execution_count": null,
   "metadata": {},
   "outputs": [],
   "source": []
  }
 ],
 "metadata": {
  "kernelspec": {
   "display_name": "Python 3",
   "language": "python",
   "name": "python3"
  },
  "language_info": {
   "codemirror_mode": {
    "name": "ipython",
    "version": 3
   },
   "file_extension": ".py",
   "mimetype": "text/x-python",
   "name": "python",
   "nbconvert_exporter": "python",
   "pygments_lexer": "ipython3",
   "version": "3.8.8"
  }
 },
 "nbformat": 4,
 "nbformat_minor": 2
}
