{
 "cells": [
  {
   "cell_type": "markdown",
   "metadata": {
    "slideshow": {
     "slide_type": "slide"
    }
   },
   "source": [
    "### Loops and conditionals \n",
    "\n",
    "We will learn \n",
    "1. ```if/elif/else``` statements   \n",
    "2. ```while``` loops \n",
    "3. ```for``` loops"
   ]
  },
  {
   "cell_type": "markdown",
   "metadata": {
    "slideshow": {
     "slide_type": "slide"
    }
   },
   "source": [
    "# if/elif/else\n",
    "\n",
    "\n",
    "```\n",
    "\"If you can talk with crowds and keep your virtue,   \n",
    "    Or walk with Kings—nor lose the common touch,\n",
    "If neither foes nor loving friends can hurt you,\n",
    "    If all men count with you, but none too much;\n",
    "If you can fill the unforgiving minutem\n",
    "    With sixty seconds’ worth of distance run,   \n",
    "Yours is the Earth and everything that’s in it,   \n",
    "    And—which is more—you’ll be a Man, my son!\"\n",
    "                      - Rudyard Kipling\n",
    "```"
   ]
  },
  {
   "cell_type": "markdown",
   "metadata": {
    "slideshow": {
     "slide_type": "slide"
    }
   },
   "source": [
    "### If/Else\n",
    "\n",
    "The general structure of an if/else test is\n",
    "\n",
    "```\n",
    "if condition: #Note the colon\n",
    "    <a set of statements executed if condition is True>\n",
    "else:         #Note the colon\n",
    "    <a set of statements executed if condition is False>\n",
    "```\n",
    "\n",
    "This is useful for functions defined piecewise. Example\n",
    "$$ H(x) = \\left\\{\\begin{array}{ll}1 & x \\geq 0 \\\\ 0 & x < 0. \\end{array} \\right. $$ "
   ]
  },
  {
   "cell_type": "code",
   "execution_count": null,
   "metadata": {},
   "outputs": [],
   "source": [
    "x = 5. \n",
    "if x >= 0.:\n",
    "    H = 1. \n",
    "else:\n",
    "    H = 0.\n",
    "print(H)"
   ]
  },
  {
   "cell_type": "code",
   "execution_count": null,
   "metadata": {},
   "outputs": [],
   "source": [
    "if -5.:\n",
    "    print('Here')"
   ]
  },
  {
   "cell_type": "markdown",
   "metadata": {
    "slideshow": {
     "slide_type": "slide"
    }
   },
   "source": [
    "### Inline If statement \n",
    "\n",
    "The conditional \n",
    "\n",
    "``` \n",
    "if condition:\n",
    "    a = v1 \n",
    "else:\n",
    "    a = v2\n",
    "```\n",
    "\n",
    "can be written in an alternative fashion\n",
    "\n",
    "\n",
    "```\n",
    "a = v1 if condition else v2\n",
    "```\n",
    "\n",
    "For the function $H(x)$ defined before:"
   ]
  },
  {
   "cell_type": "code",
   "execution_count": null,
   "metadata": {},
   "outputs": [],
   "source": [
    "x = 5.\n",
    "H = 1. if x >= 0. else 0.\n",
    "print('The value of H is ', H)"
   ]
  },
  {
   "cell_type": "markdown",
   "metadata": {
    "slideshow": {
     "slide_type": "slide"
    }
   },
   "source": [
    "### if/elif/else\n",
    "\n",
    "Consider the sign function\n",
    "\n",
    "$$ sign(x) = \\left\\{ \\begin{array}{ll}  1 & x > 0 \\\\ 0  & x = 0 \\\\ -1 & x < 0 \\end{array}\\right.$$"
   ]
  },
  {
   "cell_type": "code",
   "execution_count": null,
   "metadata": {},
   "outputs": [],
   "source": [
    "x = 2\n",
    "\n",
    "if x > 0:\n",
    "    sign = 1\n",
    "elif x == 0:\n",
    "    sign = 0\n",
    "elif x < 0:\n",
    "    sign = -1\n",
    "else:\n",
    "    print(\"Should never reach here\")\n",
    "    \n",
    "print('The sign of x = {0} is {1}.'.format(x, sign) )"
   ]
  },
  {
   "cell_type": "markdown",
   "metadata": {
    "slideshow": {
     "slide_type": "slide"
    }
   },
   "source": [
    "# While \n",
    "\n",
    "```\n",
    "I look at the world and I notice it's turning\n",
    "While my guitar gently weeps\n",
    "With every mistake we must surely be learning\n",
    "Still my guitar gently weeps \n",
    "                        - George Harrison\n",
    "```"
   ]
  },
  {
   "cell_type": "markdown",
   "metadata": {
    "slideshow": {
     "slide_type": "slide"
    }
   },
   "source": [
    "### While loops\n",
    "\n",
    "Syntax:\n",
    "```\n",
    "\n",
    "while <condition>:\n",
    "    <do something>\n",
    "    <update condition>\n",
    "\n",
    "```\n",
    "\n",
    "Warning: be careful of infinite loops. \n",
    "\n",
    "\n",
    "Example: Count all multiples of 3 less than 20.\n"
   ]
  },
  {
   "cell_type": "code",
   "execution_count": null,
   "metadata": {},
   "outputs": [],
   "source": [
    "num = 1\n",
    "count = 0\n",
    "while num < 20:\n",
    "    if num % 3 == 0:\n",
    "        count += num   \n",
    "        \n",
    "    num += 1\n",
    "        \n",
    "print('The sum of multiples of 3 less than 20 is ', count)"
   ]
  },
  {
   "cell_type": "markdown",
   "metadata": {
    "slideshow": {
     "slide_type": "slide"
    }
   },
   "source": [
    "# For \n",
    "\n",
    "```\n",
    "Therefore, send not to know\n",
    "For whom the bell tolls,\n",
    "It tolls for thee.\n",
    "              - John Donne\n",
    "```"
   ]
  },
  {
   "cell_type": "markdown",
   "metadata": {
    "slideshow": {
     "slide_type": "slide"
    }
   },
   "source": [
    "# For loops \n",
    "\n",
    "+ Allow the user to perform the same operation on every element of a list\n",
    "+ Preferable over while, especially if the number of iterations is known in advance\n"
   ]
  },
  {
   "cell_type": "code",
   "execution_count": 3,
   "metadata": {},
   "outputs": [
    {
     "name": "stdout",
     "output_type": "stream",
     "text": [
      "0\n",
      "0 is divible by 7.\n",
      "1\n",
      "2\n",
      "3\n",
      "4\n",
      "5\n",
      "6\n",
      "7\n",
      "7 is divible by 7.\n",
      "8\n",
      "9\n"
     ]
    }
   ],
   "source": [
    "for i in range(10):\n",
    "    print(i)\n",
    "    if i%7 == 0:\n",
    "        print(i, \"is divible by 7.\")"
   ]
  },
  {
   "cell_type": "code",
   "execution_count": null,
   "metadata": {},
   "outputs": [],
   "source": [
    "max(list())"
   ]
  },
  {
   "cell_type": "markdown",
   "metadata": {
    "slideshow": {
     "slide_type": "slide"
    }
   },
   "source": [
    "### Details on range\n",
    "+ ```range(n)``` generates integers 0,1,...,n-1.\n",
    "+ ```range(start,stop,step)``` generates start, start + step, ...., ends before stop. "
   ]
  },
  {
   "cell_type": "code",
   "execution_count": 4,
   "metadata": {},
   "outputs": [
    {
     "data": {
      "text/plain": [
       "[0, 1, 2, 3, 4]"
      ]
     },
     "execution_count": 4,
     "metadata": {},
     "output_type": "execute_result"
    }
   ],
   "source": [
    "list(range(5))"
   ]
  },
  {
   "cell_type": "code",
   "execution_count": 5,
   "metadata": {},
   "outputs": [
    {
     "data": {
      "text/plain": [
       "[2, 5, 8, 11, 14]"
      ]
     },
     "execution_count": 5,
     "metadata": {},
     "output_type": "execute_result"
    }
   ],
   "source": [
    "list(range(2,15,3))"
   ]
  },
  {
   "cell_type": "code",
   "execution_count": 6,
   "metadata": {},
   "outputs": [
    {
     "data": {
      "text/plain": [
       "[36, 31, 26, 21, 16, 11, 6, 1, -4, -9]"
      ]
     },
     "execution_count": 6,
     "metadata": {},
     "output_type": "execute_result"
    }
   ],
   "source": [
    "list(range(36,-11,-5))"
   ]
  },
  {
   "cell_type": "markdown",
   "metadata": {},
   "source": [
    "#### Find all the multiples of 3 less than 20"
   ]
  },
  {
   "cell_type": "code",
   "execution_count": 7,
   "metadata": {},
   "outputs": [
    {
     "name": "stdout",
     "output_type": "stream",
     "text": [
      "63\n"
     ]
    }
   ],
   "source": [
    "count = 0\n",
    "for i in range(20):\n",
    "    if i % 3 == 0:\n",
    "        count += i \n",
    "print(count)"
   ]
  },
  {
   "cell_type": "code",
   "execution_count": 10,
   "metadata": {},
   "outputs": [
    {
     "name": "stdout",
     "output_type": "stream",
     "text": [
      "63\n"
     ]
    }
   ],
   "source": [
    "count = 0\n",
    "for i in range(20):\n",
    "    count += i if i % 3 == 0 else 0\n",
    "print(count)"
   ]
  },
  {
   "cell_type": "markdown",
   "metadata": {
    "slideshow": {
     "slide_type": "slide"
    }
   },
   "source": [
    "### Break and continue\n",
    "\n",
    "\n",
    "Two other useful commands\n",
    "+ ```break``` breaks out of the loop\n",
    "+ ```continue``` breaks out of the current iteration, but continues the iterative process\n",
    "\n",
    "These can be used in conjunction with ```while``` or ```for``` loops "
   ]
  },
  {
   "cell_type": "code",
   "execution_count": 11,
   "metadata": {},
   "outputs": [
    {
     "name": "stdout",
     "output_type": "stream",
     "text": [
      "The value of j is  0\n",
      "The value of j is  1\n",
      "The value of j is  2\n",
      "The value of j is  3\n",
      "The value of j is  4\n"
     ]
    }
   ],
   "source": [
    "## Break\n",
    "for j in range(10):\n",
    "    if j == 5:\n",
    "        break\n",
    "    print('The value of j is ', j)"
   ]
  },
  {
   "cell_type": "code",
   "execution_count": 13,
   "metadata": {},
   "outputs": [
    {
     "name": "stdout",
     "output_type": "stream",
     "text": [
      "The value of j is  0\n",
      "The value of j is  1\n",
      "The value of j is  2\n",
      "The value of j is  3\n",
      "The value of j is  4\n",
      "The value of j is  5\n"
     ]
    }
   ],
   "source": [
    "## Continue\n",
    "for j in range(10):\n",
    "    if j > 5:\n",
    "        continue\n",
    "    print('The value of j is ', j)"
   ]
  },
  {
   "cell_type": "markdown",
   "metadata": {
    "slideshow": {
     "slide_type": "slide"
    }
   },
   "source": [
    "### Loops and lists \n",
    "\n",
    "Can iterate through one or multiple lists in different ways"
   ]
  },
  {
   "cell_type": "code",
   "execution_count": 15,
   "metadata": {},
   "outputs": [
    {
     "name": "stdout",
     "output_type": "stream",
     "text": [
      "The mathematician is  Euler\n",
      "The mathematician is  Gauss\n",
      "The mathematician is  Ramanujam\n"
     ]
    }
   ],
   "source": [
    "luminaries = ['Euler', 'Gauss', 'Ramanujam']\n",
    "for person in luminaries:\n",
    "    print('The mathematician is ', person)"
   ]
  },
  {
   "cell_type": "code",
   "execution_count": 16,
   "metadata": {},
   "outputs": [
    {
     "name": "stdout",
     "output_type": "stream",
     "text": [
      "Euler\n",
      "Gauss\n",
      "Ramanujam\n"
     ]
    }
   ],
   "source": [
    "for j in range(len(luminaries)):\n",
    "    print(luminaries[j])"
   ]
  },
  {
   "cell_type": "code",
   "execution_count": null,
   "metadata": {},
   "outputs": [],
   "source": [
    "nationalities = ['Swiss', 'German', 'Indian']\n",
    "for person, country in zip(luminaries,nationalities): # Iterate through multiple lists\n",
    "    print(\"The mathematician \", person, \" was \", country)"
   ]
  },
  {
   "cell_type": "markdown",
   "metadata": {
    "slideshow": {
     "slide_type": "slide"
    }
   },
   "source": [
    "### Loops and lists \n",
    "\n",
    "A **list comprehension** is useful in constructing a list using a for loop\n",
    "\n",
    "```\n",
    "lst = [function(e) for e in list] \n",
    "```"
   ]
  },
  {
   "cell_type": "code",
   "execution_count": 18,
   "metadata": {},
   "outputs": [
    {
     "name": "stdout",
     "output_type": "stream",
     "text": [
      "[0, 1, 4, 9, 16, 25, 36, 49, 64, 81]\n"
     ]
    }
   ],
   "source": [
    "lst = [j**2 for j in range(10)]\n",
    "\n",
    "print(lst)"
   ]
  },
  {
   "cell_type": "code",
   "execution_count": 17,
   "metadata": {},
   "outputs": [
    {
     "name": "stdout",
     "output_type": "stream",
     "text": [
      "[0, 1, 4, 9, 16, 25, 36, 49, 64, 81]\n"
     ]
    }
   ],
   "source": [
    "lst = []\n",
    "for j in range(10):\n",
    "    lst.append(j**2)\n",
    "print(lst)"
   ]
  },
  {
   "cell_type": "code",
   "execution_count": null,
   "metadata": {},
   "outputs": [],
   "source": []
  },
  {
   "cell_type": "markdown",
   "metadata": {},
   "source": [
    "Iterating through lists but with a counter. "
   ]
  },
  {
   "cell_type": "code",
   "execution_count": 20,
   "metadata": {},
   "outputs": [
    {
     "name": "stdout",
     "output_type": "stream",
     "text": [
      "Mathematician # 0 is  Euler\n",
      "Mathematician # 1 is  Gauss\n",
      "Mathematician # 2 is  Ramanujam\n"
     ]
    }
   ],
   "source": [
    "#for j in range(len(luminaries)):\n",
    "#    print('Mathematician #', j, 'is ', luminaries[j])\n",
    "    \n",
    "#Alternative \n",
    "for j, person in enumerate(luminaries): #Gives a counter over a list\n",
    "    print('Mathematician #', j, 'is ', person)\n"
   ]
  },
  {
   "cell_type": "markdown",
   "metadata": {
    "slideshow": {
     "slide_type": "slide"
    }
   },
   "source": [
    "### Loops and dictionaries \n",
    "\n",
    "Syntax:\n",
    "```\n",
    "for key, value in dictionary.items():\n",
    "   #Code to do something with the (key, value) pair \n",
    "    \n",
    "```\n",
    "\n",
    "Can also loop through keys ```dictionary.keys()``` and values ```dictionary.values()```"
   ]
  },
  {
   "cell_type": "code",
   "execution_count": 21,
   "metadata": {},
   "outputs": [
    {
     "name": "stdout",
     "output_type": "stream",
     "text": [
      "The mathematician  Euler  was  Swiss\n",
      "The mathematician  Gauss  was  German\n",
      "The mathematician  Ramanujam  was  Indian\n"
     ]
    }
   ],
   "source": [
    "luminaries = {'Euler': 'Swiss', 'Gauss': 'German', 'Ramanujam': 'Indian'}\n",
    "\n",
    "\n",
    "\n",
    "for person, country in luminaries.items():\n",
    "    print(\"The mathematician \", person, \" was \", country)"
   ]
  }
 ],
 "metadata": {
  "kernelspec": {
   "display_name": "Python 3",
   "language": "python",
   "name": "python3"
  },
  "language_info": {
   "codemirror_mode": {
    "name": "ipython",
    "version": 3
   },
   "file_extension": ".py",
   "mimetype": "text/x-python",
   "name": "python",
   "nbconvert_exporter": "python",
   "pygments_lexer": "ipython3",
   "version": "3.8.8"
  }
 },
 "nbformat": 4,
 "nbformat_minor": 2
}
