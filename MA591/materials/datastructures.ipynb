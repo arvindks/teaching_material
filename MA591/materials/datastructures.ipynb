{
 "cells": [
  {
   "cell_type": "markdown",
   "metadata": {
    "slideshow": {
     "slide_type": "slide"
    }
   },
   "source": [
    "### Built-in data structures\n",
    "\n",
    "1. Lists\n",
    "```\n",
    "a = [1,2,3]\n",
    "```\n",
    "2. Tuples\n",
    "```\n",
    "a = (1,2,3)\n",
    "```\n",
    "3. Dictionaries\n",
    "```\n",
    "a = {'one':1, 'two': 2, 'three': 3}\n",
    "```"
   ]
  },
  {
   "cell_type": "markdown",
   "metadata": {
    "slideshow": {
     "slide_type": "slide"
    }
   },
   "source": [
    "# Lists "
   ]
  },
  {
   "cell_type": "markdown",
   "metadata": {
    "slideshow": {
     "slide_type": "slide"
    }
   },
   "source": [
    "### Lists\n",
    "\n",
    "\n",
    "+ A list is a collection of (unlabelled) items which can be of any data type.\n",
    "+ The elements items are comma separated\n",
    "+ Can change the size and the elements of a list\n",
    "+ A list can be used as an array, stack, or queue."
   ]
  },
  {
   "cell_type": "markdown",
   "metadata": {
    "slideshow": {
     "slide_type": "slide"
    }
   },
   "source": [
    "### Constructors"
   ]
  },
  {
   "cell_type": "code",
   "execution_count": 1,
   "metadata": {},
   "outputs": [
    {
     "name": "stdout",
     "output_type": "stream",
     "text": [
      "[1, 2, 3]\n"
     ]
    }
   ],
   "source": [
    "lst = list()   # Empty list\n",
    "lst = []\n",
    "lst = [1,2,3]       \n",
    "print(lst)"
   ]
  },
  {
   "cell_type": "code",
   "execution_count": 2,
   "metadata": {},
   "outputs": [
    {
     "name": "stdout",
     "output_type": "stream",
     "text": [
      "[1, 2, 3]\n"
     ]
    }
   ],
   "source": [
    "lst = [1,2,3]\n",
    "print(lst)"
   ]
  },
  {
   "cell_type": "code",
   "execution_count": 3,
   "metadata": {},
   "outputs": [
    {
     "name": "stdout",
     "output_type": "stream",
     "text": [
      "[0, 1, 4, 9, 16, 25, 36, 49, 64, 81]\n"
     ]
    }
   ],
   "source": [
    "# Construct a list by enumeration\n",
    "num = [i**2 for i in range(10)]\n",
    "print(num)"
   ]
  },
  {
   "cell_type": "markdown",
   "metadata": {
    "slideshow": {
     "slide_type": "slide"
    }
   },
   "source": [
    "### Properties and methods"
   ]
  },
  {
   "cell_type": "code",
   "execution_count": 4,
   "metadata": {},
   "outputs": [
    {
     "data": {
      "text/plain": [
       "3"
      ]
     },
     "execution_count": 4,
     "metadata": {},
     "output_type": "execute_result"
    }
   ],
   "source": [
    "#Length of a list\n",
    "l = [1,2,3]\n",
    "len(l)"
   ]
  },
  {
   "cell_type": "code",
   "execution_count": 5,
   "metadata": {},
   "outputs": [
    {
     "name": "stdout",
     "output_type": "stream",
     "text": [
      "Reversed list is [3, 2, 1]\n",
      "Sorted list is  [1, 2, 3]\n"
     ]
    }
   ],
   "source": [
    "#Reverse elements in place\n",
    "l.reverse()\n",
    "print(\"Reversed list is\", l)\n",
    "\n",
    "#Sort a list\n",
    "l.sort()\n",
    "print(\"Sorted list is \",l)"
   ]
  },
  {
   "cell_type": "markdown",
   "metadata": {},
   "source": [
    "```reverse``` and ```sort``` are functions associated with a list (class). We will call such functions as methods. "
   ]
  },
  {
   "cell_type": "markdown",
   "metadata": {
    "slideshow": {
     "slide_type": "slide"
    }
   },
   "source": [
    "### Adding elements to a list"
   ]
  },
  {
   "cell_type": "code",
   "execution_count": 6,
   "metadata": {},
   "outputs": [
    {
     "name": "stdout",
     "output_type": "stream",
     "text": [
      "[1, 2, 3, 4]\n"
     ]
    }
   ],
   "source": [
    "#Add to a list\n",
    "l.append(4)\n",
    "print(l)"
   ]
  },
  {
   "cell_type": "code",
   "execution_count": 7,
   "metadata": {},
   "outputs": [
    {
     "name": "stdout",
     "output_type": "stream",
     "text": [
      "[1, 2, '6', 3, 4]\n"
     ]
    }
   ],
   "source": [
    "# Insert an element\n",
    "l =  [1,2,3,4]\n",
    "l.insert(2,'6') # 1st argument: position, #2nd argument: value\n",
    "print(l)"
   ]
  },
  {
   "cell_type": "code",
   "execution_count": 8,
   "metadata": {},
   "outputs": [
    {
     "name": "stdout",
     "output_type": "stream",
     "text": [
      "[1, 2, '6', 3, 4, 12, 13]\n"
     ]
    }
   ],
   "source": [
    "## Add two different lists\n",
    "l += [12,13]\n",
    "print(l)"
   ]
  },
  {
   "cell_type": "markdown",
   "metadata": {
    "slideshow": {
     "slide_type": "slide"
    }
   },
   "source": [
    "### Data types in list\n",
    "\n",
    "Lists can be constructed out of different data types, or even a mix of types."
   ]
  },
  {
   "cell_type": "code",
   "execution_count": 9,
   "metadata": {},
   "outputs": [
    {
     "name": "stdout",
     "output_type": "stream",
     "text": [
      "['a', 'b', 'c']\n"
     ]
    }
   ],
   "source": [
    "l = ['a','b','c']\n",
    "print(l)"
   ]
  },
  {
   "cell_type": "code",
   "execution_count": 10,
   "metadata": {},
   "outputs": [
    {
     "name": "stdout",
     "output_type": "stream",
     "text": [
      "[1, 'a', [1, 2, 3]]\n"
     ]
    }
   ],
   "source": [
    "l = [1, 'a', [1,2,3]]\n",
    "print(l)"
   ]
  },
  {
   "cell_type": "markdown",
   "metadata": {
    "slideshow": {
     "slide_type": "slide"
    }
   },
   "source": [
    "### Indexing\n",
    "\n",
    "Recall that counting in Python begins from 0. However, there are multiple ways to index an element. Consider a list of size 5. \n"
   ]
  },
  {
   "cell_type": "code",
   "execution_count": 11,
   "metadata": {},
   "outputs": [],
   "source": [
    "L = ['a','b','c','d','e']"
   ]
  },
  {
   "cell_type": "markdown",
   "metadata": {},
   "source": [
    "We can access the elements of the list in multiple ways:\n",
    "\n",
    "'a'|'b'|'c'|'d'|'e'\n",
    ":--:|:--:|:--:|:--:|:--:|\n",
    "0 | 1 | 2 | 3 | 4 |\n",
    "-5 | -4 | -3 | -2 | -1 |    "
   ]
  },
  {
   "cell_type": "code",
   "execution_count": 12,
   "metadata": {},
   "outputs": [
    {
     "name": "stdout",
     "output_type": "stream",
     "text": [
      "a a\n",
      "b b\n",
      "c c\n"
     ]
    }
   ],
   "source": [
    "print(L[0], L[-5])\n",
    "print(L[1], L[-4]) \n",
    "print(L[2], L[-3] )"
   ]
  },
  {
   "cell_type": "markdown",
   "metadata": {
    "slideshow": {
     "slide_type": "slide"
    }
   },
   "source": [
    "### Out of range exception\n",
    "\n",
    "When we access an element that is out of range, this results in an error. "
   ]
  },
  {
   "cell_type": "code",
   "execution_count": 13,
   "metadata": {},
   "outputs": [
    {
     "name": "stdout",
     "output_type": "stream",
     "text": [
      "IndexError: list index out of range\n"
     ]
    }
   ],
   "source": [
    "L = ['a','b','c','d','e']\n",
    "\n",
    "try:\n",
    "    print(L[5])\n",
    "except IndexError:\n",
    "    print('IndexError: list index out of range')\n",
    "    "
   ]
  },
  {
   "cell_type": "markdown",
   "metadata": {
    "slideshow": {
     "slide_type": "slide"
    }
   },
   "source": [
    "### Slicing lists \n",
    "\n",
    "Slicing the list has the general syntax\n",
    " \n",
    "```\n",
    "listname[start:end:stride]\n",
    "```\n",
    "where \n",
    "+ start determines starting point\n",
    "+ end is one index higher than the end point\n",
    "+ stride is the spacing between selected elements"
   ]
  },
  {
   "cell_type": "code",
   "execution_count": 14,
   "metadata": {},
   "outputs": [
    {
     "name": "stdout",
     "output_type": "stream",
     "text": [
      "['a', 'b']\n",
      "['a', 'c', 'e']\n",
      "['a', 'b', 'c', 'd']\n"
     ]
    }
   ],
   "source": [
    "L = ['a','b','c','d','e']\n",
    "print(L[0:2:1])\n",
    "print(L[0:5:2])\n",
    "print(L[-5:-1:1])"
   ]
  },
  {
   "cell_type": "code",
   "execution_count": 15,
   "metadata": {},
   "outputs": [
    {
     "name": "stdout",
     "output_type": "stream",
     "text": [
      "['e', 'd', 'c', 'b', 'a']\n"
     ]
    }
   ],
   "source": [
    "print(L[-1:-6:-1])"
   ]
  },
  {
   "cell_type": "code",
   "execution_count": 16,
   "metadata": {},
   "outputs": [
    {
     "name": "stdout",
     "output_type": "stream",
     "text": [
      "['e', 'd', 'c', 'b', 'a']\n",
      "['a', 'b', 'c', 'd', 'e']\n"
     ]
    }
   ],
   "source": [
    "M = L[::-1]; print(M)\n",
    "print(L)"
   ]
  },
  {
   "cell_type": "markdown",
   "metadata": {
    "slideshow": {
     "slide_type": "slide"
    }
   },
   "source": [
    "### Slicing lists\n",
    "\n",
    "One or more quantities can be skipped while slicing. Let's look at some examples"
   ]
  },
  {
   "cell_type": "code",
   "execution_count": 17,
   "metadata": {},
   "outputs": [
    {
     "name": "stdout",
     "output_type": "stream",
     "text": [
      "['a', 'b', 'c']\n",
      "['c', 'd', 'e']\n",
      "['a', 'b', 'c']\n",
      "['a', 'b', 'c', 'd', 'e']\n"
     ]
    }
   ],
   "source": [
    "print(L[:3:1])     #skip the beginning (context dependent)\n",
    "print(L[2::1])     #skip the end (context dependent)\n",
    "print(L[:3])       #skip the stride, default stride is 1\n",
    "print(L[::])       #skip everything, gives the whole list "
   ]
  },
  {
   "cell_type": "code",
   "execution_count": 18,
   "metadata": {},
   "outputs": [
    {
     "name": "stdout",
     "output_type": "stream",
     "text": [
      "['d', 'c', 'b']\n",
      "['d', 'c', 'b', 'a']\n",
      "['e', 'd', 'c', 'b', 'a']\n",
      "['e', 'd', 'c', 'b', 'a']\n"
     ]
    }
   ],
   "source": [
    "print(L[3:0:-1])   # Negative stride\n",
    "print(L[3::-1])    # The end point is now the start of the array\n",
    "print(L[-1:-6:-1]) # reverses the array\n",
    "print(L[::-1])     # easier way to reverse array"
   ]
  },
  {
   "cell_type": "markdown",
   "metadata": {
    "slideshow": {
     "slide_type": "slide"
    }
   },
   "source": [
    "### Assignment/Modification using slicing and indexing\n",
    "\n",
    "We can not only access elements using slicing and indexing, but we can also assign/modify the elements. "
   ]
  },
  {
   "cell_type": "code",
   "execution_count": 19,
   "metadata": {},
   "outputs": [
    {
     "name": "stdout",
     "output_type": "stream",
     "text": [
      "[17.1, 2, 3, 4, 5]\n",
      "[17.1, 'a', 'b', 'c', 4, 5]\n",
      "[17.1, 'a', 'b', 'c', 4, 10.0]\n"
     ]
    }
   ],
   "source": [
    "L = [1,2,3,4,5]\n",
    "\n",
    "L[0] = 17.1\n",
    "print(L)\n",
    "L[1:3] = ['a','b','c']\n",
    "print(L)\n",
    "L[-1] += 5.\n",
    "print(L)"
   ]
  },
  {
   "cell_type": "markdown",
   "metadata": {
    "slideshow": {
     "slide_type": "slide"
    }
   },
   "source": [
    "### Shallow vs deep copy"
   ]
  },
  {
   "cell_type": "code",
   "execution_count": 20,
   "metadata": {},
   "outputs": [
    {
     "name": "stdout",
     "output_type": "stream",
     "text": [
      "[1, 2, 3, 4] [1, 2, 3, 4]\n"
     ]
    }
   ],
   "source": [
    "a = [1,2,3]\n",
    "b = a \n",
    "b.append(4)\n",
    "print(a, b)"
   ]
  },
  {
   "cell_type": "markdown",
   "metadata": {
    "slideshow": {
     "slide_type": "subslide"
    }
   },
   "source": [
    "What happened here? b is not a copy of a, but a **pointer to** a. This means, when b is changed, a is also changed. This kind of copying is called a *shallow copy*.There is also an option for deep copy."
   ]
  },
  {
   "cell_type": "code",
   "execution_count": 21,
   "metadata": {},
   "outputs": [
    {
     "name": "stdout",
     "output_type": "stream",
     "text": [
      "[1, 2, 3, 4] [1, 2, 3, 4, 5]\n"
     ]
    }
   ],
   "source": [
    "b = a.copy()\n",
    "b.append(5)\n",
    "print(a,b)"
   ]
  },
  {
   "cell_type": "markdown",
   "metadata": {
    "slideshow": {
     "slide_type": "slide"
    }
   },
   "source": [
    "### Other useful commands"
   ]
  },
  {
   "cell_type": "code",
   "execution_count": 22,
   "metadata": {},
   "outputs": [
    {
     "name": "stdout",
     "output_type": "stream",
     "text": [
      "1\n",
      "4\n",
      "2\n",
      "<class 'list'>\n",
      "True\n"
     ]
    }
   ],
   "source": [
    "L = [1,2,3,3,4]\n",
    "print(min(L))             #Minimum entry\n",
    "print(max(L))             #Maximum entry\n",
    "print(L.count(3))         #Count number of entries that have the given value\n",
    "print(type(L))            #Prints the datatype of L\n",
    "print(isinstance(L,list)) #Checks if L is a list "
   ]
  },
  {
   "cell_type": "markdown",
   "metadata": {
    "slideshow": {
     "slide_type": "slide"
    }
   },
   "source": [
    "# Tuples"
   ]
  },
  {
   "cell_type": "markdown",
   "metadata": {
    "slideshow": {
     "slide_type": "slide"
    }
   },
   "source": [
    "### Tuples \n",
    "\n",
    "Tuples are like lists except they are immutable (can't add or change entries). "
   ]
  },
  {
   "cell_type": "code",
   "execution_count": 23,
   "metadata": {},
   "outputs": [
    {
     "name": "stdout",
     "output_type": "stream",
     "text": [
      "(1, 2, [1, 2, 3])\n"
     ]
    }
   ],
   "source": [
    "t = (1,2,[1,2,3])\n",
    "print(t)"
   ]
  },
  {
   "cell_type": "code",
   "execution_count": 24,
   "metadata": {},
   "outputs": [
    {
     "name": "stdout",
     "output_type": "stream",
     "text": [
      "Length of tuple is  3\n",
      "First entry of the tuple is  1\n"
     ]
    }
   ],
   "source": [
    "print(\"Length of tuple is \", len(t))\n",
    "print(\"First entry of the tuple is \", t[0]) #First entry of the tuple"
   ]
  },
  {
   "cell_type": "markdown",
   "metadata": {},
   "source": [
    "Most of the commands used in the context of lists are also appropriate here."
   ]
  },
  {
   "cell_type": "markdown",
   "metadata": {
    "slideshow": {
     "slide_type": "slide"
    }
   },
   "source": [
    "### Tuples cannot be manipulated"
   ]
  },
  {
   "cell_type": "code",
   "execution_count": 25,
   "metadata": {},
   "outputs": [
    {
     "name": "stdout",
     "output_type": "stream",
     "text": [
      "An error occured because a tuple cannot be manipulated.\n"
     ]
    }
   ],
   "source": [
    "try:\n",
    "    t[1] = 4\n",
    "    t.append(4)\n",
    "except:\n",
    "    print('An error occured because a tuple cannot be manipulated.')"
   ]
  },
  {
   "cell_type": "markdown",
   "metadata": {
    "slideshow": {
     "slide_type": "slide"
    }
   },
   "source": [
    "### Tuples into lists and back"
   ]
  },
  {
   "cell_type": "code",
   "execution_count": 26,
   "metadata": {},
   "outputs": [
    {
     "name": "stdout",
     "output_type": "stream",
     "text": [
      "(1, 2, '3')\n",
      "[1, 2, '3', 4.0]\n"
     ]
    }
   ],
   "source": [
    "T = (1,2,'3')\n",
    "print(T)\n",
    "L = list(T)\n",
    "L.append(4.0)\n",
    "print(L)"
   ]
  },
  {
   "cell_type": "code",
   "execution_count": 27,
   "metadata": {
    "scrolled": true
   },
   "outputs": [
    {
     "name": "stdout",
     "output_type": "stream",
     "text": [
      "(1, 2, '3', 4.0)\n"
     ]
    }
   ],
   "source": [
    "M = tuple(L)\n",
    "print(M)"
   ]
  },
  {
   "cell_type": "markdown",
   "metadata": {
    "slideshow": {
     "slide_type": "slide"
    }
   },
   "source": [
    "# Dictionaries"
   ]
  },
  {
   "cell_type": "markdown",
   "metadata": {
    "slideshow": {
     "slide_type": "slide"
    }
   },
   "source": [
    "### Dictionary\n",
    "\n",
    "Is a collection of key value pairs. As motivation, consider two different lists:"
   ]
  },
  {
   "cell_type": "code",
   "execution_count": 28,
   "metadata": {},
   "outputs": [],
   "source": [
    "names = ['Newton', 'Einstein', 'VonNeumann']\n",
    "year  = [1643, 1879, 1903]"
   ]
  },
  {
   "cell_type": "markdown",
   "metadata": {},
   "source": [
    "The year corresponds to the names; but maintaining two different lists can be cumbersome. "
   ]
  },
  {
   "cell_type": "code",
   "execution_count": 29,
   "metadata": {},
   "outputs": [
    {
     "name": "stdout",
     "output_type": "stream",
     "text": [
      "{'Newton': 1643, 'Einstein': 1879, 'VonNeumann': 1903}\n"
     ]
    }
   ],
   "source": [
    "scientists = {'Newton': 1643, 'Einstein': 1879, 'VonNeumann':1903}\n",
    "#or \n",
    "scientists = dict(Newton = 1643, Einstein = 1879, VonNeumann = 1903)\n",
    "print(scientists)"
   ]
  },
  {
   "cell_type": "markdown",
   "metadata": {
    "slideshow": {
     "slide_type": "slide"
    }
   },
   "source": [
    "### Details of dictionaries\n",
    "\n",
    "Dictionary maintains two lists of keys and values. "
   ]
  },
  {
   "cell_type": "code",
   "execution_count": 30,
   "metadata": {},
   "outputs": [
    {
     "name": "stdout",
     "output_type": "stream",
     "text": [
      "dict_keys(['Newton', 'Einstein', 'VonNeumann'])\n"
     ]
    }
   ],
   "source": [
    "#List of keys\n",
    "print(scientists.keys())"
   ]
  },
  {
   "cell_type": "code",
   "execution_count": 31,
   "metadata": {},
   "outputs": [
    {
     "name": "stdout",
     "output_type": "stream",
     "text": [
      "dict_values([1643, 1879, 1903])\n"
     ]
    }
   ],
   "source": [
    "#List of values\n",
    "print(scientists.values())"
   ]
  },
  {
   "cell_type": "code",
   "execution_count": 32,
   "metadata": {},
   "outputs": [
    {
     "name": "stdout",
     "output_type": "stream",
     "text": [
      "{'Newton': 1643, 'Einstein': 1879, 'VonNeumann': 1903, 'Raman': 1888}\n"
     ]
    }
   ],
   "source": [
    "scientists['Raman'] = 1888  #Adds Raman to the list\n",
    "print(scientists)"
   ]
  },
  {
   "cell_type": "markdown",
   "metadata": {
    "slideshow": {
     "slide_type": "slide"
    }
   },
   "source": [
    "### More details of dictionaries\n",
    "\n",
    "Accessing values through keys"
   ]
  },
  {
   "cell_type": "code",
   "execution_count": 33,
   "metadata": {},
   "outputs": [
    {
     "name": "stdout",
     "output_type": "stream",
     "text": [
      "The birth year of Einstein is  1879\n"
     ]
    }
   ],
   "source": [
    "print(\"The birth year of Einstein is \", scientists['Einstein'])"
   ]
  },
  {
   "cell_type": "markdown",
   "metadata": {},
   "source": [
    "What if a key is not present in a dictionary?"
   ]
  },
  {
   "cell_type": "code",
   "execution_count": 34,
   "metadata": {},
   "outputs": [
    {
     "name": "stdout",
     "output_type": "stream",
     "text": [
      " The key \"Madonna\" is not in the dictionary\n"
     ]
    }
   ],
   "source": [
    "try:\n",
    "    print(scientists['Madonna'])\n",
    "except KeyError:\n",
    "    print(' The key \"Madonna\" is not in the dictionary')"
   ]
  },
  {
   "cell_type": "code",
   "execution_count": 35,
   "metadata": {
    "scrolled": true
   },
   "outputs": [
    {
     "name": "stdout",
     "output_type": "stream",
     "text": [
      "True\n",
      "False\n"
     ]
    }
   ],
   "source": [
    "#Checks if a key is in a given dictionary\n",
    "print('Einstein' in scientists)\n",
    "print('Madonna' in scientists)"
   ]
  },
  {
   "cell_type": "markdown",
   "metadata": {
    "slideshow": {
     "slide_type": "slide"
    }
   },
   "source": [
    "### Keys need not be strings!\n",
    "\n",
    "Any immutable object such as int, float, complex, str, tuple can be used as a key. Consider as an example a quadratic polynomial\n",
    "\n",
    "\n",
    "\n",
    "$$ p(x) = a_0 + a_1x + a_2x^2 $$\n",
    "\n",
    "We can store the coefficients of the polynomial as a dictionary.\n"
   ]
  },
  {
   "cell_type": "code",
   "execution_count": 36,
   "metadata": {},
   "outputs": [
    {
     "name": "stdout",
     "output_type": "stream",
     "text": [
      "79\n"
     ]
    }
   ],
   "source": [
    "quad = {0:-1, 1: 1, 2:3}\n",
    "print(quad[0] + quad[1]*5 + quad[2]*(5**2)) #Evaluates p(5) "
   ]
  },
  {
   "cell_type": "markdown",
   "metadata": {},
   "source": [
    "Be careful of integers vs floating point numbers."
   ]
  },
  {
   "cell_type": "code",
   "execution_count": 37,
   "metadata": {},
   "outputs": [
    {
     "name": "stdout",
     "output_type": "stream",
     "text": [
      "{1: 2.0}\n",
      "2.0\n"
     ]
    }
   ],
   "source": [
    "D = {1:5, 1.:2.0}\n",
    "print(D)\n",
    "print(D[1.])"
   ]
  },
  {
   "cell_type": "markdown",
   "metadata": {
    "slideshow": {
     "slide_type": "slide"
    }
   },
   "source": [
    "### Summary of Useful commands"
   ]
  },
  {
   "cell_type": "code",
   "execution_count": 38,
   "metadata": {},
   "outputs": [
    {
     "name": "stdout",
     "output_type": "stream",
     "text": [
      "{'list': [0, 1], 'tuple': (0, 1), 'dict': {}}\n",
      "{'list': [0, 1], 'tuple': (0, 1), 'dict': {}}\n",
      "{'list': [0, 1], 'tuple': (0, 1)}\n",
      "2\n",
      "True\n"
     ]
    }
   ],
   "source": [
    "a = {}                    #Empty dictionary\n",
    "#Dictionaries can hold different data types\n",
    "a = {'list': [0,1], 'tuple': (0,1), 'dict': {}}\n",
    "print(a)\n",
    "b = a.copy()              #Deep copy\n",
    "print(b)\n",
    "del a['dict']             #Delete an entry\n",
    "print(a) \n",
    "print(len(a))             # Number of key value pairs\n",
    "print(isinstance(a,dict)) # Is 'a' a dict?"
   ]
  },
  {
   "cell_type": "code",
   "execution_count": 39,
   "metadata": {},
   "outputs": [
    {
     "name": "stdout",
     "output_type": "stream",
     "text": [
      "{'list': [0, 1], 'tuple': (0, 1), 'dict': {}}\n",
      "1\n"
     ]
    }
   ],
   "source": [
    "a = {'list': [0,1], 'tuple': (0,1), 'dict': {}}\n",
    "print(a)\n",
    "t = a['tuple']\n",
    "print(t[1])"
   ]
  },
  {
   "cell_type": "code",
   "execution_count": 40,
   "metadata": {},
   "outputs": [
    {
     "name": "stdout",
     "output_type": "stream",
     "text": [
      "1\n"
     ]
    }
   ],
   "source": [
    "print(a['tuple'][1])"
   ]
  },
  {
   "cell_type": "markdown",
   "metadata": {
    "slideshow": {
     "slide_type": "slide"
    }
   },
   "source": [
    "### Other useful data structures"
   ]
  },
  {
   "cell_type": "markdown",
   "metadata": {
    "slideshow": {
     "slide_type": "slide"
    }
   },
   "source": [
    "### Sets "
   ]
  },
  {
   "cell_type": "code",
   "execution_count": 41,
   "metadata": {},
   "outputs": [
    {
     "name": "stdout",
     "output_type": "stream",
     "text": [
      "{1, 2, 3, 4}\n",
      "{3, 4, 5, 6}\n"
     ]
    }
   ],
   "source": [
    "a = set([1,2,3,4,4])   #Initialize sets\n",
    "b = set([3,4,5,6])\n",
    "print(a)\n",
    "print(b)"
   ]
  },
  {
   "cell_type": "code",
   "execution_count": 42,
   "metadata": {},
   "outputs": [
    {
     "name": "stdout",
     "output_type": "stream",
     "text": [
      "{1, 2, 3, 4, 5, 6}\n",
      "{3, 4}\n",
      "{1, 2}\n",
      "{1, 2, 5, 6}\n"
     ]
    }
   ],
   "source": [
    "print(a | b)         #Union\n",
    "print(a & b)         #Intersection\n",
    "print(a - b)         # A\\B\n",
    "print(a^b)           #Symmetric difference"
   ]
  }
 ],
 "metadata": {
  "kernelspec": {
   "display_name": "Python 3",
   "language": "python",
   "name": "python3"
  },
  "language_info": {
   "codemirror_mode": {
    "name": "ipython",
    "version": 3
   },
   "file_extension": ".py",
   "mimetype": "text/x-python",
   "name": "python",
   "nbconvert_exporter": "python",
   "pygments_lexer": "ipython3",
   "version": "3.8.8"
  },
  "latex_envs": {
   "LaTeX_envs_menu_present": true,
   "autoclose": false,
   "autocomplete": true,
   "bibliofile": "biblio.bib",
   "cite_by": "apalike",
   "current_citInitial": 1,
   "eqLabelWithNumbers": true,
   "eqNumInitial": 1,
   "hotkeys": {
    "equation": "Ctrl-E",
    "itemize": "Ctrl-I"
   },
   "labels_anchors": false,
   "latex_user_defs": false,
   "report_style_numbering": false,
   "user_envs_cfg": false
  },
  "vscode": {
   "interpreter": {
    "hash": "31f2aee4e71d21fbe5cf8b01ff0e069b9275f58929596ceb00d14d90e3e16cd6"
   }
  }
 },
 "nbformat": 4,
 "nbformat_minor": 2
}
