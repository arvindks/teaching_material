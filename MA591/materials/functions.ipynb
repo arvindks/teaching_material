{
 "cells": [
  {
   "cell_type": "markdown",
   "metadata": {
    "slideshow": {
     "slide_type": "slide"
    }
   },
   "source": [
    "# Functions and modules"
   ]
  },
  {
   "cell_type": "markdown",
   "metadata": {
    "slideshow": {
     "slide_type": "slide"
    }
   },
   "source": [
    "You have already been using functions such as \n",
    " + ```print()```\n",
    " + ```l = [1,2,3]; l.sort(); l.reverse()```\n",
    "\n",
    "\n",
    "Default usage \n",
    "```\n",
    " function(arguments separated by commas)\n",
    " <outputs separated by commas> = function(arguments)   \n",
    "```\n"
   ]
  },
  {
   "cell_type": "markdown",
   "metadata": {},
   "source": [
    "### Writing your own functions\n",
    "\n",
    "Consider the function \n",
    "\n",
    "$$ y(t) = v_0t -\\frac{1}{2}gt^2,$$\n",
    "\n",
    "\n",
    "where the inputs are \n",
    "+ $g$ is a fixed constant (acceleration due to gravity)\n",
    "+ $v_0$ is the initial velocity\n",
    "+ $t$ is the time\n",
    "\n",
    "and the outputs are $y$\n",
    "+ the height as a function of time.\n",
    "\n",
    "We first consider a simple implementation before discussing variations. "
   ]
  },
  {
   "cell_type": "code",
   "execution_count": 1,
   "metadata": {},
   "outputs": [],
   "source": [
    "def yt(t,v0):\n",
    "    \"\"\"\n",
    "    The comments here form part of the documentation.\n",
    "    They are known as doc strings\n",
    "    Type help(yt) or yt??\n",
    "    \"\"\"\n",
    "    g = 9.81\n",
    "    return v0*t - 0.5*g*t**2.\n",
    "    "
   ]
  },
  {
   "cell_type": "markdown",
   "metadata": {},
   "source": [
    "The same rules of alignment and whitespacing hold as it does for other Python commands that we have learned.\n",
    "\n",
    "### Different ways of calling the function\n",
    "\n",
    "The first way should be obvious; the next two ways show that you can use the argument names to assign the values; the last way shows that we can interchange these arguments (within limits). We will revisit this issue because it requires closer examination."
   ]
  },
  {
   "cell_type": "code",
   "execution_count": 5,
   "metadata": {},
   "outputs": [],
   "source": [
    "y1 = yt(0.1, 6)\n",
    "\n",
    "\n",
    "y2 = yt(0.1, v0=6)\n",
    "y3 = yt(t=0.1, v0=6)\n",
    "\n",
    "\n",
    "y4 = yt(v0=6, t=0.1)"
   ]
  },
  {
   "cell_type": "markdown",
   "metadata": {},
   "source": [
    "They all give the same value which is"
   ]
  },
  {
   "cell_type": "code",
   "execution_count": 6,
   "metadata": {},
   "outputs": [
    {
     "name": "stdout",
     "output_type": "stream",
     "text": [
      "[0.55095, 0.55095, 0.55095, 0.55095]\n"
     ]
    }
   ],
   "source": [
    "print([y1,y2,y3,y4])"
   ]
  },
  {
   "cell_type": "code",
   "execution_count": 7,
   "metadata": {},
   "outputs": [
    {
     "data": {
      "text/plain": [
       "-175.98000000000002"
      ]
     },
     "execution_count": 7,
     "metadata": {},
     "output_type": "execute_result"
    }
   ],
   "source": [
    "yt(6,0.1)"
   ]
  },
  {
   "cell_type": "code",
   "execution_count": 3,
   "metadata": {},
   "outputs": [
    {
     "ename": "TypeError",
     "evalue": "yt() missing 1 required positional argument: 'v0'",
     "output_type": "error",
     "traceback": [
      "\u001b[0;31m---------------------------------------------------------------------------\u001b[0m",
      "\u001b[0;31mTypeError\u001b[0m                                 Traceback (most recent call last)",
      "\u001b[0;32m<ipython-input-3-7cd12ae2d607>\u001b[0m in \u001b[0;36m<module>\u001b[0;34m\u001b[0m\n\u001b[0;32m----> 1\u001b[0;31m \u001b[0myt\u001b[0m\u001b[0;34m(\u001b[0m\u001b[0mt\u001b[0m \u001b[0;34m=\u001b[0m \u001b[0;36m0.1\u001b[0m\u001b[0;34m)\u001b[0m\u001b[0;34m\u001b[0m\u001b[0;34m\u001b[0m\u001b[0m\n\u001b[0m",
      "\u001b[0;31mTypeError\u001b[0m: yt() missing 1 required positional argument: 'v0'"
     ]
    }
   ],
   "source": [
    "yt(t = 0.1)"
   ]
  },
  {
   "cell_type": "markdown",
   "metadata": {},
   "source": [
    "### Help and doc strings"
   ]
  },
  {
   "cell_type": "code",
   "execution_count": 2,
   "metadata": {},
   "outputs": [
    {
     "name": "stdout",
     "output_type": "stream",
     "text": [
      "Help on function yt in module __main__:\n",
      "\n",
      "yt(t, v0)\n",
      "    The comments here form part of the documentation.\n",
      "    They are known as doc strings\n",
      "    Type help(yt) or yt??\n",
      "\n"
     ]
    }
   ],
   "source": [
    "help(yt)    "
   ]
  },
  {
   "cell_type": "code",
   "execution_count": 3,
   "metadata": {},
   "outputs": [],
   "source": [
    "yt??"
   ]
  },
  {
   "cell_type": "markdown",
   "metadata": {},
   "source": [
    "The documentation or doc strings can be accessed as a variable and, in principle, can be edited during runtime."
   ]
  },
  {
   "cell_type": "code",
   "execution_count": 10,
   "metadata": {},
   "outputs": [
    {
     "name": "stdout",
     "output_type": "stream",
     "text": [
      "\n",
      "    The comments here form part of the documentation.\n",
      "    They are known as doc strings\n",
      "    Type help(yt) or yt??\n",
      "    \n"
     ]
    }
   ],
   "source": [
    "print(yt.__doc__)"
   ]
  },
  {
   "cell_type": "markdown",
   "metadata": {},
   "source": [
    "### Returning multiple arguments. \n",
    "\n",
    "Of course, Python allows for the ability to return multiple arguments.  Say, we want to return $y(t)$ and its derivative\n",
    "\n",
    "$$ y'(t) = v_0 - gt. $$\n",
    "\n"
   ]
  },
  {
   "cell_type": "code",
   "execution_count": 11,
   "metadata": {},
   "outputs": [],
   "source": [
    "def ytandder(t,v0):\n",
    "    g = 9.81\n",
    "    \n",
    "    yt = v0*t - 0.5*g*t**2.\n",
    "    ytp = v0 - g*t\n",
    "    \n",
    "    return yt, ytp"
   ]
  },
  {
   "cell_type": "markdown",
   "metadata": {},
   "source": [
    "There are a couple of different ways to call this function."
   ]
  },
  {
   "cell_type": "code",
   "execution_count": 12,
   "metadata": {},
   "outputs": [
    {
     "name": "stdout",
     "output_type": "stream",
     "text": [
      "The function is 1.77375 and the derivative is 1.0949999999999998.\n"
     ]
    }
   ],
   "source": [
    "y1, y2 = ytandder(0.5,6.)      #Explicity map each output to a new variable\n",
    "print('The function is {0} and the derivative is {1}.'.format(y1,y2))"
   ]
  },
  {
   "cell_type": "markdown",
   "metadata": {},
   "source": [
    "The multiple outputs can be assigned to a single variable `y` which is a `tuple`."
   ]
  },
  {
   "cell_type": "code",
   "execution_count": 13,
   "metadata": {},
   "outputs": [
    {
     "name": "stdout",
     "output_type": "stream",
     "text": [
      "<class 'tuple'>\n"
     ]
    }
   ],
   "source": [
    "y = ytandder(0.5,6.0)          #Assign it to y, which is a tuple\n",
    "print(type(y))"
   ]
  },
  {
   "cell_type": "code",
   "execution_count": 14,
   "metadata": {},
   "outputs": [
    {
     "name": "stdout",
     "output_type": "stream",
     "text": [
      "2\n"
     ]
    }
   ],
   "source": [
    "print(len(y))"
   ]
  },
  {
   "cell_type": "code",
   "execution_count": 15,
   "metadata": {},
   "outputs": [
    {
     "name": "stdout",
     "output_type": "stream",
     "text": [
      "The function is 1.77375 and the derivative is 1.0949999999999998.\n"
     ]
    }
   ],
   "source": [
    "y1 = y[0]; y2 = y[1]\n",
    "print('The function is {0} and the derivative is {1}.'.format(y1,y2))"
   ]
  },
  {
   "cell_type": "markdown",
   "metadata": {},
   "source": [
    "### Anonymous function handles\n",
    "\n",
    "We can define the function y(t) as an inline function using the ```lambda``` keyword. This feature is useful because it allows us to succinctly program functions. Another use of this type of function is that it is in a convenient form to pass to another function as a \"pointer.\""
   ]
  },
  {
   "cell_type": "code",
   "execution_count": 16,
   "metadata": {},
   "outputs": [],
   "source": [
    "g = 9.81\n",
    "ytn = lambda t, v0: v0*t - 0.5*g*t**2."
   ]
  },
  {
   "cell_type": "code",
   "execution_count": 17,
   "metadata": {},
   "outputs": [],
   "source": [
    "y1 = ytn(0.1, 6)\n",
    "y2 = ytn(0.1, v0=6)\n",
    "y3 = ytn(t=0.1, v0=6)\n",
    "y4 = ytn(v0=6, t=0.1)"
   ]
  },
  {
   "cell_type": "markdown",
   "metadata": {},
   "source": [
    "They all give the same value which is "
   ]
  },
  {
   "cell_type": "code",
   "execution_count": 18,
   "metadata": {},
   "outputs": [
    {
     "name": "stdout",
     "output_type": "stream",
     "text": [
      "[0.55095, 0.55095, 0.55095, 0.55095]\n"
     ]
    }
   ],
   "source": [
    "print([y1,y2,y3,y4])"
   ]
  },
  {
   "cell_type": "markdown",
   "metadata": {},
   "source": [
    "### Local and global variables\n",
    "\n",
    "Variables defined within a function are considered *local* variables and are not accessible outside of this function. \n",
    "\n"
   ]
  },
  {
   "cell_type": "code",
   "execution_count": 20,
   "metadata": {},
   "outputs": [
    {
     "name": "stdout",
     "output_type": "stream",
     "text": [
      "Cannot print because local variable\n"
     ]
    }
   ],
   "source": [
    "def yt3(t,v0):\n",
    "    glocal = 9.81\n",
    "    return v0*t - 0.5*glocal*t**2.\n",
    "\n",
    "#In this case, glocal is a local variable and should not be accessible\n",
    "try:\n",
    "    print(glocal)\n",
    "except:\n",
    "    print('Cannot print because local variable')\n",
    "    "
   ]
  },
  {
   "cell_type": "code",
   "execution_count": 21,
   "metadata": {},
   "outputs": [
    {
     "ename": "NameError",
     "evalue": "name 'glocal' is not defined",
     "output_type": "error",
     "traceback": [
      "\u001b[0;31m---------------------------------------------------------------------------\u001b[0m",
      "\u001b[0;31mNameError\u001b[0m                                 Traceback (most recent call last)",
      "\u001b[0;32m<ipython-input-21-46b3025bf912>\u001b[0m in \u001b[0;36m<module>\u001b[0;34m\u001b[0m\n\u001b[0;32m----> 1\u001b[0;31m \u001b[0mprint\u001b[0m\u001b[0;34m(\u001b[0m\u001b[0mglocal\u001b[0m\u001b[0;34m)\u001b[0m\u001b[0;34m\u001b[0m\u001b[0;34m\u001b[0m\u001b[0m\n\u001b[0m",
      "\u001b[0;31mNameError\u001b[0m: name 'glocal' is not defined"
     ]
    }
   ],
   "source": [
    "print(glocal)"
   ]
  },
  {
   "cell_type": "markdown",
   "metadata": {},
   "source": [
    "In the above case `glocal` is a local variable and cannot be accessed outside the function. In the following case, `gglobal` is a global variable and can be accessed from any function"
   ]
  },
  {
   "cell_type": "code",
   "execution_count": 23,
   "metadata": {},
   "outputs": [
    {
     "name": "stdout",
     "output_type": "stream",
     "text": [
      "0.55095\n"
     ]
    }
   ],
   "source": [
    "gglobal = 9.81\n",
    "def yt3(t,v0):\n",
    "    return v0*t - 0.5*gglobal*t**2.\n",
    "\n",
    "print(yt3(0.1,6.0))"
   ]
  },
  {
   "cell_type": "markdown",
   "metadata": {},
   "source": [
    "### Default function values\n",
    "\n",
    "Not all function arguments have to specified, we make give default arguments. We can override these arguments, if needed."
   ]
  },
  {
   "cell_type": "code",
   "execution_count": 25,
   "metadata": {},
   "outputs": [],
   "source": [
    "def yt2(t, v0 = 5.):\n",
    "    g = 9.81\n",
    "    return v0*t - 0.5*g*t**2."
   ]
  },
  {
   "cell_type": "code",
   "execution_count": 26,
   "metadata": {},
   "outputs": [
    {
     "name": "stdout",
     "output_type": "stream",
     "text": [
      "The value is 0.45094999999999996\n"
     ]
    }
   ],
   "source": [
    "y1 = yt2(0.1)    \n",
    "print('The value is', y1)"
   ]
  },
  {
   "cell_type": "markdown",
   "metadata": {},
   "source": [
    "Here `v0` takes the default value which is 5. Here are three different variations."
   ]
  },
  {
   "cell_type": "code",
   "execution_count": 27,
   "metadata": {},
   "outputs": [],
   "source": [
    "y2 = yt2(0.1,6.)\n",
    "y3 = yt2(0.1, v0 = 6.)\n",
    "y4 = yt2(v0=6.,t=0.1)\n"
   ]
  },
  {
   "cell_type": "code",
   "execution_count": 28,
   "metadata": {},
   "outputs": [
    {
     "name": "stdout",
     "output_type": "stream",
     "text": [
      "[0.55095, 0.55095, 0.55095]\n"
     ]
    }
   ],
   "source": [
    "print([y2,y3,y4])"
   ]
  },
  {
   "cell_type": "markdown",
   "metadata": {},
   "source": [
    "Since the default arguments can be skipped, this makes \n",
    "1. calling or invoking functions much easier. \n",
    "2. makes writing documentation a lot easier. \n",
    "3. enforcing backwards compatibility is a lot easier.\n",
    "\n",
    "Here is an example of documentation from matlab's pcg: It lists explicitly how the function can be called before explaining what each input/output pair.\n",
    "```\n",
    "x = pcg(A,b)\n",
    "pcg(A,b,tol)\n",
    "pcg(A,b,tol,maxit)\n",
    "pcg(A,b,tol,maxit,M)\n",
    "pcg(A,b,tol,maxit,M1,M2)\n",
    "pcg(A,b,tol,maxit,M1,M2,x0)\n",
    "[x,flag] = pcg(A,b,...)\n",
    "[x,flag,relres] = pcg(A,b,...)\n",
    "[x,flag,relres,iter] = pcg(A,b,...)\n",
    "[x,flag,relres,iter,resvec] = pcg(A,b,...)\n",
    "```\n",
    "\n",
    "Here is the same function from ```scipy.sparse.linalg```:\n",
    "\n",
    "```\n",
    "cg(A, b, x0=None, tol=1e-05, maxiter=None, xtype=None, M=None, callback=None)\n",
    "```\n",
    "Each input quantity and output quantity is explained in detail [here](https://docs.scipy.org/doc/scipy-0.16.1/reference/generated/scipy.sparse.linalg.cg.html).\n",
    "\n"
   ]
  },
  {
   "cell_type": "markdown",
   "metadata": {},
   "source": [
    "### ```*args``` and ```**kwargs``` keyword arguments\n",
    "\n",
    "This feature allow us to have variable number of arguments with and without keywords. Consider, first, this example."
   ]
  },
  {
   "cell_type": "code",
   "execution_count": 37,
   "metadata": {},
   "outputs": [],
   "source": [
    "def catch_all(*args,**kwargs):\n",
    "    print('a = ', a, ', and b = ', b)  #Need a minimum of two \"mandatory arguments\"\n",
    "    \n",
    "    #print(type(args))\n",
    "    #print(type(kwargs))\n",
    "    \n",
    "    print(\"args = \", args)        #list of variable args\n",
    "    print(\"kwargs = \", kwargs)    #dictionary of keyword args\n",
    "    return                        #unnecessary but harmless"
   ]
  },
  {
   "cell_type": "markdown",
   "metadata": {},
   "source": [
    "Now let us see the many different ways we can invoke this function"
   ]
  },
  {
   "cell_type": "code",
   "execution_count": 31,
   "metadata": {},
   "outputs": [
    {
     "name": "stdout",
     "output_type": "stream",
     "text": [
      "a =  1 , and b =  2\n",
      "args =  ()\n",
      "kwargs =  {}\n"
     ]
    }
   ],
   "source": [
    "catch_all(1,2)"
   ]
  },
  {
   "cell_type": "code",
   "execution_count": 45,
   "metadata": {},
   "outputs": [
    {
     "name": "stdout",
     "output_type": "stream",
     "text": [
      "a =  2 , and b =  3\n",
      "args =  (4, 5, 6)\n",
      "kwargs =  {'c': '1', 'd': '2'}\n"
     ]
    }
   ],
   "source": [
    "catch_all( 2,3 , 4, 5, 6, c = '1', d = '2')"
   ]
  },
  {
   "cell_type": "code",
   "execution_count": 40,
   "metadata": {},
   "outputs": [
    {
     "name": "stdout",
     "output_type": "stream",
     "text": [
      "1.0 3.0\n"
     ]
    }
   ],
   "source": [
    "def func(args,kwargs):\n",
    "    print(args,kwargs)\n",
    "    return\n",
    "\n",
    "func(1.,3.)"
   ]
  },
  {
   "cell_type": "markdown",
   "metadata": {},
   "source": [
    "### Passing functions as arguments\n",
    "\n",
    "The function arguments can refer to \"objects\" of any type and the type can change during program execution. This is known as *dynamic typing*. "
   ]
  },
  {
   "cell_type": "code",
   "execution_count": 41,
   "metadata": {},
   "outputs": [],
   "source": [
    "#Example\n",
    "def add(a,b):   return a + b\n"
   ]
  },
  {
   "cell_type": "code",
   "execution_count": 42,
   "metadata": {},
   "outputs": [
    {
     "name": "stdout",
     "output_type": "stream",
     "text": [
      "3.0\n"
     ]
    }
   ],
   "source": [
    "### Add integers \n",
    "print(add(1.0,2.0))"
   ]
  },
  {
   "cell_type": "code",
   "execution_count": 43,
   "metadata": {},
   "outputs": [
    {
     "name": "stdout",
     "output_type": "stream",
     "text": [
      "ab\n"
     ]
    }
   ],
   "source": [
    "### Add strings\n",
    "print(add('a','b'))"
   ]
  },
  {
   "cell_type": "markdown",
   "metadata": {},
   "source": [
    "In particular, this means that we can also pass in functions as arguments. Consider this example for summing a series:\n",
    "\n",
    "$$ L(x; n) = \\sum_{i=1}^n f(x;i) = \\sum_{i=1}^n\\frac{1}{i}\\left( \\frac{x}{1+x}\\right)^i \\approx \\log(1 +x). $$\n",
    "\n",
    "We can implement this summation in many ways. We implement in such a way that the summation is more general purpose."
   ]
  },
  {
   "cell_type": "code",
   "execution_count": null,
   "metadata": {},
   "outputs": [],
   "source": [
    "def f(x, i = 1):\n",
    "    return ((x/(1.+x))**i)/float(i)\n",
    "\n",
    "def L(f, x, n = 100):\n",
    "    count = 0.\n",
    "    for i in range(n):\n",
    "        count += f(x,i+1)\n",
    "    return count\n",
    "\n",
    "import math\n",
    "x = 0.1\n",
    "print('The partial sum L(x,n)=', L(f,x, n = 50), ' is an approximation of log(1+x) =', math.log(1+x))"
   ]
  },
  {
   "cell_type": "markdown",
   "metadata": {},
   "source": [
    "Now suppose, we wanted to use the function L to compute $$\\sum_{i=1}^n i = \\frac{n(n+1)}{2}.$$\n",
    "\n",
    "We can reuse $L(x,n)$ in the following way: by defining a function $f(x,i) = i$ and summing \n",
    "    $$ L(x; n) = \\sum_{i=1}^nf(x;i) = \\sum_{i=1}^n i.$$"
   ]
  },
  {
   "cell_type": "code",
   "execution_count": null,
   "metadata": {},
   "outputs": [],
   "source": [
    "n = 50\n",
    "fxi = lambda x, i: i\n",
    "sumin = L(fxi, x, n)\n",
    "print('The summation of terms 1 + ... + 50 equals', sumin)\n",
    "print('To check the answer, this should be ', (50*51)//2)"
   ]
  }
 ],
 "metadata": {
  "kernelspec": {
   "display_name": "Python 3",
   "language": "python",
   "name": "python3"
  },
  "language_info": {
   "codemirror_mode": {
    "name": "ipython",
    "version": 3
   },
   "file_extension": ".py",
   "mimetype": "text/x-python",
   "name": "python",
   "nbconvert_exporter": "python",
   "pygments_lexer": "ipython3",
   "version": "3.8.8"
  }
 },
 "nbformat": 4,
 "nbformat_minor": 2
}
