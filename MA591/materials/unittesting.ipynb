{
 "cells": [
  {
   "cell_type": "markdown",
   "metadata": {},
   "source": [
    "# Unit testing\n",
    "\n",
    "Reading: \n",
    "+  Langtangen \"A primer on scientific programing with Python\" Chapter 3, 4, and appendix H9.\n",
    "\n",
    "It is **always** a good idea to rigorously test one's codes. Essentially, every function or unit of code you write should have it's own test -- both for the way it handles inputs and correctness. "
   ]
  },
  {
   "cell_type": "markdown",
   "metadata": {},
   "source": [
    "Here are some conventions to follow to make the testing compatible with unittesting. Adapted from Langtangen:\n",
    "    \n",
    "+ have a name starting with `test_`;\n",
    "+ have no arguments;\n",
    "+ let a boolean variable, say success, be `True` if a test passes and be `False` if the test fails;\n",
    "+ use meaningful error messages when something fails (many ways of doing this)\n",
    "\n",
    "\n",
    "\n",
    "## Pytest and Nose\n",
    "\n",
    "[Pytest](https://docs.pytest.org/en/latest/) and [Nose](https://nose2.readthedocs.io/en/stable/) extend the functionalities of `unittest`. You can install `pytest` from the command line using \n",
    "\n",
    "```\n",
    "pip install -U pytest\n",
    "```\n",
    "\n",
    "If you haven't installed it yet, install [`pip`](https://pip.pypa.io/en/stable/)! Pip stands for 'Package installer for Python'. \n",
    "\n"
   ]
  },
  {
   "cell_type": "markdown",
   "metadata": {},
   "source": [
    "## Option 1: Unit testing on modules\n",
    "\n",
    "Save the following functions in a module, say 'test_equal.py'."
   ]
  },
  {
   "cell_type": "code",
   "execution_count": 2,
   "metadata": {},
   "outputs": [],
   "source": [
    "# Make the string upper case \n",
    "def uppercase(string):\n",
    "    \n",
    "    assert isinstance(string, str)\n",
    "    return string.upper()\n",
    "\n",
    "def test_uppercase():\n",
    "        \n",
    "    assert uppercase('abc') == 'ABC'\n",
    "    return\n",
    "    \n",
    "# Test if two numbers are equal\n",
    "def equal(a,b, eps = 1.e-16):\n",
    "    #Checks the inputs are appropriate\n",
    "    assert isinstance(a, (float, int))\n",
    "    assert isinstance(b, (float, int))\n",
    "    \n",
    "    #Checks eps is positive\n",
    "    assert eps > 0\n",
    "    \n",
    "    return abs(a-b) < eps\n",
    "\n",
    "def test_equal():\n",
    " \n",
    "    assert equal(1.0,1.0)\n",
    "    assert equal(2.0, 6.0/3.0)\n",
    "    assert not equal(2.0,3.0)\n",
    "    \n",
    "    return\n"
   ]
  },
  {
   "cell_type": "markdown",
   "metadata": {},
   "source": [
    "Then in the command line type \n",
    "\n",
    "```\n",
    "pytest test_equal.py\n",
    "```\n",
    "\n",
    "or \n",
    "\n",
    "```\n",
    "nosetests test_equal.py\n",
    "```\n",
    "\n",
    "\n",
    "If the filename is not mentioned: `pytest` or `nosetests` will run all files of the form `test_*.py` in the current directory and its subdirectories."
   ]
  },
  {
   "cell_type": "markdown",
   "metadata": {},
   "source": [
    "## Option 2: Unit Testing in jupyter notebooks\n",
    "\n",
    "This appears to be a bit harder and I haven't figured out the best way to do this. Here is one way that works. You have to write a derived class and write the test functions as methods of this class."
   ]
  },
  {
   "cell_type": "code",
   "execution_count": 3,
   "metadata": {},
   "outputs": [
    {
     "name": "stderr",
     "output_type": "stream",
     "text": [
      "test_caps (__main__.TestNotebook) ... ok\n",
      "test_equal (__main__.TestNotebook) ... FAIL\n",
      "\n",
      "======================================================================\n",
      "FAIL: test_equal (__main__.TestNotebook)\n",
      "----------------------------------------------------------------------\n",
      "Traceback (most recent call last):\n",
      "  File \"<ipython-input-3-07efebf0a896>\", line 10, in test_equal\n",
      "    assert equal(1.0,2.0)\n",
      "AssertionError\n",
      "\n",
      "----------------------------------------------------------------------\n",
      "Ran 2 tests in 0.002s\n",
      "\n",
      "FAILED (failures=1)\n"
     ]
    },
    {
     "data": {
      "text/plain": [
       "<unittest.main.TestProgram at 0x7fe07857d550>"
      ]
     },
     "execution_count": 3,
     "metadata": {},
     "output_type": "execute_result"
    }
   ],
   "source": [
    "import unittest\n",
    "\n",
    "class TestNotebook(unittest.TestCase):\n",
    "    def test_caps(self):\n",
    "        \n",
    "        assert uppercase('abc') == 'ABC'\n",
    "        return\n",
    "    \n",
    "    def test_equal(self):\n",
    "        assert equal(1.0,2.0)\n",
    "        assert equal(2.0,6.0/3.0)\n",
    "        assert not equal(2.0,3.0)\n",
    "        \n",
    "# Doing the units\n",
    "unittest.main(argv=[''], verbosity=2, exit=False)"
   ]
  },
  {
   "cell_type": "code",
   "execution_count": null,
   "metadata": {},
   "outputs": [],
   "source": []
  }
 ],
 "metadata": {
  "kernelspec": {
   "display_name": "Python 3",
   "language": "python",
   "name": "python3"
  },
  "language_info": {
   "codemirror_mode": {
    "name": "ipython",
    "version": 3
   },
   "file_extension": ".py",
   "mimetype": "text/x-python",
   "name": "python",
   "nbconvert_exporter": "python",
   "pygments_lexer": "ipython3",
   "version": "3.8.8"
  }
 },
 "nbformat": 4,
 "nbformat_minor": 2
}
