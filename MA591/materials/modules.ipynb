{
 "cells": [
  {
   "cell_type": "markdown",
   "metadata": {},
   "source": [
    "## Modules\n",
    "\n",
    "Python modules allow us to define multiple functions in a single script file, which we can then use and reuse multiple times. We will learn how to use modules in this lecture; writing modules will be left for a separate lecture.\n",
    "\n",
    "Python has several in-built modules. Some useful ones are \n",
    " + ```math```, ```cmath```, ```os```, ```pdb``` (debugger), ```profile``` (profiler).\n",
    "There are many third party modules/packages that we will explore (e.g., matplotlib, numpy, scipy).\n",
    "    \n",
    "Each module is a collection of different functions (methods), variables (attributes), and classes. This defines a *namespace* associated with the module. We can access their functionalities in several different ways.\n",
    "\n",
    "### Method 1: ```import```"
   ]
  },
  {
   "cell_type": "code",
   "execution_count": 1,
   "metadata": {},
   "outputs": [],
   "source": [
    "import math\n",
    "print(math.cos(math.pi))             #Can be painful if the module name is long"
   ]
  },
  {
   "cell_type": "markdown",
   "metadata": {},
   "source": [
    "### Method 2: Import a module using an alias. "
   ]
  },
  {
   "cell_type": "code",
   "execution_count": 2,
   "metadata": {},
   "outputs": [],
   "source": [
    "import math as m\n",
    "print(m.cos(m.pi))"
   ]
  },
  {
   "cell_type": "markdown",
   "metadata": {},
   "source": [
    "### Method 3: Importing contents directly "
   ]
  },
  {
   "cell_type": "code",
   "execution_count": 1,
   "metadata": {},
   "outputs": [
    {
     "name": "stdout",
     "output_type": "stream",
     "text": [
      "-1.0\n"
     ]
    }
   ],
   "source": [
    "from math import cos, pi\n",
    "print(cos(pi))"
   ]
  },
  {
   "cell_type": "code",
   "execution_count": 2,
   "metadata": {},
   "outputs": [
    {
     "name": "stdout",
     "output_type": "stream",
     "text": [
      "(-1-0j)\n"
     ]
    }
   ],
   "source": [
    "from cmath import cos, pi\n",
    "print(cos(pi))"
   ]
  },
  {
   "cell_type": "code",
   "execution_count": 3,
   "metadata": {},
   "outputs": [],
   "source": [
    "from math import cos as mcos\n",
    "from cmath import cos as ccos"
   ]
  },
  {
   "cell_type": "code",
   "execution_count": 6,
   "metadata": {},
   "outputs": [
    {
     "name": "stdout",
     "output_type": "stream",
     "text": [
      "Help on built-in function cos in module cmath:\n",
      "\n",
      "cos(...)\n",
      "    cos(x)\n",
      "    \n",
      "    Return the cosine of x.\n",
      "\n"
     ]
    }
   ],
   "source": [
    "help(ccos)"
   ]
  },
  {
   "cell_type": "markdown",
   "metadata": {},
   "source": [
    "This example shows the pitfalls of importing the functions directly. Different namespaces may have similar functions; use the module names (namespaces) to distinguish between these functions.\n",
    "\n",
    "\n",
    "### Method 4: Importing **all** the contents\n",
    "    \n",
    "This method can only be used at the start of a script and not inside a function. Do not use, if you can avoid it!"
   ]
  },
  {
   "cell_type": "code",
   "execution_count": 6,
   "metadata": {},
   "outputs": [],
   "source": [
    "from math import * # * is a wildcard for all the contents\n",
    "print(cos(pi))"
   ]
  },
  {
   "cell_type": "markdown",
   "metadata": {},
   "source": [
    "## Writing your own modules\n",
    "\n",
    "Let us create a script called `quad.py'"
   ]
  },
  {
   "cell_type": "code",
   "execution_count": 7,
   "metadata": {},
   "outputs": [],
   "source": [
    "import math\n",
    "\n",
    "__all__ = ['quadratic', 'Parabola']\n",
    "\n",
    "def quadratic(x, a = 1., b = 2., c = 3.):\n",
    "    return a*x**2. + b*x + c\n",
    "    \n",
    "\n",
    "class Parabola:\n",
    "    def __init__(self, a0, a1, a2):\n",
    "        self.a0 = a0\n",
    "        self.a1 = a1\n",
    "        self.a2 = a2\n",
    "        \n",
    "    def eval(self, x):\n",
    "        return self.a0 + self.a1*x + self.a2*x**2.\n",
    "    \n",
    "    def __call__(self, x):\n",
    "        return self.eval(x)\n"
   ]
  },
  {
   "cell_type": "markdown",
   "metadata": {},
   "source": [
    "Once this file `quad.py` is in your directory, any of these commands should work.\n",
    "\n",
    "```\n",
    "import quad\n",
    "import quad as qd\n",
    "from quad import quadratic, Parabola\n",
    "from quad import * \n",
    "\n",
    "```"
   ]
  },
  {
   "cell_type": "code",
   "execution_count": 2,
   "metadata": {},
   "outputs": [
    {
     "name": "stdout",
     "output_type": "stream",
     "text": [
      "Help on function quadratic in module quad:\n",
      "\n",
      "quadratic(x, a=1.0, b=2.0, c=3.0)\n",
      "\n"
     ]
    }
   ],
   "source": [
    "import quad\n",
    "help(quad.quadratic)"
   ]
  },
  {
   "cell_type": "code",
   "execution_count": 8,
   "metadata": {},
   "outputs": [],
   "source": [
    "import quad\n",
    "import quad as qd\n",
    "from quad import quadratic, Parabola\n",
    "from quad import *"
   ]
  },
  {
   "cell_type": "code",
   "execution_count": 9,
   "metadata": {},
   "outputs": [
    {
     "name": "stdout",
     "output_type": "stream",
     "text": [
      "6.0\n"
     ]
    }
   ],
   "source": [
    "print(quadratic(1.0))"
   ]
  },
  {
   "cell_type": "markdown",
   "metadata": {},
   "source": [
    "### Executing a module as a script\n",
    "\n",
    "At the bottom the script, we can add a few lines of code, like \n",
    "\n",
    "```\n",
    "\n",
    "if __name__ == '__main__':\n",
    "    print(quadratic(1.0))\n",
    "    \n",
    "```\n",
    "\n",
    "When we execute the script at a terminal using the line\n",
    "```\n",
    "python quad.py\n",
    "```"
   ]
  },
  {
   "cell_type": "markdown",
   "metadata": {},
   "source": [
    "### More information\n",
    "\n",
    "If you want to read more about modules, please read:\n",
    "1. [python.org](https://docs.python.org/3/tutorial/modules.html)\n",
    "2.  Langtangen's \"A primer on scientific programing with Python\", Section 4.9"
   ]
  }
 ],
 "metadata": {
  "kernelspec": {
   "display_name": "Python 3",
   "language": "python",
   "name": "python3"
  },
  "language_info": {
   "codemirror_mode": {
    "name": "ipython",
    "version": 3
   },
   "file_extension": ".py",
   "mimetype": "text/x-python",
   "name": "python",
   "nbconvert_exporter": "python",
   "pygments_lexer": "ipython3",
   "version": "3.7.4"
  }
 },
 "nbformat": 4,
 "nbformat_minor": 2
}
