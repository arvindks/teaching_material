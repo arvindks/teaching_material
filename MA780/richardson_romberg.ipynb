{
 "cells": [
  {
   "cell_type": "code",
   "execution_count": 1,
   "metadata": {},
   "outputs": [],
   "source": [
    "import numpy as np\n",
    "import matplotlib.pyplot as plt\n",
    "\n",
    "%matplotlib inline\n",
    "plt.rcParams['xtick.labelsize'] = 14\n",
    "plt.rcParams['ytick.labelsize'] = 14"
   ]
  },
  {
   "cell_type": "markdown",
   "metadata": {},
   "source": [
    "### Richardson Extrapolation\n",
    "\n",
    "Suppose we want to estimate \n",
    "$$ E = f'(\\alpha) = \\frac{f(\\alpha+h)-f(\\alpha)}{h} + \\mathcal{O}(h). $$\n",
    "we take $f(x) = x$ and $\\alpha = 1$. "
   ]
  },
  {
   "cell_type": "code",
   "execution_count": 2,
   "metadata": {},
   "outputs": [
    {
     "data": {
      "text/plain": [
       "<matplotlib.legend.Legend at 0x7faea11ba9d0>"
      ]
     },
     "execution_count": 2,
     "metadata": {},
     "output_type": "execute_result"
    },
    {
     "data": {
      "image/png": "[encoded data removed]",
      "text/plain": [
       "<Figure size 432x288 with 1 Axes>"
      ]
     },
     "metadata": {
      "needs_background": "light"
     },
     "output_type": "display_data"
    }
   ],
   "source": [
    "h = 1/2**np.arange(1,50)\n",
    "f = lambda x: np.exp(x)\n",
    "alpha = 1\n",
    "E = np.exp(1)\n",
    "\n",
    "# Compute the first order estimate and the resulting error\n",
    "phi = (f(alpha + h)-f(alpha))/h\n",
    "err = np.abs(E-phi)\n",
    "\n",
    "plt.loglog(h, err, 'k-', h, h, 'r--')\n",
    "plt.title('Error in $\\Phi(h)$', fontsize = 16)\n",
    "plt.legend(('$\\Phi(h)$', '$\\mathcal{O}(h)$'), fontsize = 14)\n"
   ]
  },
  {
   "cell_type": "markdown",
   "metadata": {},
   "source": [
    "#### Improved solution using Richardson extrapolation"
   ]
  },
  {
   "cell_type": "code",
   "execution_count": 3,
   "metadata": {},
   "outputs": [],
   "source": [
    "n = 10\n",
    "R = np.zeros((n,n), dtype = 'd')\n",
    "R[:,0] = phi[:n]\n",
    "\n",
    "for j in range(1,n):\n",
    "    for k in range(1,j+1):\n",
    "        R[j,k] = (2**k*R[j,k-1] - R[j-1,k-1])/(2**k-1)\n"
   ]
  },
  {
   "cell_type": "code",
   "execution_count": 4,
   "metadata": {},
   "outputs": [
    {
     "name": "stdout",
     "output_type": "stream",
     "text": [
      "Richardson Extrapolation Table\n",
      "[[3.52681448 0.         0.         0.         0.        ]\n",
      " [3.08824452 2.64967455 0.         0.         0.        ]\n",
      " [2.89548016 2.70271581 2.72039623 0.         0.        ]\n",
      " [2.80502585 2.71457154 2.71852345 2.71825591 0.        ]\n",
      " [2.76120089 2.71737593 2.71831072 2.71828033 2.71828196]]\n"
     ]
    }
   ],
   "source": [
    "print('Richardson Extrapolation Table')\n",
    "print(R[:5,:5])"
   ]
  },
  {
   "cell_type": "code",
   "execution_count": 5,
   "metadata": {},
   "outputs": [
    {
     "name": "stdout",
     "output_type": "stream",
     "text": [
      "Richardson Extrapolation Errors\n",
      "[[8.09e-01 0.00e+00 0.00e+00 0.00e+00 0.00e+00]\n",
      " [3.70e-01 6.86e-02 0.00e+00 0.00e+00 0.00e+00]\n",
      " [1.77e-01 1.56e-02 2.11e-03 0.00e+00 0.00e+00]\n",
      " [8.67e-02 3.71e-03 2.42e-04 2.59e-05 0.00e+00]\n",
      " [4.29e-02 9.06e-04 2.89e-05 1.50e-06 1.33e-07]]\n"
     ]
    }
   ],
   "source": [
    "print('Richardson Extrapolation Errors')\n",
    "print(np.array_str(np.tril(np.abs(E-R[:5,:5])), precision=2))"
   ]
  },
  {
   "cell_type": "code",
   "execution_count": 6,
   "metadata": {},
   "outputs": [
    {
     "data": {
      "text/plain": [
       "Text(0.5, 1.0, 'Accuracy of Richardson Extrapolation')"
      ]
     },
     "execution_count": 6,
     "metadata": {},
     "output_type": "execute_result"
    },
    {
     "data": {
      "image/png": "[encoded data removed]",
      "text/plain": [
       "<Figure size 432x288 with 2 Axes>"
      ]
     },
     "metadata": {
      "needs_background": "light"
     },
     "output_type": "display_data"
    }
   ],
   "source": [
    "plt.imshow(np.log(np.abs(E-R))); plt.colorbar()\n",
    "plt.title('Accuracy of Richardson Extrapolation', fontsize = 16)"
   ]
  },
  {
   "cell_type": "markdown",
   "metadata": {},
   "source": [
    "### Romberg integration\n",
    "\n",
    "Suppose we use Trapezoidal rule along with Richardson extrapolation to approximate the integral $\\int_0^\\pi \\sin(x) dx.$"
   ]
  },
  {
   "cell_type": "code",
   "execution_count": 7,
   "metadata": {},
   "outputs": [
    {
     "name": "stdout",
     "output_type": "stream",
     "text": [
      "The true answer is 2\n"
     ]
    }
   ],
   "source": [
    "f2 = lambda x: np.sin(x)\n",
    "I2 = 2\n",
    "print('The true answer is', I2)"
   ]
  },
  {
   "cell_type": "code",
   "execution_count": 8,
   "metadata": {},
   "outputs": [],
   "source": [
    "nlst = 2*(2**np.arange(0,10))\n",
    "a = 0; b = np.pi\n",
    "\n",
    "from scipy.integrate import trapz, simps\n",
    "#Computing first column of Richardson Extrapolation Table\n",
    "R = np.zeros((10,10), dtype = 'd')\n",
    "for j,n in enumerate(nlst):\n",
    "    h = (b-a)/n\n",
    "    xj = a + np.arange(n+1)*h\n",
    "    \n",
    "    #Trapezoidal rule\n",
    "    R[j,0] = trapz(f2(xj), xj, h)\n",
    "    \n",
    "#Computing the rest of the table; notice the new weights\n",
    "for j in range(1,10):\n",
    "    for k in range(1,j+1):\n",
    "        R[j,k] = (4**k*R[j,k-1] - R[j-1,k-1])/(4**k-1)\n"
   ]
  },
  {
   "cell_type": "code",
   "execution_count": 9,
   "metadata": {},
   "outputs": [
    {
     "name": "stdout",
     "output_type": "stream",
     "text": [
      "Richardson Extrapolation Table\n",
      "[[1.57079633 0.         0.         0.         0.        ]\n",
      " [1.8961189  2.00455975 0.         0.         0.        ]\n",
      " [1.9742316  2.00026917 1.99998313 0.         0.        ]\n",
      " [1.99357034 2.00001659 1.99999975 2.00000002 0.        ]\n",
      " [1.99839336 2.00000103 2.         2.         2.        ]]\n"
     ]
    }
   ],
   "source": [
    "print('Richardson Extrapolation Table')\n",
    "print(R[:5,:5])"
   ]
  },
  {
   "cell_type": "code",
   "execution_count": 10,
   "metadata": {},
   "outputs": [
    {
     "name": "stdout",
     "output_type": "stream",
     "text": [
      "Richardson Extrapolation Errors\n",
      "[[4.29e-01 0.00e+00 0.00e+00 0.00e+00 0.00e+00]\n",
      " [1.04e-01 4.56e-03 0.00e+00 0.00e+00 0.00e+00]\n",
      " [2.58e-02 2.69e-04 1.69e-05 0.00e+00 0.00e+00]\n",
      " [6.43e-03 1.66e-05 2.48e-07 1.63e-08 0.00e+00]\n",
      " [1.61e-03 1.03e-06 3.81e-09 5.97e-11 3.97e-12]]\n"
     ]
    }
   ],
   "source": [
    "print('Richardson Extrapolation Errors')\n",
    "print(np.array_str(np.tril(np.abs(I2-R[:5,:5])), precision=2))"
   ]
  },
  {
   "cell_type": "code",
   "execution_count": 11,
   "metadata": {},
   "outputs": [
    {
     "data": {
      "text/plain": [
       "Text(0.5, 1.0, 'Accuracy of Romberg integration')"
      ]
     },
     "execution_count": 11,
     "metadata": {},
     "output_type": "execute_result"
    },
    {
     "data": {
      "image/png": "[encoded data removed]",
      "text/plain": [
       "<Figure size 432x288 with 2 Axes>"
      ]
     },
     "metadata": {
      "needs_background": "light"
     },
     "output_type": "display_data"
    }
   ],
   "source": [
    "plt.imshow(np.log(np.abs(I2-R))); plt.colorbar()\n",
    "plt.title('Accuracy of Romberg integration', fontsize = 16)"
   ]
  },
  {
   "cell_type": "markdown",
   "metadata": {},
   "source": [
    "A better implementation would recognize that we can reuse the information in $\\Phi(h/2^j)$ to compute all the intermediate quantities $\\Phi(h/2^k)$ for $0 \\leq j < k.$\n",
    "\n",
    "\n",
    "#### Another example"
   ]
  },
  {
   "cell_type": "code",
   "execution_count": 20,
   "metadata": {},
   "outputs": [
    {
     "name": "stdout",
     "output_type": "stream",
     "text": [
      "Romberg integration Table\n",
      "[[0.27817283 0.         0.         0.         0.        ]\n",
      " [0.22071316 0.20155994 0.         0.         0.        ]\n",
      " [0.20430415 0.19883448 0.19865278 0.         0.        ]\n",
      " [0.20000907 0.19857738 0.19856024 0.19855877 0.        ]\n",
      " [0.19892123 0.19855861 0.19855736 0.19855731 0.19855731]]\n",
      "Romberg integration Errors\n",
      "[[7.95e-02 0.00e+00 0.00e+00 0.00e+00 0.00e+00]\n",
      " [2.20e-02 2.89e-03 0.00e+00 0.00e+00 0.00e+00]\n",
      " [5.64e-03 1.67e-04 1.45e-05 0.00e+00 0.00e+00]\n",
      " [1.34e-03 8.99e-05 1.07e-04 1.09e-04 0.00e+00]\n",
      " [2.54e-04 1.09e-04 1.10e-04 1.10e-04 1.10e-04]]\n"
     ]
    }
   ],
   "source": [
    "f2 = lambda x: np.sin(x)/(2*x**3)\n",
    "I2 = 0.1986672988\n",
    "\n",
    "nlst = 2*(2**np.arange(0,10))\n",
    "a = 1; b = np.pi\n",
    "\n",
    "from scipy.integrate import trapz, simps\n",
    "#Computing first column of Richardson Extrapolation Table\n",
    "R = np.zeros((10,10), dtype = 'd')\n",
    "for j,n in enumerate(nlst):\n",
    "    h = (b-a)/n\n",
    "    xj = a + np.arange(n+1)*h\n",
    "    \n",
    "    #Trapezoidal rule\n",
    "    R[j,0] = trapz(f2(xj), xj, h)\n",
    "    \n",
    "#Computing the rest of the table; notice the new weights\n",
    "for j in range(1,10):\n",
    "    for k in range(1,j+1):\n",
    "        R[j,k] = (4**k*R[j,k-1] - R[j-1,k-1])/(4**k-1)\n",
    "        \n",
    "print('Romberg integration Table')\n",
    "print(R[:5,:5])\n",
    "\n",
    "\n",
    "print('Romberg integration Errors')\n",
    "print(np.array_str(np.tril(np.abs(I2-R[:5,:5])), precision=2))"
   ]
  },
  {
   "cell_type": "code",
   "execution_count": 13,
   "metadata": {},
   "outputs": [
    {
     "data": {
      "text/plain": [
       "Text(0.5, 1.0, 'Accuracy of Romberg integration')"
      ]
     },
     "execution_count": 13,
     "metadata": {},
     "output_type": "execute_result"
    },
    {
     "data": {
      "image/png": "[encoded data removed]",
      "text/plain": [
       "<Figure size 432x288 with 2 Axes>"
      ]
     },
     "metadata": {
      "needs_background": "light"
     },
     "output_type": "display_data"
    }
   ],
   "source": [
    "plt.imshow(np.log(np.abs(I2-R))); plt.colorbar()\n",
    "plt.title('Accuracy of Romberg integration', fontsize = 16)"
   ]
  },
  {
   "cell_type": "markdown",
   "metadata": {},
   "source": [
    "#### Periodic function"
   ]
  },
  {
   "cell_type": "code",
   "execution_count": 17,
   "metadata": {},
   "outputs": [
    {
     "name": "stdout",
     "output_type": "stream",
     "text": [
      "Romberg integration Table\n",
      "[[1.         0.         0.         0.         0.        ]\n",
      " [0.9        0.86666667 0.         0.         0.        ]\n",
      " [0.90276926 0.90369234 0.90616072 0.         0.        ]\n",
      " [0.90277993 0.90278348 0.90272289 0.90266832 0.        ]\n",
      " [0.90277993 0.90277993 0.90277969 0.90278059 0.90278103]]\n",
      "Romberg integration Errors\n",
      "[[9.72e-02 0.00e+00 0.00e+00 0.00e+00 0.00e+00]\n",
      " [2.78e-03 3.61e-02 0.00e+00 0.00e+00 0.00e+00]\n",
      " [1.07e-05 9.12e-04 3.38e-03 0.00e+00 0.00e+00]\n",
      " [5.45e-10 3.56e-06 5.70e-05 1.12e-04 0.00e+00]\n",
      " [3.89e-15 1.82e-10 2.37e-07 6.65e-07 1.10e-06]]\n"
     ]
    }
   ],
   "source": [
    "f3 = lambda x: np.sqrt(1-0.36*np.sin(x)**2.)/(2*np.pi)\n",
    "I3 = 0.90277992777219\n",
    "a = 0; b = 2*np.pi\n",
    "\n",
    "from scipy.integrate import trapz, simps\n",
    "#Computing first column of Richardson Extrapolation Table\n",
    "R = np.zeros((10,10), dtype = 'd')\n",
    "for j,n in enumerate(nlst):\n",
    "    h = (b-a)/n\n",
    "    xj = a + np.arange(n+1)*h\n",
    "    \n",
    "    #Trapezoidal rule\n",
    "    R[j,0] = trapz(f3(xj), xj, h)\n",
    "    \n",
    "#Computing the rest of the table; notice the new weights\n",
    "for j in range(1,10):\n",
    "    for k in range(1,j+1):\n",
    "        R[j,k] = (4**k*R[j,k-1] - R[j-1,k-1])/(4**k-1)\n",
    "        \n",
    "print('Romberg integration Table')\n",
    "print(R[:5,:5])\n",
    "\n",
    "\n",
    "print('Romberg integration Errors')\n",
    "print(np.array_str(np.tril(np.abs(I3-R[:5,:5])), precision=2))"
   ]
  },
  {
   "cell_type": "code",
   "execution_count": 18,
   "metadata": {},
   "outputs": [
    {
     "data": {
      "text/plain": [
       "Text(0.5, 1.0, 'Accuracy of Romberg integration')"
      ]
     },
     "execution_count": 18,
     "metadata": {},
     "output_type": "execute_result"
    },
    {
     "data": {
      "image/png": "[encoded data removed]",
      "text/plain": [
       "<Figure size 432x288 with 2 Axes>"
      ]
     },
     "metadata": {
      "needs_background": "light"
     },
     "output_type": "display_data"
    }
   ],
   "source": [
    "plt.imshow(np.log(np.abs(I3-R))); plt.colorbar()\n",
    "plt.title('Accuracy of Romberg integration', fontsize = 16)"
   ]
  },
  {
   "cell_type": "code",
   "execution_count": null,
   "metadata": {},
   "outputs": [],
   "source": []
  }
 ],
 "metadata": {
  "kernelspec": {
   "display_name": "Python 3",
   "language": "python",
   "name": "python3"
  },
  "language_info": {
   "codemirror_mode": {
    "name": "ipython",
    "version": 3
   },
   "file_extension": ".py",
   "mimetype": "text/x-python",
   "name": "python",
   "nbconvert_exporter": "python",
   "pygments_lexer": "ipython3",
   "version": "3.7.4"
  }
 },
 "nbformat": 4,
 "nbformat_minor": 2
}
