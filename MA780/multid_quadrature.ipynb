{
 "cells": [
  {
   "cell_type": "code",
   "execution_count": 4,
   "metadata": {},
   "outputs": [],
   "source": [
    "import numpy as np\n",
    "import matplotlib.pyplot as plt\n",
    "\n",
    "%matplotlib inline\n",
    "plt.rcParams['xtick.labelsize'] = 14\n",
    "plt.rcParams['ytick.labelsize'] = 14"
   ]
  },
  {
   "cell_type": "markdown",
   "metadata": {},
   "source": [
    "### Multidimensional quadrature\n",
    "\n",
    "Suppose we want to approximate the integral\n",
    "$$ I(f) = \\int_a^b w(x) f(x) dx  \\approx \\sum_{j=0}^n w_jf(x_j) = I_n(f) ,$$ \n",
    "by using an appropriate quadrature scheme with nodes $\\{x_j\\}$ and weights $\\{w_j\\}$.\n",
    "\n",
    "Note that this includes many schemes we have discussed so far --- \n",
    "+ (composite) Newton-Cotes, \n",
    "+ Clenshaw-Curtis, and \n",
    "+ Gauss Quadrature. \n",
    "\n",
    "\n",
    "#### Double integrals\n",
    "We can easily adapt the above technique to approximate double integrals. Suppose we use Gauss-Legendre quadrature, then we can approximate\n",
    "$$ I(f) = \\int_{-1}^{1} \\int_{-1}^{1} f(x,y) dx dy \\approx \\sum_{j=0}^n\\sum_{k=0}^n w_jw_k f(\\xi_j, \\xi_k) ,$$\n",
    "\n",
    "where $w_j$s and $\\xi_j$s are the 1D Gauss-Legendre quadrature weights and nodes respectively.  \n",
    "\n",
    "+ This is an example of a product rule for the double integral.\n",
    "+ It is straightforward to extend it to general domains $[a,b] \\times [c,d]$.\n",
    "\n",
    "\n",
    "We use the change of variables $(x,y) \\in [a,b] \\times [c,d]$ to $(\\xi, \\eta) \\in [-1,1] \\times [-1,1]$. Therefore, with \n",
    "$$ x(\\xi) = a + \\frac{\\xi +1}{2} (b-a) \\qquad y(\\xi) = c  + \\frac{\\eta +1}{2}(d-c),$$\n",
    "let $(w_j,\\xi_j)$ be the Gauss-Legendre quadrature weights and nodes respectively; set $\\eta_j = \\xi_j$ for $j=0,\\dots,n$. We can then approximate\n",
    "\n",
    "$$ I(f) \\approx \\frac{b-a}{2}\\frac{d-c}{2} \\sum_{j=0}^n\\sum_{k=0}^n  w_jw_k f( x(\\xi_j), y(\\eta_k)).$$\n",
    "\n",
    "The factors $(b-a)/2$ and $(d-c)/2$ appear because of the change of variables in the integral."
   ]
  },
  {
   "cell_type": "markdown",
   "metadata": {},
   "source": [
    "### Multidimensional quadrature: Cubature"
   ]
  },
  {
   "cell_type": "code",
   "execution_count": 28,
   "metadata": {},
   "outputs": [],
   "source": [
    "from scipy.special import roots_legendre\n",
    "from functools import reduce\n",
    "def multiply(*args):\n",
    "    return reduce((lambda x, y: x * y), args)\n",
    "def multidquad(f, a, b, n = 5):\n",
    "    \n",
    "    #Dimension\n",
    "    d = a.size; \n",
    "    \n",
    "    #Construct 1D Gauss-Legendre quadrature info\n",
    "    xk, wk = roots_legendre(n)\n",
    "    \n",
    "    # Change from [-1,1] to [a_j,b_j] for each mode j = 1,...,d\n",
    "    xklst = []; wklst = []\n",
    "    for j in range(d):\n",
    "        xklst.append(a[j] + (xk+1)*(b[j]-a[j])/2)\n",
    "        wklst.append(wk*(b[j]-a[j])/2)\n",
    "        \n",
    "        \n",
    "    Xten = np.meshgrid(tuple(xklst))\n",
    "    Wten = np.meshgrid(tuple(wklst))\n",
    "    \n",
    "    \n",
    "    return np.sum(multiply(Wten)*f(tuple(Xten))[0])"
   ]
  },
  {
   "cell_type": "code",
   "execution_count": 29,
   "metadata": {},
   "outputs": [
    {
     "data": {
      "text/plain": [
       "1.4999999999999998"
      ]
     },
     "execution_count": 29,
     "metadata": {},
     "output_type": "execute_result"
    }
   ],
   "source": [
    "f = lambda *args: multiply(args)\n",
    "a = np.zeros((3,), dtype = 'd')\n",
    "b = np.ones((3,), dtype = 'd')\n",
    "multidquad(multiply, a, b, 3)"
   ]
  },
  {
   "cell_type": "code",
   "execution_count": 2,
   "metadata": {},
   "outputs": [],
   "source": [
    "### Application: multidimensional function approximation"
   ]
  },
  {
   "cell_type": "code",
   "execution_count": null,
   "metadata": {},
   "outputs": [],
   "source": []
  }
 ],
 "metadata": {
  "kernelspec": {
   "display_name": "Python 3",
   "language": "python",
   "name": "python3"
  },
  "language_info": {
   "codemirror_mode": {
    "name": "ipython",
    "version": 3
   },
   "file_extension": ".py",
   "mimetype": "text/x-python",
   "name": "python",
   "nbconvert_exporter": "python",
   "pygments_lexer": "ipython3",
   "version": "3.7.4"
  }
 },
 "nbformat": 4,
 "nbformat_minor": 2
}
