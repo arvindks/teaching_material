{
 "cells": [
  {
   "cell_type": "code",
   "execution_count": 1,
   "metadata": {
    "slideshow": {
     "slide_type": "skip"
    }
   },
   "outputs": [],
   "source": [
    "import numpy as np\n",
    "import matplotlib.pyplot as plt\n",
    "\n",
    "%matplotlib inline\n",
    "plt.rcParams['xtick.labelsize'] = 14\n",
    "plt.rcParams['ytick.labelsize'] = 14"
   ]
  },
  {
   "cell_type": "markdown",
   "metadata": {
    "slideshow": {
     "slide_type": "slide"
    }
   },
   "source": [
    "# Fast Fourier Transform (FFT)"
   ]
  },
  {
   "cell_type": "markdown",
   "metadata": {
    "slideshow": {
     "slide_type": "slide"
    }
   },
   "source": [
    "### Discrete Fourier Transform\n",
    "\n",
    "Let $x_j = \\frac{2\\pi j}{n}$ for $j=0,\\dots,n-1$ and let $f_j = f(x_j)$ be the sampled function values.\n",
    "\n",
    "\n",
    "Consider the DFT \n",
    "$$ y_k = \\sum_{j=0}^{n-1} f_j \\exp\\left(-\\frac{2\\pi ijk}{n}\\right) = \\sum_{j=0}^{n-1} f_j \\omega_n^{jk} \\qquad k =0,\\dots,n-1, $$\n",
    "\n",
    "A naive implementation of this algorithm this requires O$(n^2)$ flops. "
   ]
  },
  {
   "cell_type": "markdown",
   "metadata": {
    "slideshow": {
     "slide_type": "slide"
    }
   },
   "source": [
    "### Naive implementation"
   ]
  },
  {
   "cell_type": "code",
   "execution_count": 2,
   "metadata": {
    "slideshow": {
     "slide_type": "-"
    }
   },
   "outputs": [],
   "source": [
    "import numpy as np\n",
    "def DFT_slow(x):\n",
    "    \"\"\"Compute the discrete Fourier Transform of the 1D array x\"\"\"\n",
    "    x = np.asarray(x, dtype=float)\n",
    "    N = x.shape[0]\n",
    "    n = np.arange(N)\n",
    "    k = n.reshape((N, 1))\n",
    "    M = np.exp(-2j * np.pi * k * n / N)\n",
    "    return M @ x "
   ]
  },
  {
   "cell_type": "code",
   "execution_count": 3,
   "metadata": {},
   "outputs": [
    {
     "data": {
      "text/plain": [
       "True"
      ]
     },
     "execution_count": 3,
     "metadata": {},
     "output_type": "execute_result"
    }
   ],
   "source": [
    "x = np.random.random(1024)\n",
    "np.allclose(DFT_slow(x), np.fft.fft(x))"
   ]
  },
  {
   "cell_type": "markdown",
   "metadata": {
    "slideshow": {
     "slide_type": "slide"
    }
   },
   "source": [
    "### Some remarks:\n",
    "+ We have defined, in lecture, $\\omega_n = \\exp(2\\pi i/n)$ but here we use $\\omega_n = \\exp(-2\\pi i/n)$. This change of notation will make it consistent with standard descriptions of the FFT algorithm.\n",
    "+ For simplicity, consider $n=2^p$ as a power of $2$. We will discuss the general case later."
   ]
  },
  {
   "cell_type": "markdown",
   "metadata": {
    "slideshow": {
     "slide_type": "slide"
    }
   },
   "source": [
    "## Two-level algorithm and recursion"
   ]
  },
  {
   "cell_type": "markdown",
   "metadata": {
    "slideshow": {
     "slide_type": "slide"
    }
   },
   "source": [
    "### Split into even and odd terms\n",
    "\n",
    "We can split the sum as \n",
    "$$ y_k = \\underbrace{\\left(\\sum_{l=0}^{n/2-1} f_{2l} \\omega_n^{2lk}\\right)}_\\text{Even terms} + \\underbrace{\\left(\\sum_{l=0}^{n/2-1} f_{2l+1} \\omega_n^{2lk} \\right)}_\\text{Odd terms} \\omega_n^k \\qquad k =0,\\dots,n-1 $$\n",
    "where we have used the fact that the odd terms can be written as $\\omega_n^{(2l+1)k} = \\omega_n^{2lk} \\omega_n^k $."
   ]
  },
  {
   "cell_type": "markdown",
   "metadata": {
    "slideshow": {
     "slide_type": "slide"
    }
   },
   "source": [
    "### Two DFTs of size n/2\n",
    "\n",
    "We have written \n",
    "$$ y_k = E_k + \\omega_n^k O_k \\qquad k=0,\\dots,n/2-1, $$\n",
    "\n",
    "\n",
    "where using the fact that $\\omega_n^{2jk} = \\omega_{n/2}^{jk}$\n",
    "\n",
    "$$  E_k =  \\> \\sum_{j=0}^{n/2-1} \\omega_{n/2}^{jk} f_{2j} \\qquad  O_k =  \\> \\sum_{j=0}^{n/2-1} \\omega_{n/2}^{jk} f_{2j+1}.  $$\n",
    "\n",
    "Similarly using the cyclic property of $\\omega_n$ we have $$ y_{k+n/2} =E_k - \\omega_n^k O_k  \\qquad k=0,\\dots,n/2-1. $$\n",
    "\n",
    "These relations are called as the **Butterfly relations** and were observed by Danielson and Lanczos."
   ]
  },
  {
   "cell_type": "markdown",
   "metadata": {
    "slideshow": {
     "slide_type": "slide"
    }
   },
   "source": [
    "### Summary so far\n",
    "\n",
    "We have written the DFT with $n$ terms as \n",
    "+ Two DFTs of size $n/2$ each -- $  E_k =  \\> \\sum_{j=0}^{n/2-1} \\omega_{n/2}^{jk} f_{2j}$ and $O_k =  \\> \\sum_{j=0}^{n/2-1} \\omega_{n/2}^{jk} f_{2j+1}$.\n",
    "+ $E_k$ works with even indices of $f$, $O_k$ works with the odd indices of $f$\n",
    "+ Additional O$(n)$ cost to piece everything back together.\n",
    "$$ y_k = E_k + \\omega_n^k O_k \\qquad y_{k+n/2} =E_k - \\omega_n^k O_k \\quad  k=0,\\dots,n/2-1. $$\n",
    "\n",
    "Key idea: apply this idea recursively."
   ]
  },
  {
   "cell_type": "code",
   "execution_count": 4,
   "metadata": {
    "slideshow": {
     "slide_type": "slide"
    }
   },
   "outputs": [],
   "source": [
    "def FFT(x):\n",
    "    \"\"\"A recursive implementation of the 1D Cooley-Tukey FFT\"\"\"\n",
    "    x = np.asarray(x, dtype=float)\n",
    "    N = x.shape[0]\n",
    "    \n",
    "    if N == 1:\n",
    "        return x\n",
    "    else:\n",
    "        X_even = FFT(x[::2])   #Even terms\n",
    "        X_odd = FFT(x[1::2])   #Odd terms\n",
    "        factor = np.exp(-2j * np.pi * np.arange(N/2)/ N)\n",
    "        y = np.zeros((N,), dtype = 'complex')\n",
    "        y[:N//2] = X_even + factor*X_odd\n",
    "        y[N//2:] = X_even - factor*X_odd\n",
    "        \n",
    "        return y"
   ]
  },
  {
   "cell_type": "code",
   "execution_count": 5,
   "metadata": {},
   "outputs": [
    {
     "data": {
      "text/plain": [
       "True"
      ]
     },
     "execution_count": 5,
     "metadata": {},
     "output_type": "execute_result"
    }
   ],
   "source": [
    "x = np.random.random(128)\n",
    "np.allclose(FFT(x), np.fft.fft(x))"
   ]
  },
  {
   "cell_type": "code",
   "execution_count": 6,
   "metadata": {
    "slideshow": {
     "slide_type": "skip"
    }
   },
   "outputs": [],
   "source": [
    "from time import time\n",
    "dft_time = []\n",
    "fft_time = []\n",
    "nruns = 3\n",
    "pf = 12\n",
    "for p in range(1,pf):\n",
    "    x = np.random.random(2**p)\n",
    "    \n",
    "    # Time DFT\n",
    "    t2 = 0\n",
    "    for j in range(nruns):\n",
    "        t1 = time()\n",
    "        y = DFT_slow(x)\n",
    "        t2 += time()-t1\n",
    "    \n",
    "    dft_time.append(t2/nruns)\n",
    "    \n",
    "    #Time FFT\n",
    "    t2 = 0\n",
    "    for j in range(nruns):\n",
    "        t1 = time()\n",
    "        y = FFT(x)\n",
    "        t2 += time()-t1\n",
    "    \n",
    "    fft_time.append(t2/nruns)"
   ]
  },
  {
   "cell_type": "markdown",
   "metadata": {
    "slideshow": {
     "slide_type": "slide"
    }
   },
   "source": [
    "## Timing and Computational Cost"
   ]
  },
  {
   "cell_type": "markdown",
   "metadata": {
    "slideshow": {
     "slide_type": "slide"
    }
   },
   "source": [
    "### Comparing DFT to FFT "
   ]
  },
  {
   "cell_type": "code",
   "execution_count": 7,
   "metadata": {},
   "outputs": [
    {
     "data": {
      "text/plain": [
       "<matplotlib.legend.Legend at 0x7fc14050e390>"
      ]
     },
     "execution_count": 7,
     "metadata": {},
     "output_type": "execute_result"
    },
    {
     "data": {
      "image/png": "[encoded data removed]",
      "text/plain": [
       "<Figure size 432x288 with 1 Axes>"
      ]
     },
     "metadata": {
      "needs_background": "light"
     },
     "output_type": "display_data"
    }
   ],
   "source": [
    "plt.loglog(2**np.arange(1,pf),np.array(dft_time), 'k-', 2**np.arange(1,pf),np.array(fft_time), 'r-')\n",
    "plt.legend(('DFT','FFT'), fontsize = 16)"
   ]
  },
  {
   "cell_type": "markdown",
   "metadata": {},
   "source": [
    "Although FFT is more efficient for large sizes, for relatively small sizes DFT appears to be more efficient. Partly this because the matrix-multiplication is written in Fortran, whereas our FFT is written in pure Python."
   ]
  },
  {
   "cell_type": "code",
   "execution_count": 8,
   "metadata": {
    "slideshow": {
     "slide_type": "skip"
    }
   },
   "outputs": [],
   "source": [
    "from time import time\n",
    "\n",
    "fft_time = []\n",
    "nruns = 3\n",
    "pf = 15\n",
    "for p in range(1,pf):\n",
    "    x = np.random.random(2**p)\n",
    "    #Time FFT\n",
    "    t2 = 0\n",
    "    for j in range(nruns):\n",
    "        t1 = time()\n",
    "        y = FFT(x)\n",
    "        t2 += time()-t1\n",
    "    \n",
    "    fft_time.append(t2/nruns)\n",
    "\n"
   ]
  },
  {
   "cell_type": "markdown",
   "metadata": {
    "slideshow": {
     "slide_type": "slide"
    }
   },
   "source": [
    "### Timing and cost of FFT\n",
    "\n",
    "The cost of FFT scales as $\\sim n\\log_2n$. This can be seen even in the naive implementation."
   ]
  },
  {
   "cell_type": "code",
   "execution_count": 9,
   "metadata": {},
   "outputs": [
    {
     "data": {
      "text/plain": [
       "<matplotlib.legend.Legend at 0x7fc0f0a70ed0>"
      ]
     },
     "execution_count": 9,
     "metadata": {},
     "output_type": "execute_result"
    },
    {
     "data": {
      "image/png": "[encoded data removed]",
      "text/plain": [
       "<Figure size 432x288 with 1 Axes>"
      ]
     },
     "metadata": {
      "needs_background": "light"
     },
     "output_type": "display_data"
    }
   ],
   "source": [
    "N = 2**np.arange(1,pf)\n",
    "plt.loglog( N,np.array(fft_time), 'r-', N, N*np.log2(N), 'k--')\n",
    "plt.legend(('FFT', '$n\\log_2 n$'), fontsize = 16)"
   ]
  },
  {
   "cell_type": "markdown",
   "metadata": {
    "slideshow": {
     "slide_type": "slide"
    }
   },
   "source": [
    "### Informal analysis of computational cost\n",
    "\n",
    "\n",
    "Let $n= 2^p$. \n",
    "+ There are $p = \\log_2(n)+ 1$ levels of recursion. \n",
    "+ At the lowest level, there are $n = 2^p$ DFTs of size $1$. This costs $\\mathcal{O}(n)$ flops.\n",
    "+ One level higher, we have to work with $n/2 = 2^{p-1}$ vectors of size $2$ each. This costs $\\mathcal{O}(n)$ flops.\n",
    "+ ...\n",
    "+ At the highest level we have to work with $2$ vectors of size $n/2 = 2^{p-1}$ each. This costs $\\mathcal{O}(n)$ flops.\n",
    "\n",
    "Therefore, total costs are \n",
    "$$ \\text{Cost} =  \\underbrace{\\mathcal{O}(n) +  \\mathcal{O}(\\frac{n}{2}  \\cdot 2  ) + \\dots + \\mathcal{O}(2 \\cdot \\frac{n}{2})}_\\text{p terms } = \\mathcal{O}(n\\log_2(n)) \\text{ flops}.  $$ "
   ]
  },
  {
   "cell_type": "markdown",
   "metadata": {
    "slideshow": {
     "slide_type": "slide"
    }
   },
   "source": [
    "## FFT as a factorization"
   ]
  },
  {
   "cell_type": "markdown",
   "metadata": {
    "slideshow": {
     "slide_type": "slide"
    }
   },
   "source": [
    "### Towards matrix-vector formulation\n",
    "\n",
    "Let $f_\\text{even} = [f_0, \\dots, f_{n-2}]^T$ and $f_\\text{odd} = [f_1,\\dots,f_{n-1}]^T$. Then we can write \n",
    "\n",
    "$$ \\begin{aligned} y_{1:\\frac{n}{2}} = & \\>  F_{\\frac{n}{2}} f_\\text{even} + \\Omega_{\\frac{n}{2}} F_{\\frac{n}{2}}f_\\text{odd} \\\\\n",
    "y_{\\frac{n}{2}+1:n} = & \\>  F_{\\frac{n}{2}} f_{even} - \\Omega_{\\frac{n}{2}} F_{\\frac{n}{2}}  f_\\text{odd} \\end{aligned}$$\n",
    "\n",
    "where \n",
    "\n",
    "+ $F_n$ is the Fourier matrix (note new convention)\n",
    "\n",
    "$$[F_n]_{jk} = \\omega_n^{(j-1)(k-1)} \\qquad j,k=1,\\dots,n$$ \n",
    "\n",
    "+ $\\Omega_{\\frac{n}{2}} = \\text{diag}(1,\\omega_n, \\dots, \\omega_n^{\\frac{n}{2}-1})$."
   ]
  },
  {
   "cell_type": "markdown",
   "metadata": {
    "slideshow": {
     "slide_type": "slide"
    }
   },
   "source": [
    "### Factorization of the Fourier Matrix \n",
    "\n",
    "We can write \n",
    "$$ F_n \\Pi_n = \\begin{bmatrix} F_{\\frac{n}{2}} & \\Omega_{\\frac{n}{2}} F_{\\frac{n}{2}} \\\\\n",
    "F_{\\frac{n}{2}} & -\\Omega_{\\frac{n}{2}} F_{\\frac{n}{2}}   \\end{bmatrix}, $$\n",
    "\n",
    "where $\\Pi_n$ is the even-odd shuffle permutation."
   ]
  },
  {
   "cell_type": "markdown",
   "metadata": {
    "slideshow": {
     "slide_type": "slide"
    }
   },
   "source": [
    "### Recursive factorization of the Fourier matrix\n",
    "Once again, let $n=2^p$. Then \n",
    "$$ F_n = A_p \\dots A_1 P_n.$$\n",
    "\n",
    "+ The matrices $A_q$ have the form\n",
    "$$ A_q = \\text{diag}(\\underbrace{B_L,\\dots,B_L}_\\text{r terms}) \\qquad B_L = \\begin{bmatrix} I & \\Omega_{\\frac{L}{2}}  \\\\ I & - \\Omega_{\\frac{L}{2}}   \\end{bmatrix}  \\qquad  L = 2^q, r = n/L, $$ \n",
    "+ $P_n$ is a bit-reversal matrix. \n",
    "\n",
    "The matrices $A_q$ are sparse, so a careful implementation can be done in $5n\\log_2(n)$ flops. "
   ]
  },
  {
   "cell_type": "markdown",
   "metadata": {
    "slideshow": {
     "slide_type": "slide"
    }
   },
   "source": [
    "## Shuffle permutation"
   ]
  },
  {
   "cell_type": "markdown",
   "metadata": {
    "slideshow": {
     "slide_type": "slide"
    }
   },
   "source": [
    "### Bit-reversal and shuffle permutation\n",
    "Consider $n = 2^3 = 8$. The structure of the operations is \n",
    "+ $\\{0,1,2,3,4,5,6,7\\}$\n",
    "+ $\\{0,2,4,6\\}$ and $\\{1,3,5,7\\}$\n",
    "+ $\\{0,4\\}$, $\\{2,6\\}$, $\\{1,5\\}$ and $\\{3,7\\}$\n",
    "+ $\\{0\\}$, $\\{4\\}$, $\\{2\\}$, $\\{6\\}$, $\\{1\\}$, $\\{5\\}$, $\\{3\\}$, and $\\{7\\}$   \n",
    "\n",
    "This last sequence can be generated very efficiently using the idea of bit reversal."
   ]
  },
  {
   "cell_type": "markdown",
   "metadata": {
    "slideshow": {
     "slide_type": "slide"
    }
   },
   "source": [
    "### Recall binary representation\n",
    "\n",
    "\n",
    "In general, any nonnegative integer less than $2^p$ has the binary representation\n",
    "$$ b_{p-1} 2^{p-1} +  \\dots + b_12^{1} + b_02^0 = (b_{p-1}\\dots b_{0})_2. $$ \n",
    "\n",
    "\n",
    "For example, if $n=2^3 = 8$, we can represent $5$ in binary as \n",
    "$$ 5 = 1\\cdot 2^2 + 0\\cdot 2^1 + 1\\cdot 2^0 = (101)_2.$$\n"
   ]
  },
  {
   "cell_type": "markdown",
   "metadata": {
    "slideshow": {
     "slide_type": "slide"
    }
   },
   "source": [
    "### Binary representation and the shuffle permutation\n",
    "\n",
    "| Number | Binary representation | Bit reversed | Number |\n",
    "| --- | ----------- | ----------- | ----------- | \n",
    "0 | 000 | 000 | 0 |\n",
    "1 | 001 | 100 | 4| \n",
    "2 | 010 | 010 | 2| \n",
    "3 | 011 | 110 | 6 | \n",
    "4 | 100 | 001 | 1 | \n",
    "5 | 101 | 101 | 5 |\n",
    "6 | 110 | 011 | 3 |\n",
    "7 | 111 | 111 | 7| \n",
    "\n",
    "By reversing the bits we get an efficient way of permutating the entries in a way to implement the FFT algorithm."
   ]
  },
  {
   "cell_type": "markdown",
   "metadata": {
    "slideshow": {
     "slide_type": "slide"
    }
   },
   "source": [
    "### General cases and extensions\n",
    "\n",
    "+ It is not uncommon to pick $2^p$ for computational convenience. \n",
    "+ A modern FFT code can handle the case when $n \\neq 2^p$. \n",
    "+ The case when $N = r_1\\dots r_p$ is explained in Dahlquist and Bjorck, Section 4.7.\n",
    "+ There are also fast algorithms for non-uniformly spaced FFT. \n",
    "\n",
    "Reading/References:\n",
    "+ Van Loan. Computational frameworks for the fast Fourier transform. SIAM, 1992.\n",
    "+ Dahlquist and Bjorck. Numerical Methods in Scientific Computing: Volume 1: SIAM, 2008.\n",
    "+ van der Plas. Understanding the FFT Algorithm. [notebook](https://nbviewer.jupyter.org/url/jakevdp.github.io/downloads/notebooks/UnderstandingTheFFT.ipynb)."
   ]
  }
 ],
 "metadata": {
  "celltoolbar": "Slideshow",
  "kernelspec": {
   "display_name": "Python 3",
   "language": "python",
   "name": "python3"
  },
  "language_info": {
   "codemirror_mode": {
    "name": "ipython",
    "version": 3
   },
   "file_extension": ".py",
   "mimetype": "text/x-python",
   "name": "python",
   "nbconvert_exporter": "python",
   "pygments_lexer": "ipython3",
   "version": "3.7.4"
  }
 },
 "nbformat": 4,
 "nbformat_minor": 2
}
