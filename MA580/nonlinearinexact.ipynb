{
 "cells": [
  {
   "cell_type": "code",
   "execution_count": 3,
   "metadata": {},
   "outputs": [],
   "source": [
    "import numpy as np\n",
    "import matplotlib.pyplot as plt\n",
    "\n",
    "%matplotlib inline\n",
    "plt.rcParams['figure.figsize'] = [10, 5]\n",
    "plt.rcParams['xtick.labelsize'] = 14\n",
    "plt.rcParams['ytick.labelsize'] = 14\n",
    "\n",
    "\n",
    "import scipy.linalg as sl\n",
    "import scipy.sparse as sp\n",
    "import scipy.sparse.linalg as spl"
   ]
  },
  {
   "cell_type": "markdown",
   "metadata": {},
   "source": [
    "### Implement Newton's and Inexact Newton's method"
   ]
  },
  {
   "cell_type": "code",
   "execution_count": 4,
   "metadata": {},
   "outputs": [],
   "source": [
    "from scipy.sparse.linalg import spsolve, gmres, spilu\n",
    "from scipy.sparse.linalg import LinearOperator\n",
    "\n",
    "def newton(F,J,x0, maxiter = 100, atol = 1.e-10, rtol = 1.e-10):\n",
    "    \"\"\"\n",
    "    Newton's method for solving F(x) = 0\n",
    "    \n",
    "    \"\"\"\n",
    "    \n",
    "    Fx0 = F(x0)\n",
    "    \n",
    "    reshist = []\n",
    "    \n",
    "    iterc = 0\n",
    "    xkm1 = np.copy(x0)\n",
    "    while True:\n",
    "        iterc += 1\n",
    "        \n",
    "        Fkm1 = F(xkm1)\n",
    "        Jkm1 = J(xkm1)\n",
    "        \n",
    "        resk = np.linalg.norm(Fkm1)/np.linalg.norm(Fx0)\n",
    "        reshist.append(resk)\n",
    "        print('The relative residual at step %d is %g' % (iterc, resk))\n",
    "    \n",
    "        #Factorize and solve\n",
    "        pk  = spsolve(Jkm1, -Fkm1)\n",
    "        \n",
    "        #Update the solution\n",
    "        xk = xkm1 + pk\n",
    "        \n",
    "        if (np.linalg.norm(F(xk)) <= atol + rtol*np.linalg.norm(Fx0)) or (iterc > maxiter): \n",
    "            break\n",
    "        \n",
    "        #Update for the next iteration\n",
    "        xkm1 = xk\n",
    "        \n",
    "        \n",
    "    return xk, iterc, reshist \n",
    "\n",
    "\n",
    "\n",
    "def newtongmres(F,J,x0, maxiter = 100, atol = 1.e-10, rtol = 1.e-10):\n",
    "    \"\"\"\n",
    "    Newton's method for solving F(x) = 0\n",
    "    \n",
    "    \"\"\"\n",
    "    \n",
    "    Fx0 = F(x0)\n",
    "    \n",
    "    reshist = []\n",
    "    \n",
    "    iterc = 0\n",
    "    xkm1 = np.copy(x0)\n",
    "    while True:\n",
    "        iterc += 1\n",
    "        \n",
    "        Fkm1 = F(xkm1)\n",
    "        Jkm1 = J(xkm1)\n",
    "        \n",
    "        resk = np.linalg.norm(Fkm1)/np.linalg.norm(Fx0)\n",
    "        \n",
    "        reshist.append(resk)\n",
    "        print('The relative residual at step %d is %g' % (iterc, resk))\n",
    "    \n",
    "        #Factorize and solve\n",
    "        prec = spilu(Jkm1)\n",
    "        M = LinearOperator((n**2,n**2), lambda x: prec.solve(x))\n",
    "        relres = 1.e-6*np.linalg.norm(Fkm1)\n",
    "        print(np.linalg.norm(relres))\n",
    "        pk, info  = gmres(Jkm1, -Fkm1, tol = relres, restart = 30)\n",
    "        \n",
    "        \n",
    "        #Update the solution\n",
    "        xk = xkm1 + pk\n",
    "        \n",
    "        if (np.linalg.norm(F(xk)) <= atol + rtol*np.linalg.norm(Fx0)) or (iterc > maxiter): \n",
    "            break\n",
    "        \n",
    "        #Update for the next iteration\n",
    "        xkm1 = xk\n",
    "        \n",
    "        \n",
    "    return xk, iterc, reshist \n",
    "    "
   ]
  },
  {
   "cell_type": "markdown",
   "metadata": {},
   "source": [
    "### 2D Nonlinear Example\n",
    "\n",
    "\n",
    "Consider the nonlinear PDE in two spatial dimensions\n",
    "$$ -\\kappa \\Delta u + cu^3 = f, $$\n",
    "with zero Dirichlet boundary conditions. Here $\\Delta$ is the Laplacian operator and \n",
    "\n",
    "$$ f(x_1,x_2) = -2\\pi^2 \\left(\\cos(2\\pi x_1)\\sin^2(2\\pi x_2) + \\sin^2(2\\pi x_1)\\cos(2\\pi x_2) \\right). $$\n",
    "\n",
    "\n",
    "### Nonlinear equation and Jacobian\n",
    "After discretization, the nonlinear equation becomes\n",
    "$$ F(u) = \\kappa A u + cu^3 - b, $$\n",
    "where $A$ represents the discretized Laplacian operator and $b$ represents the discretization of $f$. \n",
    "\n",
    "\n",
    "The Jacobian operator is \n",
    "$$ J(u) = \\kappa  A + 3c\\text{diag}(u^2) \\in \\mathbb{R}^{n\\times n}.$$"
   ]
  },
  {
   "cell_type": "markdown",
   "metadata": {},
   "source": [
    "#### Construct the operator"
   ]
  },
  {
   "cell_type": "code",
   "execution_count": 7,
   "metadata": {},
   "outputs": [],
   "source": [
    "kappa = 0.1\n",
    "c = 100\n",
    "\n",
    "\n",
    "n = 2**8\n",
    "h = 1/(n+1)\n",
    "e = np.ones((n,))\n",
    "A = sp.spdiags([-e,2*e,-e], [-1,0,1], n, n, format = 'csc')\n",
    "B = (kappa/h**2.)*sp.kronsum(A, A)\n",
    "\n",
    "x = np.arange(1,n+1)*h\n",
    "X,Y = np.meshgrid(x,x)\n",
    "\n",
    "Fh = -(2*np.pi**2)*(np.cos(2*np.pi*X)*np.sin(np.pi*Y)**2. + np.sin(np.pi*X)**2.*np.cos(2*np.pi*Y))\n",
    "b  = Fh.reshape((-1,))\n",
    "\n",
    "\n",
    "F2d = lambda u: (B@u) + c*u**3. - b\n",
    "J2d = lambda u: B + sp.spdiags([3*c*u**2.], [0], n**2, n**2, format = 'csc')"
   ]
  },
  {
   "cell_type": "code",
   "execution_count": 8,
   "metadata": {},
   "outputs": [
    {
     "name": "stdout",
     "output_type": "stream",
     "text": [
      "The relative residual at step 1 is 1\n",
      "0.003576652582824119\n",
      "The relative residual at step 2 is 1594.85\n",
      "5.70421758679535\n",
      "The relative residual at step 3 is 571.582\n",
      "2.0443501238288437\n",
      "The relative residual at step 4 is 189.5\n",
      "0.6777750648948712\n",
      "The relative residual at step 5 is 60.5235\n",
      "0.21647171070970278\n",
      "The relative residual at step 6 is 18.8923\n",
      "0.06757107786701433\n",
      "The relative residual at step 7 is 5.61172\n",
      "0.020071182693613906\n",
      "The relative residual at step 8 is 1.59991\n",
      "0.005722323638507073\n",
      "The relative residual at step 9 is 0.512902\n",
      "0.0018344731150914868\n",
      "The relative residual at step 10 is 0.228365\n",
      "0.0008167828359635981\n",
      "The relative residual at step 11 is 0.0318312\n",
      "0.00011384899751062357\n",
      "The relative residual at step 12 is 0.000746781\n",
      "2.6709753699708305e-06\n",
      "The relative residual at step 13 is 5.94989e-07\n",
      "2.128070306201985e-09\n"
     ]
    }
   ],
   "source": [
    "u0 = np.zeros((n**2,))\n",
    "us, iterc, reshist = newtongmres(F2d,J2d,u0, maxiter = 100)"
   ]
  },
  {
   "cell_type": "code",
   "execution_count": null,
   "metadata": {},
   "outputs": [],
   "source": [
    "#### Plot the relative residual\n",
    "\n",
    "plt.figure()\n",
    "plt.semilogy(range(1,len(reshist)+1), reshist, 'k-')\n",
    "plt.xlabel('Iterations', fontsize = 16)\n",
    "plt.ylabel('$\\|F(x_k)\\|_2/ \\|F(x_0)\\|_2$', fontsize = 16)\n",
    "plt.title('Relative Residual History', fontsize = 18)"
   ]
  },
  {
   "cell_type": "code",
   "execution_count": null,
   "metadata": {},
   "outputs": [],
   "source": [
    "\n",
    "plt.pcolormesh(X,Y,us.reshape((n,n)))\n",
    "plt.colorbar()\n",
    "plt.title('Reconstructed Solution', fontsize = 16)"
   ]
  }
 ],
 "metadata": {
  "kernelspec": {
   "display_name": "Python 3",
   "language": "python",
   "name": "python3"
  },
  "language_info": {
   "codemirror_mode": {
    "name": "ipython",
    "version": 3
   },
   "file_extension": ".py",
   "mimetype": "text/x-python",
   "name": "python",
   "nbconvert_exporter": "python",
   "pygments_lexer": "ipython3",
   "version": "3.7.4"
  }
 },
 "nbformat": 4,
 "nbformat_minor": 2
}
