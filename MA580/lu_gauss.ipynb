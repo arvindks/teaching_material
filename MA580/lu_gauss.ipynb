{
 "cells": [
  {
   "cell_type": "code",
   "execution_count": 1,
   "metadata": {},
   "outputs": [],
   "source": [
    "import numpy as np\n",
    "import matplotlib.pyplot as plt\n",
    "\n",
    "%matplotlib inline\n",
    "plt.rcParams['figure.figsize'] = [10, 5]\n",
    "plt.rcParams['xtick.labelsize'] = 14\n",
    "plt.rcParams['ytick.labelsize'] = 14"
   ]
  },
  {
   "cell_type": "markdown",
   "metadata": {},
   "source": [
    "### LU factorization and Pivoted LU factorization"
   ]
  },
  {
   "cell_type": "code",
   "execution_count": 2,
   "metadata": {},
   "outputs": [
    {
     "name": "stdout",
     "output_type": "stream",
     "text": [
      "A is \n",
      " [[ 0.49647589  0.27283796 -0.48524756  0.63451585]\n",
      " [ 1.06258711 -0.06409212  1.94856162  2.1951328 ]\n",
      " [-0.97964329  1.06853177  0.51300359 -0.58631535]\n",
      " [ 0.88031483  0.70104784 -0.80081056  0.08416447]]\n",
      "L is \n",
      " [[ 1.          0.          0.          0.        ]\n",
      " [ 2.14025925  1.          0.          0.        ]\n",
      " [-1.97319409 -2.47963667  1.          0.        ]\n",
      " [ 1.77312706 -0.33527683  0.15240346  1.        ]]\n",
      "U is \n",
      " [[ 0.49647589  0.27283796 -0.48524756  0.63451585]\n",
      " [ 0.         -0.64803607  2.98711721  0.83710437]\n",
      " [ 0.          0.          6.96248132  2.74142229]\n",
      " [ 0.          0.          0.         -1.17805328]]\n",
      "L * U is \n",
      " [[ 0.49647589  0.27283796 -0.48524756  0.63451585]\n",
      " [ 1.06258711 -0.06409212  1.94856162  2.1951328 ]\n",
      " [-0.97964329  1.06853177  0.51300359 -0.58631535]\n",
      " [ 0.88031483  0.70104784 -0.80081056  0.08416447]]\n",
      "\n",
      "Other statistics\n",
      "\n",
      "Relative error is  1.0615306546383086e-16\n",
      "\\|L\\|_\\infty is  5.452830759101631\n",
      "\\|U\\|_\\infty is  9.703903609795905\n"
     ]
    }
   ],
   "source": [
    "def lu_overwrite(At):\n",
    "    \"\"\"\n",
    "    Performs Gaussian elimination without any pivoting\n",
    "    Overwrites the entries of A with L and U\n",
    "    \n",
    "    Use scipy.linalg.lu_factor in practice!\n",
    "    \n",
    "    \"\"\"\n",
    "    \n",
    "    A = np.copy(At)\n",
    "    \n",
    "    n = A.shape[0]\n",
    "    for k in range(n-1):\n",
    "        # Check if the pivot is tiny, and break if it is\n",
    "        assert(np.abs(A[k,k]) > 10**(-16) )\n",
    "        \n",
    "        # Compute L factor (L_{i,k} = a_{ik}/a_{kk})\n",
    "        A[k+1:n,k] /= A[k,k]\n",
    "        \n",
    "        # Update U factor in place. This combines two different steps\n",
    "        # copying a row of U. Updating \\tilde{A}_{22}\n",
    "        A[k+1:n,k+1:n] -= np.outer(A[k+1:n,k], A[k, k+1:n])\n",
    "        \n",
    "    return A\n",
    "\n",
    "def test_lu_overwrite(n = 3):\n",
    "    At = np.random.randn(n,n)\n",
    "    print('A is \\n', At)\n",
    "    \n",
    "    A = lu_overwrite(At)\n",
    "    \n",
    "    #Extract L\n",
    "    L = np.tril(A,-1) + np.eye(A.shape[0])\n",
    "    print('L is \\n', L)\n",
    "    \n",
    "    U = np.triu(A)\n",
    "    print('U is \\n', U)\n",
    "    \n",
    "    print('L * U is \\n', L @ U)\n",
    "    \n",
    "    \n",
    "    print('')\n",
    "    print('Other statistics')\n",
    "    print('')\n",
    "    \n",
    "    print('Relative error is ', np.linalg.norm(At - L@U)/np.linalg.norm(At))\n",
    "    print('\\|L\\|_\\infty is ', np.linalg.norm(L, np.inf))\n",
    "    print('\\|U\\|_\\infty is ', np.linalg.norm(U, np.inf))\n",
    "   \n",
    "    \n",
    "    return\n",
    "test_lu_overwrite(4)"
   ]
  },
  {
   "cell_type": "markdown",
   "metadata": {},
   "source": [
    "### Gaussian Elimination with partial pivoting"
   ]
  },
  {
   "cell_type": "code",
   "execution_count": 3,
   "metadata": {},
   "outputs": [],
   "source": [
    "def plu_overwrite(At):\n",
    "    \"\"\"\n",
    "    Performs Gaussian elimination with partial pivoting\n",
    "    Overwrites the entries of A with L and U\n",
    "    \n",
    "    Use scipy.linalg.lu_factor in practice!\n",
    "    \n",
    "    \"\"\"\n",
    "    \n",
    "    A = np.copy(At)\n",
    "    n = A.shape[0]\n",
    "    \n",
    "    #Store permutations\n",
    "    p = np.arange(n)\n",
    "    \n",
    "    for k in range(n-1):\n",
    "        #Determine pivot by looking at k^th column\n",
    "        mu = k + np.argmax(np.abs(A[k:,k]))\n",
    "         \n",
    "        #Swap rows based on the pivot\n",
    "        p[k], p[mu] = p[mu], p[k]  ## Row swaps in the permutation matrix\n",
    "        A[[k,mu],:] = A[[mu,k],:]  ## Row swaps in both L and U\n",
    "        \n",
    "        assert(np.abs(A[k,k]) > 10**(-16) )\n",
    "        \n",
    "        # Computing the L factor\n",
    "        A[k+1:n,k] /= A[k,k]\n",
    "        \n",
    "        # Updating the U factor and the A_22 factor\n",
    "        # In practice, this would be a double for loop \n",
    "        A[k+1:n,k+1:n] -= np.outer(A[k+1:n,k], A[k, k+1:n])\n",
    "        \n",
    "        \n",
    "    return A, p"
   ]
  },
  {
   "cell_type": "code",
   "execution_count": 4,
   "metadata": {},
   "outputs": [
    {
     "name": "stdout",
     "output_type": "stream",
     "text": [
      "Original A is \n",
      " [[-0.1319225  -0.59405486 -1.31945513  0.39254509  1.71284026]\n",
      " [ 0.35237369  0.50347504  0.12012733 -0.55725229  1.63797659]\n",
      " [ 1.74666079 -1.06731482  0.54090972 -0.62397699  1.29837884]\n",
      " [-0.10993593 -2.04981121  1.63364009 -0.4082458  -0.23499277]\n",
      " [-0.76644498  0.85641425 -1.64048986  1.92765741 -0.1947538 ]]\n",
      "\n",
      "P * A is \n",
      " [[ 1.74666079 -1.06731482  0.54090972 -0.62397699  1.29837884]\n",
      " [-0.10993593 -2.04981121  1.63364009 -0.4082458  -0.23499277]\n",
      " [-0.1319225  -0.59405486 -1.31945513  0.39254509  1.71284026]\n",
      " [-0.76644498  0.85641425 -1.64048986  1.92765741 -0.1947538 ]\n",
      " [ 0.35237369  0.50347504  0.12012733 -0.55725229  1.63797659]]\n",
      "\n",
      "L *U is \n",
      " [[ 1.74666079 -1.06731482  0.54090972 -0.62397699  1.29837884]\n",
      " [-0.10993593 -2.04981121  1.63364009 -0.4082458  -0.23499277]\n",
      " [-0.1319225  -0.59405486 -1.31945513  0.39254509  1.71284026]\n",
      " [-0.76644498  0.85641425 -1.64048986  1.92765741 -0.1947538 ]\n",
      " [ 0.35237369  0.50347504  0.12012733 -0.55725229  1.63797659]]\n",
      "\n",
      "Other statistics\n",
      "\n",
      "Relative error is  7.53595739659533e-17\n",
      "\\|L\\|_\\infty is  2.2284056311771994\n",
      "\\|U\\|_\\infty is  5.2772411528867025\n"
     ]
    }
   ],
   "source": [
    "def test_plu(n):\n",
    "    At = np.random.randn(n,n)\n",
    "    print('Original A is \\n', At)\n",
    "    \n",
    "    A, p = plu_overwrite(At)\n",
    "    \n",
    "    #Extract L and U\n",
    "    L = np.tril(A,-1) + np.eye(A.shape[0])\n",
    "    U = np.triu(A)\n",
    "\n",
    "    \n",
    "    #Compute PA\n",
    "    PA = At[p,:]\n",
    "    print('')\n",
    "    print('P * A is \\n', PA)\n",
    "    print('')\n",
    "    print('L *U is \\n', L @ U)\n",
    "    \n",
    "    print('')\n",
    "    print('Other statistics')\n",
    "    print('')\n",
    "    \n",
    "    print('Relative error is ', np.linalg.norm(PA - L@U)/np.linalg.norm(PA))\n",
    "    print('\\|L\\|_\\infty is ', np.linalg.norm(L, np.inf))\n",
    "    print('\\|U\\|_\\infty is ', np.linalg.norm(U, np.inf))\n",
    "    \n",
    "    \n",
    "    return\n",
    "test_plu(5)"
   ]
  },
  {
   "cell_type": "markdown",
   "metadata": {},
   "source": [
    "### Timing\n",
    "\n",
    "To show timing results, I will use the standard libraries which have much better implementations."
   ]
  },
  {
   "cell_type": "code",
   "execution_count": 5,
   "metadata": {},
   "outputs": [],
   "source": [
    "import scipy.linalg as sl\n",
    "import time \n",
    "\n",
    "nlst = np.arange(100,4000,500)\n",
    "\n",
    "fact_time = np.zeros((nlst.size,))\n",
    "solv_time = np.zeros((nlst.size,))\n",
    "\n",
    "# Number of runs over which to average\n",
    "nruns = 3\n",
    "for j, n in enumerate(nlst):\n",
    "    A = np.random.randn(n,n)\n",
    "    b = np.random.randn(n)\n",
    "    for k in range(nruns):\n",
    "        # Compute factorize time\n",
    "        temp = time.time()\n",
    "        lu, piv = sl.lu_factor(A)\n",
    "        fact_time[j] += time.time() - temp\n",
    "        \n",
    "        \n",
    "        #Compute solve time\n",
    "        temp = time.time()\n",
    "        x = sl.solve_triangular(lu,b) # solves upper triangular part\n",
    "        solv_time[j] += time.time() - temp\n",
    "        \n",
    "fact_time /= nruns\n",
    "solv_time /= nruns"
   ]
  },
  {
   "cell_type": "code",
   "execution_count": 6,
   "metadata": {},
   "outputs": [
    {
     "data": {
      "text/plain": [
       "Text(0.5, 0, 'Matrix size n')"
      ]
     },
     "execution_count": 6,
     "metadata": {},
     "output_type": "execute_result"
    },
    {
     "data": {
      "image/png": "[encoded data removed]",
      "text/plain": [
       "<Figure size 720x288 with 2 Axes>"
      ]
     },
     "metadata": {
      "needs_background": "light"
     },
     "output_type": "display_data"
    }
   ],
   "source": [
    "f, (ax1, ax2 ) = plt.subplots(1,2, figsize = (10,4))\n",
    "ax1.loglog(nlst, fact_time, 'r-', nlst, 10**(-11)*nlst**3, 'r--')\n",
    "ax1.legend(('Factorization time', '$O(n^3)$'), fontsize = 12)\n",
    "ax1.set_title('Factorization', fontsize = 18)\n",
    "ax1.set_xlabel('Matrix size n', fontsize = 14)\n",
    "ax1.set_ylabel('Time [s]', fontsize = 14)\n",
    "\n",
    "ax2.loglog(nlst, solv_time, 'k-', nlst, 10**(-9)*nlst**2, 'k--')\n",
    "ax2.legend(('Solve time', '$O(n^2)$'), fontsize = 12)\n",
    "ax2.set_title('Solve', fontsize = 18)\n",
    "ax2.set_xlabel('Matrix size n', fontsize = 14)"
   ]
  },
  {
   "cell_type": "markdown",
   "metadata": {},
   "source": [
    "**Bottom line**: factorization is a lot faster than inverting. This is one of the reasons, you should not compute the inverse. Almost anything you can do with the inverse, you can do with the factorization!"
   ]
  },
  {
   "cell_type": "markdown",
   "metadata": {},
   "source": [
    "### Growth factors and backwards stability\n",
    "\n",
    "The growth factor in Gaussian elimination is \n",
    "$$ g_{PP} = \\frac{\\|U\\|_{\\max}}{\\| A \\|_{\\max}} = \\frac{\\max_{ij} |u_{ij}|}{\\max_{ij} |a_{ij}|}.$$\n",
    "\n",
    "We will plot the \"distribution\" of growth factors for random matrices of various sizes."
   ]
  },
  {
   "cell_type": "code",
   "execution_count": 7,
   "metadata": {},
   "outputs": [
    {
     "data": {
      "text/plain": [
       "Text(0.5, 0.98, 'Histogram of Growth Factor')"
      ]
     },
     "execution_count": 7,
     "metadata": {},
     "output_type": "execute_result"
    },
    {
     "data": {
      "image/png": "[encoded data removed]",
      "text/plain": [
       "<Figure size 432x288 with 4 Axes>"
      ]
     },
     "metadata": {
      "needs_background": "light"
     },
     "output_type": "display_data"
    }
   ],
   "source": [
    "nlst = [25, 50, 75, 100]\n",
    "\n",
    "import scipy.linalg as sl\n",
    "growth = np.zeros((1000,len(nlst)))\n",
    "\n",
    "for j, n in enumerate(nlst):\n",
    "    for k in range(1000):\n",
    "        A = np.random.randn(n,n)\n",
    "        p, l, u = sl.lu(A)\n",
    "        growth[k,j] = np.linalg.norm(u.ravel(), np.inf)/np.linalg.norm(A.ravel(), np.inf)\n",
    "\n",
    "\n",
    "# Plot growth factors\n",
    "f, axarray = plt.subplots(2,2, sharex = True, sharey = True)\n",
    "for j, ax in enumerate(axarray.flatten()):\n",
    "    ax.hist(growth[:,j])\n",
    "    ax.set_title('n = %g' % (nlst[j]))   \n",
    "    \n",
    "f.suptitle('Histogram of Growth Factor', fontsize = 18)"
   ]
  },
  {
   "cell_type": "markdown",
   "metadata": {},
   "source": [
    "This next plot shows that the growth factor for random matrices is $g_{PP} \\sim \\sqrt{n}$."
   ]
  },
  {
   "cell_type": "code",
   "execution_count": 8,
   "metadata": {},
   "outputs": [
    {
     "data": {
      "text/plain": [
       "Text(0.5, 1.0, 'Growth of growth factor')"
      ]
     },
     "execution_count": 8,
     "metadata": {},
     "output_type": "execute_result"
    },
    {
     "data": {
      "image/png": "[encoded data removed]",
      "text/plain": [
       "<Figure size 432x288 with 1 Axes>"
      ]
     },
     "metadata": {
      "needs_background": "light"
     },
     "output_type": "display_data"
    }
   ],
   "source": [
    "nlst = np.arange(10,200,10)\n",
    "\n",
    "growth = np.zeros((100,len(nlst)))\n",
    "\n",
    "\n",
    "for j, n in enumerate(nlst):\n",
    "    for k in range(100):\n",
    "        A = np.random.randn(n,n)\n",
    "        p, l, u = sl.lu(A)\n",
    "        growth[k,j] = np.linalg.norm(u.ravel(), np.inf)/np.linalg.norm(A.ravel(), np.inf)\n",
    "    \n",
    "    plt.loglog(n*np.ones((100,)),growth[:,j],'k.')\n",
    "    \n",
    "plt.loglog(nlst,np.sqrt(nlst), 'r--')\n",
    "plt.xlabel('n', fontsize = 16)\n",
    "plt.ylabel('$g_{PP}$', fontsize = 16)\n",
    "plt.text(40, 8, '$n^{1/2}$', fontdict={'fontsize':16})\n",
    "plt.title('Growth of growth factor', fontsize = 18)"
   ]
  },
  {
   "cell_type": "markdown",
   "metadata": {},
   "source": [
    "### More on forward and backward stability"
   ]
  },
  {
   "cell_type": "code",
   "execution_count": 9,
   "metadata": {},
   "outputs": [],
   "source": [
    "import scipy.linalg as sl\n",
    "import time "
   ]
  },
  {
   "cell_type": "code",
   "execution_count": 10,
   "metadata": {},
   "outputs": [],
   "source": [
    "def evilmatrix(n):\n",
    "    \n",
    "    L = np.tril(-np.ones((n,n)), -1) + np.eye(n)\n",
    "    U = np.eye(n)\n",
    "    U[:,-1] = 2**np.arange(n)\n",
    "    \n",
    "    A = np.tril(-np.ones((n,n)), -1) + np.eye(n)\n",
    "    A[:,-1] = np.ones((n,))\n",
    "    \n",
    "    return L, U, A"
   ]
  },
  {
   "cell_type": "code",
   "execution_count": 11,
   "metadata": {},
   "outputs": [
    {
     "name": "stdout",
     "output_type": "stream",
     "text": [
      "L is \n",
      "\n",
      "[[ 1.  0.  0.  0.  0.]\n",
      " [-1.  1.  0.  0.  0.]\n",
      " [-1. -1.  1.  0.  0.]\n",
      " [-1. -1. -1.  1.  0.]\n",
      " [-1. -1. -1. -1.  1.]]\n",
      "U is \n",
      "\n",
      "[[ 1.  0.  0.  0.  1.]\n",
      " [ 0.  1.  0.  0.  2.]\n",
      " [ 0.  0.  1.  0.  4.]\n",
      " [ 0.  0.  0.  1.  8.]\n",
      " [ 0.  0.  0.  0. 16.]]\n",
      "A is \n",
      "\n",
      "[[ 1.  0.  0.  0.  1.]\n",
      " [-1.  1.  0.  0.  1.]\n",
      " [-1. -1.  1.  0.  1.]\n",
      " [-1. -1. -1.  1.  1.]\n",
      " [-1. -1. -1. -1.  1.]]\n"
     ]
    }
   ],
   "source": [
    "L, U, A = evilmatrix(5)\n",
    "print('L is \\n')\n",
    "print(L)\n",
    "print('U is \\n')\n",
    "print(U)\n",
    "print('A is \\n')\n",
    "print(A)"
   ]
  },
  {
   "cell_type": "markdown",
   "metadata": {},
   "source": [
    "#### LU factorization on the \"evil matrix\""
   ]
  },
  {
   "cell_type": "code",
   "execution_count": 12,
   "metadata": {},
   "outputs": [],
   "source": [
    "nlst = np.arange(2,100,2)\n",
    "\n",
    "errr = np.zeros((nlst.size,))\n",
    "errs = np.zeros((nlst.size,))\n",
    "\n",
    "\n",
    "\n",
    "growth = np.zeros((nlst.size,))\n",
    "cond   = np.zeros((nlst.size))\n",
    "\n",
    "for j,n in enumerate(nlst):\n",
    "    \n",
    "    x = np.ones((n,), dtype = 'b')\n",
    "    L,U,A = evilmatrix(n)\n",
    "  \n",
    "    growth[j] = np.linalg.norm(U, np.inf)/np.linalg.norm(A, np.inf)\n",
    "    \n",
    "    b = A @ x\n",
    "    xa = sl.solve(A, b)\n",
    "    \n",
    "    #forward ||x-xhat||/||x||\n",
    "    errs[j] = np.linalg.norm(xa-x)/np.linalg.norm(x)\n",
    "    #residual ||r||/ ||b||   r= Axhat - b\n",
    "    errr[j] = np.linalg.norm(A@xa - b)/np.linalg.norm(b)\n",
    "    \n",
    "    cond[j] = np.linalg.cond(A)"
   ]
  },
  {
   "cell_type": "code",
   "execution_count": 13,
   "metadata": {},
   "outputs": [
    {
     "data": {
      "text/plain": [
       "<matplotlib.legend.Legend at 0x7fe90d010f60>"
      ]
     },
     "execution_count": 13,
     "metadata": {},
     "output_type": "execute_result"
    },
    {
     "data": {
      "image/png": "[encoded data removed]",
      "text/plain": [
       "<Figure size 576x288 with 2 Axes>"
      ]
     },
     "metadata": {
      "needs_background": "light"
     },
     "output_type": "display_data"
    }
   ],
   "source": [
    "f, (ax1,ax2) = plt.subplots(1,2, figsize = (8,4))\n",
    "\n",
    "ax1.semilogy(nlst, errs, nlst, errr, lw = 2)\n",
    "ax1.legend(('$\\|x-\\hat{x}\\|_2/ \\|x\\|_2$', '$\\|r\\|_2/\\|b\\|_2$'), loc = 'upper left')\n",
    "\n",
    "ax2.semilogy(nlst, growth, nlst, cond)\n",
    "ax2.legend(('Growth Factor', 'Condition number'), loc = 'upper left')"
   ]
  },
  {
   "cell_type": "markdown",
   "metadata": {},
   "source": [
    "#### LU factorization on the Hilbert matrix\n",
    "\n",
    "The Hilbert matrix has entries \n",
    "$$ H_{ij} = \\frac{1}{i+j-1} \\qquad i,j = 1,\\dots,n$$\n",
    "is known to be ill-conditioned and its inverse has integer entries."
   ]
  },
  {
   "cell_type": "code",
   "execution_count": 14,
   "metadata": {},
   "outputs": [
    {
     "name": "stderr",
     "output_type": "stream",
     "text": [
      "/Users/arvindks/anaconda2/envs/py37/lib/python3.7/site-packages/ipykernel_launcher.py:30: LinAlgWarning: Ill-conditioned matrix (rcond=2.34967e-17): result may not be accurate.\n",
      "/Users/arvindks/anaconda2/envs/py37/lib/python3.7/site-packages/ipykernel_launcher.py:30: LinAlgWarning: Ill-conditioned matrix (rcond=1.01671e-18): result may not be accurate.\n",
      "/Users/arvindks/anaconda2/envs/py37/lib/python3.7/site-packages/ipykernel_launcher.py:30: LinAlgWarning: Ill-conditioned matrix (rcond=1.1839e-19): result may not be accurate.\n",
      "/Users/arvindks/anaconda2/envs/py37/lib/python3.7/site-packages/ipykernel_launcher.py:30: LinAlgWarning: Ill-conditioned matrix (rcond=4.28875e-19): result may not be accurate.\n",
      "/Users/arvindks/anaconda2/envs/py37/lib/python3.7/site-packages/ipykernel_launcher.py:30: LinAlgWarning: Ill-conditioned matrix (rcond=1.42901e-19): result may not be accurate.\n",
      "/Users/arvindks/anaconda2/envs/py37/lib/python3.7/site-packages/ipykernel_launcher.py:30: LinAlgWarning: Ill-conditioned matrix (rcond=2.20468e-19): result may not be accurate.\n",
      "/Users/arvindks/anaconda2/envs/py37/lib/python3.7/site-packages/ipykernel_launcher.py:30: LinAlgWarning: Ill-conditioned matrix (rcond=1.72855e-20): result may not be accurate.\n",
      "/Users/arvindks/anaconda2/envs/py37/lib/python3.7/site-packages/ipykernel_launcher.py:30: LinAlgWarning: Ill-conditioned matrix (rcond=7.80369e-20): result may not be accurate.\n",
      "/Users/arvindks/anaconda2/envs/py37/lib/python3.7/site-packages/ipykernel_launcher.py:30: LinAlgWarning: Ill-conditioned matrix (rcond=2.91532e-19): result may not be accurate.\n",
      "/Users/arvindks/anaconda2/envs/py37/lib/python3.7/site-packages/ipykernel_launcher.py:30: LinAlgWarning: Ill-conditioned matrix (rcond=8.28646e-20): result may not be accurate.\n",
      "/Users/arvindks/anaconda2/envs/py37/lib/python3.7/site-packages/ipykernel_launcher.py:30: LinAlgWarning: Ill-conditioned matrix (rcond=5.52851e-20): result may not be accurate.\n",
      "/Users/arvindks/anaconda2/envs/py37/lib/python3.7/site-packages/ipykernel_launcher.py:30: LinAlgWarning: Ill-conditioned matrix (rcond=2.41606e-20): result may not be accurate.\n",
      "/Users/arvindks/anaconda2/envs/py37/lib/python3.7/site-packages/ipykernel_launcher.py:30: LinAlgWarning: Ill-conditioned matrix (rcond=7.14519e-20): result may not be accurate.\n",
      "/Users/arvindks/anaconda2/envs/py37/lib/python3.7/site-packages/ipykernel_launcher.py:30: LinAlgWarning: Ill-conditioned matrix (rcond=3.8639e-20): result may not be accurate.\n"
     ]
    },
    {
     "data": {
      "text/plain": [
       "<matplotlib.legend.Legend at 0x7fe90d42e5c0>"
      ]
     },
     "execution_count": 14,
     "metadata": {},
     "output_type": "execute_result"
    },
    {
     "data": {
      "image/png": "[encoded data removed]",
      "text/plain": [
       "<Figure size 576x288 with 2 Axes>"
      ]
     },
     "metadata": {
      "needs_background": "light"
     },
     "output_type": "display_data"
    }
   ],
   "source": [
    "def hilbert(n):\n",
    "    A = np.zeros((n,n))\n",
    "    for i in range(n):\n",
    "        for j in range(n):\n",
    "            A[i,j] = 1/(i+j+1)\n",
    "            \n",
    "    return A\n",
    "\n",
    "nlst = np.arange(2,40,2)\n",
    "\n",
    "errr = np.zeros((nlst.size,))\n",
    "errs = np.zeros((nlst.size,))\n",
    "\n",
    "\n",
    "\n",
    "growth = np.zeros((nlst.size,))\n",
    "cond   = np.zeros((nlst.size))\n",
    "\n",
    "\n",
    "for j,n in enumerate(nlst):\n",
    "    \n",
    "    x = np.ones((n,), dtype = 'b')\n",
    "    A = hilbert(n)\n",
    "      \n",
    "    P,L,U = sl.lu(A,permute_l=False)\n",
    "\n",
    "    growth[j] = np.linalg.norm(U, np.inf)/np.linalg.norm(A, np.inf)\n",
    "    \n",
    "    b = A @ x\n",
    "    xa = sl.solve(A, b)\n",
    "    \n",
    "    errs[j] = np.linalg.norm(xa-x)/np.linalg.norm(x)\n",
    "    errr[j] = np.linalg.norm(A@xa - b)/np.linalg.norm(b)\n",
    "    \n",
    "    cond[j] = np.linalg.cond(A)\n",
    "    \n",
    "f, (ax1,ax2) = plt.subplots(1,2, figsize = (8,4))\n",
    "\n",
    "ax1.semilogy(nlst, errs, nlst, errr, lw = 2)\n",
    "ax1.legend(('$\\|x-\\hat{x}\\|_2/ \\|x\\|_2$', '$\\|r\\|_2/\\|b\\|_2$'), loc = 'right')\n",
    "\n",
    "ax2.semilogy(nlst, growth, nlst, cond)\n",
    "ax2.legend(('Growth Factor', 'Condition number'), loc = 'right')"
   ]
  },
  {
   "cell_type": "code",
   "execution_count": 15,
   "metadata": {},
   "outputs": [
    {
     "name": "stdout",
     "output_type": "stream",
     "text": [
      "[1. 1. 1. 1. 1. 1. 1. 1. 1. 1. 1. 1. 1. 1. 1. 1. 1. 1. 1.]\n"
     ]
    }
   ],
   "source": [
    "print(growth)"
   ]
  }
 ],
 "metadata": {
  "kernelspec": {
   "display_name": "Python 3",
   "language": "python",
   "name": "python3"
  },
  "language_info": {
   "codemirror_mode": {
    "name": "ipython",
    "version": 3
   },
   "file_extension": ".py",
   "mimetype": "text/x-python",
   "name": "python",
   "nbconvert_exporter": "python",
   "pygments_lexer": "ipython3",
   "version": "3.7.3"
  }
 },
 "nbformat": 4,
 "nbformat_minor": 2
}
